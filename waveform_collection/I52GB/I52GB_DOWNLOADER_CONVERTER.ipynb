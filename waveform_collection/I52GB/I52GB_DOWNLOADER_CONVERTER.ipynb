{
 "cells": [
  {
   "cell_type": "code",
   "execution_count": null,
   "metadata": {},
   "outputs": [],
   "source": [
    "import obspy\n",
    "from obspy import UTCDateTime\n",
    "from obspy.clients.fdsn.mass_downloader import GlobalDomain, \\\n",
    "    Restrictions, MassDownloader\n",
    "\n",
    "# Rectangular domain containing parts of southern Germany.\n",
    "domain = GlobalDomain()\n",
    "\n",
    "restrictions = Restrictions(\n",
    "    # Get data for a whole year.\n",
    "    starttime=obspy.UTCDateTime(2018, 6, 24),\n",
    "    endtime=obspy.UTCDateTime(2019, 9, 3),\n",
    "    # Chunk it to have one file per day.\n",
    "    chunklength_in_sec=86400,\n",
    "    network=\"IM\", station=\"I52H*\", location=\"\", channel=\"BDF\",\n",
    "    # The typical use case for such a data set are noise correlations where\n",
    "    # gaps are dealt with at a later stage.\n",
    "    reject_channels_with_gaps=False,\n",
    "    # Same is true with the minimum length. All data might be useful.\n",
    "    minimum_length=0.0,\n",
    "    # Guard against the same station having different names.\n",
    "    minimum_interstation_distance_in_m=100.0)\n",
    "\n",
    "# Restrict the number of providers if you know which serve the desired\n",
    "# data. If in doubt just don't specify - then all providers will be\n",
    "# queried.\n",
    "mdl = MassDownloader(providers=[\"IRIS\"])\n",
    "mdl.download(domain, restrictions, mseed_storage=\"WAVEFORM_I52GB_MSEED\",\n",
    "             stationxml_storage=\"I52GB_STATIONS\")"
   ]
  }
 ],
 "metadata": {
  "kernelspec": {
   "display_name": "infrapy_env",
   "language": "python",
   "name": "python3"
  },
  "language_info": {
   "name": "python",
   "version": "3.9.16"
  }
 },
 "nbformat": 4,
 "nbformat_minor": 2
}
