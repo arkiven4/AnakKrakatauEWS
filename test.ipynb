{
 "cells": [
  {
   "cell_type": "code",
   "execution_count": 14,
   "metadata": {},
   "outputs": [],
   "source": [
    "from obspy.core.util.attribdict import AttribDict\n",
    "from obspy.core.inventory import Inventory, read_inventory\n",
    "from infrapy.detection import beamforming_new\n",
    "from pathlib import Path\n",
    "import pandas as pd\n",
    "from obspy import read\n",
    "import re\n",
    "import glob\n",
    "import os\n",
    "\n",
    "def sac_file_parser(filepath):\n",
    "    filename = os.path.basename(filepath)\n",
    "    parts = filename.split('.')\n",
    "    network = parts[0]\n",
    "    station = parts[1]\n",
    "    channel = parts[2]\n",
    "    times = ''.join(parts[3:-1])  # Exclude the extension part\n",
    "    return network, station, channel, times\n",
    "\n",
    "def sac_path_grouping(folder_path):\n",
    "    # Get a list of all .sac files in the folder\n",
    "    sac_files = list(Path(folder_path).rglob('*.sac'))\n",
    "\n",
    "    # Dictionary to hold the grouped paths\n",
    "    grouped_paths = {}\n",
    "\n",
    "    # Parse and group the file paths\n",
    "    for sac_file in sac_files:\n",
    "        network, station, channel, times = sac_file_parser(sac_file.name)\n",
    "        key = (network, channel, times)\n",
    "        grouped_path = f\"{sac_file.parent}/{network}.I06H*.{channel}.{times}.sac\"\n",
    "        grouped_paths[key] = grouped_path\n",
    "\n",
    "    # Create a DataFrame from the grouped paths\n",
    "    df_grouped_paths = pd.DataFrame(list(grouped_paths.values()), columns=['GroupedFilePath'])\n",
    "    \n",
    "    return df_grouped_paths"
   ]
  },
  {
   "cell_type": "code",
   "execution_count": 15,
   "metadata": {},
   "outputs": [
    {
     "name": "stdout",
     "output_type": "stream",
     "text": [
      "                                     GroupedFilePath\n",
      "0  /run/media/viblab/Markov11/Haykal/AnakKrakatau...\n",
      "1  /run/media/viblab/Markov11/Haykal/AnakKrakatau...\n",
      "2  /run/media/viblab/Markov11/Haykal/AnakKrakatau...\n"
     ]
    },
    {
     "ename": "TypeError",
     "evalue": "'NoneType' object is not subscriptable",
     "output_type": "error",
     "traceback": [
      "\u001b[0;31m---------------------------------------------------------------------------\u001b[0m",
      "\u001b[0;31mTypeError\u001b[0m                                 Traceback (most recent call last)",
      "\u001b[1;32m/run/media/viblab/Markov11/Haykal/AnakKrakatauEWS/test.ipynb Cell 2\u001b[0m line \u001b[0;36m3\n\u001b[1;32m      <a href='vscode-notebook-cell://tunnel%2Bviblab-pcspeech/run/media/viblab/Markov11/Haykal/AnakKrakatauEWS/test.ipynb#W4sdnNjb2RlLXJlbW90ZQ%3D%3D?line=0'>1</a>\u001b[0m folder_path \u001b[39m=\u001b[39m \u001b[39m'\u001b[39m\u001b[39m/run/media/viblab/Markov11/Haykal/AnakKrakatauEWS/waveform_collection/I06AU/WAVEFORM_I06AU_SAC\u001b[39m\u001b[39m'\u001b[39m\n\u001b[1;32m      <a href='vscode-notebook-cell://tunnel%2Bviblab-pcspeech/run/media/viblab/Markov11/Haykal/AnakKrakatauEWS/test.ipynb#W4sdnNjb2RlLXJlbW90ZQ%3D%3D?line=1'>2</a>\u001b[0m df_grouped_file_paths \u001b[39m=\u001b[39m sac_path_grouping(folder_path)\n\u001b[0;32m----> <a href='vscode-notebook-cell://tunnel%2Bviblab-pcspeech/run/media/viblab/Markov11/Haykal/AnakKrakatauEWS/test.ipynb#W4sdnNjb2RlLXJlbW90ZQ%3D%3D?line=2'>3</a>\u001b[0m \u001b[39mprint\u001b[39;49m(df_grouped_file_paths)[\u001b[39m0\u001b[39;49m]\n",
      "\u001b[0;31mTypeError\u001b[0m: 'NoneType' object is not subscriptable"
     ]
    }
   ],
   "source": [
    "folder_path = '/run/media/viblab/Markov11/Haykal/AnakKrakatauEWS/waveform_collection/I06AU/WAVEFORM_I06AU_SAC'\n",
    "df_grouped_file_paths = sac_path_grouping(folder_path)\n",
    "print(df_grouped_file_paths)[0]  # This should now print a DataFrame"
   ]
  }
 ],
 "metadata": {
  "kernelspec": {
   "display_name": "infrapy_env",
   "language": "python",
   "name": "python3"
  },
  "language_info": {
   "codemirror_mode": {
    "name": "ipython",
    "version": 3
   },
   "file_extension": ".py",
   "mimetype": "text/x-python",
   "name": "python",
   "nbconvert_exporter": "python",
   "pygments_lexer": "ipython3",
   "version": "3.9.17"
  }
 },
 "nbformat": 4,
 "nbformat_minor": 2
}
