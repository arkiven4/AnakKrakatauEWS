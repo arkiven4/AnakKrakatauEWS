{
 "cells": [
  {
   "cell_type": "markdown",
   "metadata": {},
   "source": [
    "## Waveform Processing\n",
    "\n",
    "The .SAC files will be then further processed using \"Bartlett\" beamforming method and Adaptive F-Detector to identify signals most related to Anak Krakatau Volcanic Activity. These specific volcanic activity signals will be later ingested into the algorithm for the Deep Learning processing. This notebook will do as follows:\n",
    "1. Implementing FK Beamforming to each station group\n",
    "2. Running Adaptive F-Detector to Isolate relevant Waveform\n"
   ]
  },
  {
   "cell_type": "code",
   "execution_count": null,
   "metadata": {},
   "outputs": [],
   "source": [
    "import sys\n",
    "sys.path.append('/run/media/viblab/Markov2/Haykal/AnakKrakatauEWS/')\n",
    "\n",
    "import obspy\n",
    "from obspy import UTCDateTime, read, read_inventory\n",
    "from obspy.clients.fdsn.mass_downloader import GlobalDomain, \\\n",
    "    Restrictions, MassDownloader\n",
    "from obspy.core.util.attribdict import AttribDict\n",
    "import os\n",
    "import subprocess\n",
    "import glob\n",
    "from tqdm.notebook import tqdm\n",
    "from tqdm import tqdm\n",
    "from src.utils.converter import *\n",
    "import concurrent.futures\n",
    "from concurrent.futures import ThreadPoolExecutor"
   ]
  },
  {
   "cell_type": "markdown",
   "metadata": {},
   "source": [
    "### 1. FK Beamforming"
   ]
  },
  {
   "cell_type": "code",
   "execution_count": null,
   "metadata": {},
   "outputs": [],
   "source": [
    "# 4.1 Running Beamforming on I06AU Waveform\n",
    "\n",
    "base_folder_path = '/run/media/viblab/Markov11/Haykal/AnakKrakatauEWS/waveform_collection/I06AU/WAVEFORM_I06AU_SAC'\n",
    "df_grouped_file_paths = sac_path_grouping(base_folder_path)\n",
    "\n",
    "# Wrap the iterrows with tqdm to create a progress bar\n",
    "for index, row in tqdm(df_grouped_file_paths.iterrows(), total=df_grouped_file_paths.shape[0], desc=\"Processing\"):\n",
    "    # Construct the full path to the grouped files\n",
    "    full_grouped_path = f\"{base_folder_path}/{row['GroupedFilePath']}\"\n",
    "\n",
    "    # Prepare the CLI command\n",
    "    cli_command = f\"infrapy run_fk --local-wvfrms \\\"{full_grouped_path}\\\" --\"\n",
    "    \n",
    "    try:\n",
    "        # Execute the CLI command\n",
    "        subprocess.run(cli_command, shell=True, check=True)\n",
    "        print(f\"Command executed for: {full_grouped_path}\")\n",
    "    except subprocess.CalledProcessError as e:\n",
    "        print(f\"An error occurred while running the command for {full_grouped_path}: {e}\")"
   ]
  },
  {
   "cell_type": "code",
   "execution_count": null,
   "metadata": {},
   "outputs": [],
   "source": [
    "# 4.1 Running Beamforming on I52GB Waveform\n",
    "\n",
    "base_folder_path = '/run/media/viblab/Markov11/Haykal/AnakKrakatauEWS/waveform_collection/I52GB/WAVEFORM_I52GB_SAC'\n",
    "df_grouped_file_paths = sac_path_grouping(base_folder_path)\n",
    "\n",
    "# Wrap the iterrows with tqdm to create a progress bar\n",
    "for index, row in tqdm(df_grouped_file_paths.iterrows(), total=df_grouped_file_paths.shape[0], desc=\"Processing\"):\n",
    "    # Construct the full path to the grouped files\n",
    "    full_grouped_path = f\"{base_folder_path}/{row['GroupedFilePath']}\"\n",
    "\n",
    "    # Prepare the CLI command\n",
    "    cli_command = f\"infrapy run_fk --local-wvfrms \\\"{full_grouped_path}\\\" --\"\n",
    "    \n",
    "    try:\n",
    "        # Execute the CLI command\n",
    "        subprocess.run(cli_command, shell=True, check=True)\n",
    "        print(f\"Command executed for: {full_grouped_path}\")\n",
    "    except subprocess.CalledProcessError as e:\n",
    "        print(f\"An error occurred while running the command for {full_grouped_path}: {e}\")"
   ]
  },
  {
   "cell_type": "markdown",
   "metadata": {},
   "source": [
    "### 2. Running Adaptive F-Detector"
   ]
  },
  {
   "cell_type": "code",
   "execution_count": null,
   "metadata": {},
   "outputs": [],
   "source": [
    "# 5.2 Running AFD for I06AU Station\n",
    "\n",
    "folder_path = '/run/media/viblab/Markov2/Haykal/AnakKrakatauEWS/data/raw/I06AU/I06AU_FK_RESULTS'\n",
    "\n",
    "# List all files in the folder\n",
    "files = os.listdir(folder_path)\n",
    "full_paths = [os.path.join(folder_path, file) for file in files]\n",
    "\n",
    "# Using ThreadPoolExecutor to process files concurrently\n",
    "with ThreadPoolExecutor(8) as executor:\n",
    "    # Map the executor to the process_file function and the list of file paths\n",
    "    results = list(tqdm(executor.map(lambda file_path: subprocess.run(f\"infrapy run_fd --local-fk-label {file_path} --p-value 0.05 --back-az-width 5\", shell=True), full_paths), total=len(full_paths), desc=\"Processing files\"))\n"
   ]
  },
  {
   "cell_type": "code",
   "execution_count": null,
   "metadata": {},
   "outputs": [],
   "source": [
    "# Path to the folder containing the files\n",
    "folder_path = '/run/media/viblab/Markov2/Haykal/AnakKrakatauEWS/data/raw/I52GB/I52GB_FK'\n",
    "\n",
    "# List all files in the folder\n",
    "files = os.listdir(folder_path)\n",
    "full_paths = [os.path.join(folder_path, file) for file in files]\n",
    "\n",
    "# Using ThreadPoolExecutor to process files concurrently\n",
    "with ThreadPoolExecutor(8) as executor:\n",
    "    # Map the executor to the process_file function and the list of file paths\n",
    "    results = list(tqdm(executor.map(lambda file_path: subprocess.run(f\"infrapy run_fd --local-fk-label {file_path} --p-value 0.05 --back-az-width 5\", shell=True), full_paths), total=len(full_paths), desc=\"Processing files\"))\n"
   ]
  },
  {
   "cell_type": "markdown",
   "metadata": {},
   "source": [
    "### 3. Running Spectral Yield Estrimation for Characterization"
   ]
  },
  {
   "cell_type": "code",
   "execution_count": 21,
   "metadata": {},
   "outputs": [
    {
     "name": "stdout",
     "output_type": "stream",
     "text": [
      "\n",
      "########################################\n",
      "##                                    ##\n",
      "##              InfraPy               ##\n",
      "##  Spectral Yield Estimation (SpYE)  ##\n",
      "##       Single Station Analysis      ##\n",
      "##                                    ##\n",
      "########################################\n",
      "\n",
      "\n",
      "Data parameters:\n",
      "  local_detect_label: /run/media/viblab/Markov2/Haykal/AnakKrakatauEWS/data/raw/I06AU/I06AU_FD_RESULTS/IM.I06H_2018.12.27_00.00.00-00.00.19.dets.json\n",
      "  det_index: 0\n",
      "  tlm_label: /run/media/viblab/Markov11/Haykal/infrapy/infrapy/propagation/priors/tloss/2007_08-\n",
      "  local_pdf_label: I06H\n",
      "  local_loc_label: None\n",
      "    src_lat: -6.102\n",
      "    src_lon: 105.423\n",
      "  local_wvfrms: /run/media/viblab/Markov2/Haykal/AnakKrakatauEWS/data/raw/I06AU/I06AU_SAC/IM.I06H*..BDF__20190226T000000Z__20190227T000000Z.sac\n",
      "\n",
      "Algorithm parameters:\n",
      "  freq_min: 0.7\n",
      "  freq_max: 4.0\n",
      "  ref_rng: 1.0\n",
      "  resolution: 200\n",
      "  noise_option: post\n",
      "  window_buffer: 0.2\n",
      "\n",
      "Loading local data from /run/media/viblab/Markov2/Haykal/AnakKrakatauEWS/data/raw/I06AU/I06AU_SAC/IM.I06H*..BDF__20190226T000000Z__20190227T000000Z.sac\n",
      "Computing detection spectra...\n",
      "Traceback (most recent call last):\n",
      "  File \"/home/viblab/anaconda3/envs/infrapy_env/bin/infrapy\", line 33, in <module>\n",
      "    sys.exit(load_entry_point('infrapy', 'console_scripts', 'infrapy')())\n",
      "  File \"/home/viblab/anaconda3/envs/infrapy_env/lib/python3.9/site-packages/click/core.py\", line 1157, in __call__\n",
      "    return self.main(*args, **kwargs)\n",
      "  File \"/home/viblab/anaconda3/envs/infrapy_env/lib/python3.9/site-packages/click/core.py\", line 1078, in main\n",
      "    rv = self.invoke(ctx)\n",
      "  File \"/home/viblab/anaconda3/envs/infrapy_env/lib/python3.9/site-packages/click/core.py\", line 1688, in invoke\n",
      "    return _process_result(sub_ctx.command.invoke(sub_ctx))\n",
      "  File \"/home/viblab/anaconda3/envs/infrapy_env/lib/python3.9/site-packages/click/core.py\", line 1688, in invoke\n",
      "    return _process_result(sub_ctx.command.invoke(sub_ctx))\n",
      "  File \"/home/viblab/anaconda3/envs/infrapy_env/lib/python3.9/site-packages/click/core.py\", line 1434, in invoke\n",
      "    return ctx.invoke(self.callback, **ctx.params)\n",
      "  File \"/home/viblab/anaconda3/envs/infrapy_env/lib/python3.9/site-packages/click/core.py\", line 783, in invoke\n",
      "    return __callback(*args, **kwargs)\n",
      "  File \"/run/media/viblab/Markov11/Haykal/infrapy/infrapy/cli/cli_loc.py\", line 441, in single_station\n",
      "    temp = spye.extract_spectra([det_list[det_index]], [stream], win_buffer=window_buffer, ns_opt=noise_option)[0]\n",
      "  File \"/run/media/viblab/Markov11/Haykal/infrapy/infrapy/characterization/spye.py\", line 250, in extract_spectra\n",
      "    X_sig, _, f_sig = beamforming_new.fft_array_data(x, t, window=[sig_t1, sig_t2], fft_window=\"tukey\")\n",
      "  File \"/run/media/viblab/Markov11/Haykal/infrapy/infrapy/detection/beamforming_new.py\", line 139, in fft_array_data\n",
      "    win_n1, win_N = mask.nonzero()[0][0], sum(mask)\n",
      "IndexError: index 0 is out of bounds for axis 0 with size 0\n",
      "\u001b[0m"
     ]
    }
   ],
   "source": [
    "!infrapy run_spye single-station --local-wvfrms '/run/media/viblab/Markov2/Haykal/AnakKrakatauEWS/data/raw/I06AU/I06AU_SAC/IM.I06H*..BDF__20190226T000000Z__20190227T000000Z.sac' --local-detect-label '/run/media/viblab/Markov2/Haykal/AnakKrakatauEWS/data/raw/I06AU/I06AU_FD_RESULTS/IM.I06H_2018.12.27_00.00.00-00.00.19.dets.json' --src-lat -6.102 --src-lon 105.423 --freq-min 0.7 --freq-max 4 --tlm-label '/run/media/viblab/Markov11/Haykal/infrapy/infrapy/propagation/priors/tloss/2007_08-' --local-pdf-label 'I06H'"
   ]
  },
  {
   "cell_type": "code",
   "execution_count": 19,
   "metadata": {},
   "outputs": [
    {
     "name": "stdout",
     "output_type": "stream",
     "text": [
      "Usage: infrapy run_spye single-station [OPTIONS]\n",
      "\n",
      "  Run Spectral Yield Estimation (SpYE) methods to estimate the near-source\n",
      "  acoustic spectral amplitude for a single detecting station\n",
      "\n",
      "  Example usage (run from infrapy/examples directory):\n",
      "      infrapy run_spye single-station --local-wvfrms '../infrapy-data/hrr-5/W220/*.sac' --local-detect-label data/HRR-5.dets.json --det-index 0 --src-lat 33.5377 --src-lon -106.333961 --tlm-label \"../infrapy/propagation/priors/tloss/2007_08-\" --local-pdf-label \"HRR-5_W220\"\n",
      "      infrapy run_spye single-station --local-wvfrms '../infrapy-data/hrr-5/W240/*.sac' --local-detect-label data/HRR-5.dets.json --det-index 1 --src-lat 33.5377 --src-lon -106.333961 --tlm-label \"../infrapy/propagation/priors/tloss/2007_08-\" --local-pdf-label \"HRR-5_W240\"\n",
      "      infrapy run_spye single-station --local-wvfrms '../infrapy-data/hrr-5/W340/*.sac' --local-detect-label data/HRR-5.dets.json --det-index 2 --src-lat 33.5377 --src-lon -106.333961 --tlm-label \"../infrapy/propagation/priors/tloss/2007_08-\" --local-pdf-label \"HRR-5_W340\"\n",
      "      infrapy run_spye single-station --local-wvfrms '../infrapy-data/hrr-5/W420/*.sac' --local-detect-label data/HRR-5.dets.json --det-index 3 --src-lat 33.5377 --src-lon -106.333961 --tlm-label \"../infrapy/propagation/priors/tloss/2007_08-\" --local-pdf-label \"HRR-5_W420\"\n",
      "      infrapy run_spye single-station --local-wvfrms '../infrapy-data/hrr-5/W460/*.sac' --local-detect-label data/HRR-5.dets.json --det-index 4 --src-lat 33.5377 --src-lon -106.333961 --tlm-label \"../infrapy/propagation/priors/tloss/2007_08-\" --local-pdf-label \"HRR-5_W460\"\n",
      "\n",
      "Options:\n",
      "  --config-file TEXT         Configuration file\n",
      "  --local-wvfrms TEXT        Local waveform data files\n",
      "  --fdsn TEXT                FDSN source for waveform data files\n",
      "  --db-config TEXT           Database configuration file\n",
      "  --local-detect-label TEXT  Detection results path\n",
      "  --local-loc-label TEXT     Localization results path\n",
      "  --local-pdf-label TEXT     Output file for results\n",
      "  --tlm-label TEXT           Transmission loss model (TLM) path\n",
      "  --det-index INTEGER        Index of detection in file\n",
      "  --src-lat TEXT             Source latitude (if no loc result file)\n",
      "  --src-lon TEXT             Source longitude (if no loc result file)\n",
      "  --freq-min FLOAT           Minimum frequency (default: 0.25 [Hz])\n",
      "  --freq-max FLOAT           Maximum frequency (default: 1.0 [Hz])\n",
      "  --ref-rng FLOAT            Reference range for blastwave model (default 1.0\n",
      "                             km)\n",
      "  --resolution INTEGER       Number of points/dimension for numerical sampling\n",
      "                             (default: 200)\n",
      "  --noise-option TEXT        Noise option ('pre', 'post', or 'beam')\n",
      "  --window-buffer FLOAT      Window buffer scaling (default: 0.2)\n",
      "  -h, --help                 Show this message and exit.\n",
      "\u001b[0m"
     ]
    }
   ],
   "source": [
    "!infrapy run_spye single-station -h"
   ]
  },
  {
   "cell_type": "code",
   "execution_count": 15,
   "metadata": {},
   "outputs": [
    {
     "name": "stdout",
     "output_type": "stream",
     "text": [
      "\n",
      "########################################\n",
      "##                                    ##\n",
      "##              InfraPy               ##\n",
      "##  Spectral Yield Estimation (SpYE)  ##\n",
      "##   Regional (Single TLM) Analysis   ##\n",
      "##                                    ##\n",
      "########################################\n",
      "\n",
      "\n",
      "Data parameters:\n",
      "  local_detect_label: /run/media/viblab/Markov11/Haykal/infrapy/examples/data/HRR-5.dets.json\n",
      "  tlm_label: /run/media/viblab/Markov11/Haykal/infrapy/infrapy/propagation/priors/tloss/2007_08-\n",
      "  local_loc_label: None\n",
      "    src_lat: 33.5377\n",
      "    src_lon: -106.333961\n",
      "  local_wvfrms: /run/media/viblab/Markov11/Haykal/infrapy/infrapy-data/hrr-5/*/*.sac\n",
      "\n",
      "Algorithm parameters:\n",
      "  freq_min: 0.25\n",
      "  freq_max: 2.0\n",
      "  yld_min: 1.0\n",
      "  yld_max: 1000.0\n",
      "  ref_rng: 1.0\n",
      "  resolution: 200\n",
      "  noise_option: post\n",
      "  window_buffer: 0.2\n",
      "  amb_press: 101.325\n",
      "  amb_temp: 288.15\n",
      "  grnd_burst: True\n",
      "  exp_type: chemical\n",
      "\n",
      "Loading local data from /run/media/viblab/Markov11/Haykal/infrapy/infrapy-data/hrr-5/*/*.sac\n",
      "Collecting waveform data for each detection...\n",
      "\n",
      "Detection network.station: NCPA.W220\n",
      "4 Trace(s) in Stream:\n",
      ".W220CW..HDF | 2012-08-27T23:10:00.000000Z - 2012-08-27T23:24:59.998055Z | 500.0 Hz, 450000 samples\n",
      ".W220NE..HDF | 2012-08-27T23:10:00.000000Z - 2012-08-27T23:24:59.998055Z | 500.0 Hz, 450000 samples\n",
      ".W220NW..HDF | 2012-08-27T23:10:00.000000Z - 2012-08-27T23:24:59.998055Z | 500.0 Hz, 450000 samples\n",
      ".W220SW..HDF | 2012-08-27T23:10:00.000000Z - 2012-08-27T23:24:59.998055Z | 500.0 Hz, 450000 samples\n",
      "\n",
      "Detection network.station: NCPA.W240\n",
      "3 Trace(s) in Stream:\n",
      ".W240NE..HDF | 2012-08-27T23:10:00.000000Z - 2012-08-27T23:24:59.998055Z | 500.0 Hz, 450000 samples\n",
      ".W240NW..HDF | 2012-08-27T23:10:00.000000Z - 2012-08-27T23:24:59.998055Z | 500.0 Hz, 450000 samples\n",
      ".W240SW..HDF | 2012-08-27T23:10:00.000000Z - 2012-08-27T23:24:59.998055Z | 500.0 Hz, 450000 samples\n",
      "\n",
      "Detection network.station: .W340\n",
      "4 Trace(s) in Stream:\n",
      ".W340CW..HDF | 2012-08-27T23:15:00.000000Z - 2012-08-27T23:34:59.998073Z | 500.0 Hz, 600000 samples\n",
      ".W340NW..HDF | 2012-08-27T23:15:00.000000Z - 2012-08-27T23:34:59.998073Z | 500.0 Hz, 600000 samples\n",
      ".W340SE..HDF | 2012-08-27T23:14:44.000000Z - 2012-08-27T23:34:43.998073Z | 500.0 Hz, 600000 samples\n",
      ".W340SW..HDF | 2012-08-27T23:15:00.000000Z - 2012-08-27T23:34:59.998073Z | 500.0 Hz, 600000 samples\n",
      "\n",
      "Detection network.station: .W420\n",
      "6 Trace(s) in Stream:\n",
      ".W420CE..HDF | 2012-08-27T23:20:01.000000Z - 2012-08-27T23:40:00.998073Z | 500.0 Hz, 600000 samples\n",
      ".W420CW..HDF | 2012-08-27T23:20:00.000000Z - 2012-08-27T23:39:59.998073Z | 500.0 Hz, 600000 samples\n",
      ".W420NE..HDF | 2012-08-27T23:20:00.000000Z - 2012-08-27T23:39:59.998073Z | 500.0 Hz, 600000 samples\n",
      ".W420NW..HDF | 2012-08-27T23:20:00.000000Z - 2012-08-27T23:39:59.998073Z | 500.0 Hz, 600000 samples\n",
      ".W420SE..HDF | 2012-08-27T23:20:00.000000Z - 2012-08-27T23:39:59.998073Z | 500.0 Hz, 600000 samples\n",
      ".W420SW..HDF | 2012-08-27T23:19:44.000000Z - 2012-08-27T23:39:43.998073Z | 500.0 Hz, 600000 samples\n",
      "\n",
      "Detection network.station: .W460\n",
      "6 Trace(s) in Stream:\n",
      ".W460CE..HDF | 2012-08-27T23:20:00.000000Z - 2012-08-27T23:39:59.998073Z | 500.0 Hz, 600000 samples\n",
      ".W460CW..HDF | 2012-08-27T23:20:00.000000Z - 2012-08-27T23:39:59.998073Z | 500.0 Hz, 600000 samples\n",
      ".W460NE..HDF | 2012-08-27T23:20:00.000000Z - 2012-08-27T23:39:59.998073Z | 500.0 Hz, 600000 samples\n",
      ".W460NW..HDF | 2012-08-27T23:20:00.000000Z - 2012-08-27T23:39:59.998073Z | 500.0 Hz, 600000 samples\n",
      ".W460SE..HDF | 2012-08-27T23:20:00.000000Z - 2012-08-27T23:39:59.998073Z | 500.0 Hz, 600000 samples\n",
      ".W460SW..HDF | 2012-08-27T23:20:00.000000Z - 2012-08-27T23:39:59.998073Z | 500.0 Hz, 600000 samples\n",
      "\n",
      "Computing detection spectra...\n",
      "Loading transmission loss statistics...\n",
      "Estimating yield using spectral amplitudes...\n",
      "Traceback (most recent call last):\n",
      "  File \"/home/viblab/anaconda3/envs/infrapy_env/bin/infrapy\", line 33, in <module>\n",
      "    sys.exit(load_entry_point('infrapy', 'console_scripts', 'infrapy')())\n",
      "  File \"/home/viblab/anaconda3/envs/infrapy_env/lib/python3.9/site-packages/click/core.py\", line 1157, in __call__\n",
      "    return self.main(*args, **kwargs)\n",
      "  File \"/home/viblab/anaconda3/envs/infrapy_env/lib/python3.9/site-packages/click/core.py\", line 1078, in main\n",
      "    rv = self.invoke(ctx)\n",
      "  File \"/home/viblab/anaconda3/envs/infrapy_env/lib/python3.9/site-packages/click/core.py\", line 1688, in invoke\n",
      "    return _process_result(sub_ctx.command.invoke(sub_ctx))\n",
      "  File \"/home/viblab/anaconda3/envs/infrapy_env/lib/python3.9/site-packages/click/core.py\", line 1688, in invoke\n",
      "    return _process_result(sub_ctx.command.invoke(sub_ctx))\n",
      "  File \"/home/viblab/anaconda3/envs/infrapy_env/lib/python3.9/site-packages/click/core.py\", line 1434, in invoke\n",
      "    return ctx.invoke(self.callback, **ctx.params)\n",
      "  File \"/home/viblab/anaconda3/envs/infrapy_env/lib/python3.9/site-packages/click/core.py\", line 783, in invoke\n",
      "    return __callback(*args, **kwargs)\n",
      "  File \"/run/media/viblab/Markov11/Haykal/infrapy/infrapy/cli/cli_loc.py\", line 308, in regional\n",
      "    if \".yld.json\" not in local_yld_label:\n",
      "TypeError: argument of type 'NoneType' is not iterable\n",
      "\u001b[0m"
     ]
    }
   ],
   "source": [
    "!infrapy run_spye regional --local-wvfrms '/run/media/viblab/Markov11/Haykal/infrapy/infrapy-data/hrr-5/*/*.sac' --local-detect-label '/run/media/viblab/Markov11/Haykal/infrapy/examples/data/HRR-5.dets.json' --tlm-label '/run/media/viblab/Markov11/Haykal/infrapy/infrapy/propagation/priors/tloss/2007_08-' --src-lat 33.5377 --src-lon -106.333961 --freq-min 0.25 --freq-max 2.0"
   ]
  },
  {
   "cell_type": "code",
   "execution_count": 12,
   "metadata": {},
   "outputs": [
    {
     "name": "stdout",
     "output_type": "stream",
     "text": [
      "Usage: infrapy run_spye [OPTIONS] COMMAND [ARGS]...\n",
      "\n",
      "  infrapy run_spye - explosive yield estimation methods\n",
      "\n",
      "Options:\n",
      "  -h, --help  Show this message and exit.\n",
      "\n",
      "Commands:\n",
      "  combine         Combine near-source spectral amplitude PDFs from stations\n",
      "  regional        Run analysis using a single set of TLMs\n",
      "  single-station  Estimate the near-source spectral amplitude from a single\n",
      "                  station\n",
      "\u001b[0m"
     ]
    }
   ],
   "source": [
    "!infrapy run_spye --help"
   ]
  },
  {
   "cell_type": "code",
   "execution_count": null,
   "metadata": {},
   "outputs": [],
   "source": []
  },
  {
   "cell_type": "code",
   "execution_count": 7,
   "metadata": {},
   "outputs": [
    {
     "ename": "UnpicklingError",
     "evalue": "invalid load key, '#'.",
     "output_type": "error",
     "traceback": [
      "\u001b[0;31m---------------------------------------------------------------------------\u001b[0m",
      "\u001b[0;31mUnpicklingError\u001b[0m                           Traceback (most recent call last)",
      "\u001b[1;32m/run/media/viblab/Markov2/Haykal/AnakKrakatauEWS/notebook/2.Waveform Processing.ipynb Cell 2\u001b[0m line \u001b[0;36m5\n\u001b[1;32m      <a href='vscode-notebook-cell://tunnel%2Bviblab-pcspeech/run/media/viblab/Markov2/Haykal/AnakKrakatauEWS/notebook/2.Waveform%20Processing.ipynb#W1sdnNjb2RlLXJlbW90ZQ%3D%3D?line=2'>3</a>\u001b[0m tloss_model \u001b[39m=\u001b[39m TLossModel()\n\u001b[1;32m      <a href='vscode-notebook-cell://tunnel%2Bviblab-pcspeech/run/media/viblab/Markov2/Haykal/AnakKrakatauEWS/notebook/2.Waveform%20Processing.ipynb#W1sdnNjb2RlLXJlbW90ZQ%3D%3D?line=3'>4</a>\u001b[0m model_file_path \u001b[39m=\u001b[39m \u001b[39m'\u001b[39m\u001b[39m/run/media/viblab/Markov2/Haykal/AnakKrakatauEWS/data/ToyAtmo.met\u001b[39m\u001b[39m'\u001b[39m  \u001b[39m# Adjust the path as needed\u001b[39;00m\n\u001b[0;32m----> <a href='vscode-notebook-cell://tunnel%2Bviblab-pcspeech/run/media/viblab/Markov2/Haykal/AnakKrakatauEWS/notebook/2.Waveform%20Processing.ipynb#W1sdnNjb2RlLXJlbW90ZQ%3D%3D?line=4'>5</a>\u001b[0m tloss_model\u001b[39m.\u001b[39;49mload(model_file_path)\n",
      "File \u001b[0;32m/run/media/viblab/Markov11/Haykal/infrapy/infrapy/propagation/infrasound.py:711\u001b[0m, in \u001b[0;36mTLossModel.load\u001b[0;34m(self, model_file)\u001b[0m\n\u001b[1;32m    710\u001b[0m \u001b[39mdef\u001b[39;00m \u001b[39mload\u001b[39m(\u001b[39mself\u001b[39m, model_file):\n\u001b[0;32m--> 711\u001b[0m     fit_params \u001b[39m=\u001b[39m pickle\u001b[39m.\u001b[39;49mload(\u001b[39mopen\u001b[39;49m(model_file, \u001b[39m\"\u001b[39;49m\u001b[39mrb\u001b[39;49m\u001b[39m\"\u001b[39;49m), encoding\u001b[39m=\u001b[39;49m\u001b[39m'\u001b[39;49m\u001b[39mlatin1\u001b[39;49m\u001b[39m'\u001b[39;49m)\n\u001b[1;32m    713\u001b[0m     \u001b[39mself\u001b[39m\u001b[39m.\u001b[39mrng_vals \u001b[39m=\u001b[39m fit_params[\u001b[39m0\u001b[39m]\n\u001b[1;32m    714\u001b[0m     \u001b[39mself\u001b[39m\u001b[39m.\u001b[39mtloss_vals \u001b[39m=\u001b[39m fit_params[\u001b[39m1\u001b[39m]\n",
      "\u001b[0;31mUnpicklingError\u001b[0m: invalid load key, '#'."
     ]
    }
   ],
   "source": []
  }
 ],
 "metadata": {
  "kernelspec": {
   "display_name": "infrapy_env",
   "language": "python",
   "name": "python3"
  },
  "language_info": {
   "codemirror_mode": {
    "name": "ipython",
    "version": 3
   },
   "file_extension": ".py",
   "mimetype": "text/x-python",
   "name": "python",
   "nbconvert_exporter": "python",
   "pygments_lexer": "ipython3",
   "version": "3.9.17"
  }
 },
 "nbformat": 4,
 "nbformat_minor": 2
}
