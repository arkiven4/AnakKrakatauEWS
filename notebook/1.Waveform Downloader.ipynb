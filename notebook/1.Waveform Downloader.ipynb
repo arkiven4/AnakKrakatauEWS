{
 "cells": [
  {
   "cell_type": "markdown",
   "metadata": {},
   "source": [
    "## FDSN Waveform Downloader, Converter & Detector\n",
    "\n",
    "Downloads I06AU and I52GB waveforms from IRIS FSDN services using Obpsy Mass Downloader and then converts them the .SAC file with it's stats for further processing. The .SAC files will be then further processed using \"Bartlett\" beamforming method and Adaptive F-Detector to identify signals most related to Anak Krakatau Volcanic Activity. These specific volcanic activity signals will be later ingested into the algorithm for the Deep Learning processing\n",
    "\n",
    "This notebook consists of 3 parts:\n",
    "1. Dowloading Data using Obspy Mass Downloader\n",
    "2. Conversion of MSEED Files to .SAC\n",
    "3. Implementing FK Beamforming to each station group\n",
    "4. Running Adaptive F-Detector to Isolate relevant Waveform"
   ]
  },
  {
   "cell_type": "code",
   "execution_count": 2,
   "metadata": {},
   "outputs": [
    {
     "ename": "ModuleNotFoundError",
     "evalue": "No module named 'src'",
     "output_type": "error",
     "traceback": [
      "\u001b[0;31m---------------------------------------------------------------------------\u001b[0m",
      "\u001b[0;31mModuleNotFoundError\u001b[0m                       Traceback (most recent call last)",
      "\u001b[1;32m/run/media/viblab/Markov11/Haykal/AnakKrakatauEWS/notebook/1.Waveform Downloader.ipynb Cell 2\u001b[0m line \u001b[0;36m1\n\u001b[1;32m      <a href='vscode-notebook-cell://tunnel%2Bviblab-pcspeech/run/media/viblab/Markov11/Haykal/AnakKrakatauEWS/notebook/1.Waveform%20Downloader.ipynb#W1sdnNjb2RlLXJlbW90ZQ%3D%3D?line=8'>9</a>\u001b[0m \u001b[39mimport\u001b[39;00m \u001b[39mglob\u001b[39;00m\n\u001b[1;32m     <a href='vscode-notebook-cell://tunnel%2Bviblab-pcspeech/run/media/viblab/Markov11/Haykal/AnakKrakatauEWS/notebook/1.Waveform%20Downloader.ipynb#W1sdnNjb2RlLXJlbW90ZQ%3D%3D?line=9'>10</a>\u001b[0m \u001b[39mfrom\u001b[39;00m \u001b[39mtqdm\u001b[39;00m\u001b[39m.\u001b[39;00m\u001b[39mnotebook\u001b[39;00m \u001b[39mimport\u001b[39;00m tqdm\n\u001b[0;32m---> <a href='vscode-notebook-cell://tunnel%2Bviblab-pcspeech/run/media/viblab/Markov11/Haykal/AnakKrakatauEWS/notebook/1.Waveform%20Downloader.ipynb#W1sdnNjb2RlLXJlbW90ZQ%3D%3D?line=10'>11</a>\u001b[0m \u001b[39mfrom\u001b[39;00m \u001b[39msrc\u001b[39;00m\u001b[39m.\u001b[39;00m\u001b[39mutils\u001b[39;00m \u001b[39mimport\u001b[39;00m \u001b[39m*\u001b[39m\n",
      "\u001b[0;31mModuleNotFoundError\u001b[0m: No module named 'src'"
     ]
    }
   ],
   "source": [
    "import sys\n",
    "import obspy\n",
    "from obspy import UTCDateTime, read, read_inventory\n",
    "from obspy.clients.fdsn.mass_downloader import GlobalDomain, \\\n",
    "    Restrictions, MassDownloader\n",
    "from obspy.core.util.attribdict import AttribDict\n",
    "import os\n",
    "import subprocess\n",
    "import glob\n",
    "from tqdm.notebook import tqdm\n",
    "from src.utils import *"
   ]
  },
  {
   "cell_type": "markdown",
   "metadata": {},
   "source": [
    "### 1. Downloading Data Using Obspy Mass Downloader\n",
    "\n",
    "Download the data ranging from 2018-6-24T00:00:00 until 2018-6-27T00:00:00"
   ]
  },
  {
   "cell_type": "markdown",
   "metadata": {},
   "source": [
    "#### 1.1 I06AU Waveform Download"
   ]
  },
  {
   "cell_type": "code",
   "execution_count": null,
   "metadata": {},
   "outputs": [],
   "source": [
    "# MassDownloader of MSEED Files from IRIS FSDN Services\n",
    "domain = GlobalDomain()\n",
    "\n",
    "restrictions = Restrictions(\n",
    "    # Get data for a whole year.\n",
    "    starttime=obspy.UTCDateTime(2018, 6, 24),\n",
    "    endtime=obspy.UTCDateTime(2018, 6, 27),\n",
    "    # Chunk it to have one file per day.\n",
    "    chunklength_in_sec=86400,\n",
    "    network=\"IM\", station=\"I06H*\", location=\"\", channel=\"BDF\",\n",
    "    # The typical use case for such a data set are noise correlations where\n",
    "    # gaps are dealt with at a later stage.\n",
    "    reject_channels_with_gaps=False,\n",
    "    # Same is true with the minimum length. All data might be useful.\n",
    "    minimum_length=0.0,\n",
    "    # Guard against the same station having different names.\n",
    "    minimum_interstation_distance_in_m=100.0)\n",
    "\n",
    "mdl = MassDownloader(providers=[\"IRIS\"])\n",
    "mdl.download(domain, restrictions, mseed_storage=\"WAVEFORM_I06AU_MSEED\",\n",
    "             stationxml_storage=\"I06AU_STATIONS\")"
   ]
  },
  {
   "cell_type": "markdown",
   "metadata": {},
   "source": [
    "#### 1.2 I52GB Waveform Download"
   ]
  },
  {
   "cell_type": "code",
   "execution_count": null,
   "metadata": {},
   "outputs": [],
   "source": [
    "# MassDownloader of MSEED Files from IRIS FSDN Services\n",
    "domain = GlobalDomain()\n",
    "\n",
    "restrictions = Restrictions(\n",
    "    starttime=obspy.UTCDateTime(2018, 6, 24),\n",
    "    endtime=obspy.UTCDateTime(2019, 9, 3),\n",
    "    chunklength_in_sec=86400,\n",
    "    network=\"IM\", station=\"I06H*\", location=\"\", channel=\"BDF\",.\n",
    "    reject_channels_with_gaps=False,\n",
    "    minimum_length=0.0,\n",
    "    minimum_interstation_distance_in_m=100.0)\n",
    "\n",
    "\n",
    "mdl = MassDownloader(providers=[\"IRIS\"])\n",
    "mdl.download(domain, restrictions, mseed_storage=\"WAVEFORM_I06AU_MSEED\",\n",
    "             stationxml_storage=\"I06AU_STATIONS\")"
   ]
  },
  {
   "cell_type": "markdown",
   "metadata": {},
   "source": [
    "### 2. Conversion of MSEED Files to .SAC\n",
    "Converting MSEED Files to SAC Complete with Important Headers"
   ]
  },
  {
   "cell_type": "code",
   "execution_count": null,
   "metadata": {},
   "outputs": [],
   "source": [
    "input_directory = 'waveform_collection/I06AU/WAVEFORM_I06AU_MSEED'\n",
    "output_directory = 'waveform_collection/I06AU/WAVEFORM_I06AU_SAC'\n",
    "stationxml_directory = 'waveform_collection/I06AU/I06AU_STATIONS'\n",
    "\n",
    "# Run the Function\n",
    "mseed_to_sac(input_directory, output_directory, stationxml_directory)"
   ]
  },
  {
   "cell_type": "code",
   "execution_count": null,
   "metadata": {},
   "outputs": [],
   "source": [
    "input_directory = 'waveform_collection/I52GB/WAVEFORM_I06AU_MSEED'\n",
    "output_directory = 'waveform_collection/I52GB/WAVEFORM_I06AU_SAC'\n",
    "stationxml_directory = 'waveform_collection/I52GB/I06AU_STATIONS'\n",
    "\n",
    "# Run the Function\n",
    "mseed_to_sac(input_directory, output_directory, stationxml_directory)\n"
   ]
  },
  {
   "cell_type": "markdown",
   "metadata": {},
   "source": []
  }
 ],
 "metadata": {
  "kernelspec": {
   "display_name": "infrapy_env",
   "language": "python",
   "name": "python3"
  },
  "language_info": {
   "codemirror_mode": {
    "name": "ipython",
    "version": 3
   },
   "file_extension": ".py",
   "mimetype": "text/x-python",
   "name": "python",
   "nbconvert_exporter": "python",
   "pygments_lexer": "ipython3",
   "version": "3.9.17"
  }
 },
 "nbformat": 4,
 "nbformat_minor": 2
}
