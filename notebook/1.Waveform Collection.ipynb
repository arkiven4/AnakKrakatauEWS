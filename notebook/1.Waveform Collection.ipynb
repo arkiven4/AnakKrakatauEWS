{
 "cells": [
  {
   "attachments": {},
   "cell_type": "markdown",
   "metadata": {},
   "source": [
    "## FDSN Waveform Downloader & Converter\n",
    "\n",
    "Downloads I06AU and I52GB waveforms from IRIS FSDN services using Obpsy Mass Downloader and then converts them the .SAC file with it's stats for further processing. \n",
    "\n",
    "This notebook consists of 3 parts:\n",
    "1. Dowloading Data using Obspy Mass Downloader\n",
    "2. Conversion of MSEED Files to .SAC\n",
    "3. Conversion of .SAC files to CSV"
   ]
  },
  {
   "cell_type": "code",
   "execution_count": 1,
   "metadata": {},
   "outputs": [],
   "source": [
    "import sys\n",
    "sys.path.append('/run/media/viblab/Markov2/Haykal/AnakKrakatauEWS/')\n",
    "\n",
    "import obspy\n",
    "from obspy import UTCDateTime, read, read_inventory\n",
    "from obspy.clients.fdsn.mass_downloader import GlobalDomain, \\\n",
    "    Restrictions, MassDownloader\n",
    "from obspy.core.util.attribdict import AttribDict\n",
    "import os\n",
    "import subprocess\n",
    "import glob\n",
    "from tqdm.notebook import tqdm\n",
    "from tqdm import tqdm\n",
    "from src.utils.converter import *\n",
    "import concurrent.futures\n",
    "from concurrent.futures import ThreadPoolExecutor"
   ]
  },
  {
   "attachments": {},
   "cell_type": "markdown",
   "metadata": {},
   "source": [
    "### 1. Downloading Data Using Obspy Mass Downloader\n",
    "\n",
    "Download the data ranging from 2018-06-24T00:00:00 until 2019-09-03T00:00:00"
   ]
  },
  {
   "cell_type": "code",
   "execution_count": null,
   "metadata": {},
   "outputs": [],
   "source": [
    "# 1.1 I06AU Waveform Download\n",
    "\n",
    "domain = GlobalDomain()\n",
    "\n",
    "restrictions = Restrictions(\n",
    "    # Get data for a whole year.\n",
    "    starttime=obspy.UTCDateTime(2018, 6, 24),\n",
    "    endtime=obspy.UTCDateTime(2019, 9, 3),\n",
    "    # Chunk it to have one file per day.\n",
    "    chunklength_in_sec=86400,\n",
    "    network=\"IM\", station=\"I06H*\", location=\"\", channel=\"BDF\",\n",
    "    # The typical use case for such a data set are noise correlations where\n",
    "    # gaps are dealt with at a later stage.\n",
    "    reject_channels_with_gaps=False,\n",
    "    # Same is true with the minimum length. All data might be useful.\n",
    "    minimum_length=0.0,\n",
    "    # Guard against the same station having different names.\n",
    "    minimum_interstation_distance_in_m=100.0)\n",
    "\n",
    "mdl = MassDownloader(providers=[\"IRIS\"])\n",
    "mdl.download(domain, restrictions, mseed_storage=\"waveform_collection/I06AU/WAVEFORM_I06AU_MSEED\",\n",
    "             stationxml_storage=\"waveform_collection/I06AU/I06AU_STATIONS\")"
   ]
  },
  {
   "cell_type": "code",
   "execution_count": null,
   "metadata": {},
   "outputs": [],
   "source": [
    "# 1.2 I52GB Waveform Download\n",
    "\n",
    "domain = GlobalDomain()\n",
    "\n",
    "restrictions = Restrictions(\n",
    "    starttime=obspy.UTCDateTime(2018, 6, 24),\n",
    "    endtime=obspy.UTCDateTime(2019, 9, 3),\n",
    "    chunklength_in_sec=86400,\n",
    "    network=\"IM\", station=\"I52H*\", location=\"\", channel=\"BDF\",\n",
    "    reject_channels_with_gaps=False,\n",
    "    minimum_length=0.0,\n",
    "    minimum_interstation_distance_in_m=100.0)\n",
    "\n",
    "\n",
    "mdl = MassDownloader(providers=[\"IRIS\"])\n",
    "mdl.download(domain, restrictions, mseed_storage=\"/run/media/viblab/Markov2/Haykal/AnakKrakatauEWS/data/raw/I52GB/I52GB_MSEED\",\n",
    "             stationxml_storage=\"/run/media/viblab/Markov2/Haykal/AnakKrakatauEWS/data/raw/I52GB/I52GB_STATIONS\")"
   ]
  },
  {
   "attachments": {},
   "cell_type": "markdown",
   "metadata": {},
   "source": [
    "### 2. Conversion of MSEED Files to .SAC\n",
    "Converting MSEED Files to SAC Complete with Important Headers"
   ]
  },
  {
   "cell_type": "code",
   "execution_count": 2,
   "metadata": {},
   "outputs": [],
   "source": [
    "# 2.1 I06AU Waveform Conversion\n",
    "\n",
    "input_directory = '/run/media/viblab/Markov2/Haykal/AnakKrakatauEWS/data/raw/I06AU/I06AU_MSEED'\n",
    "output_directory = '/run/media/viblab/Markov2/Haykal/AnakKrakatauEWS/data/raw/I06AU/I06AU_SAC'\n",
    "stationxml_directory = '/run/media/viblab/Markov2/Haykal/AnakKrakatauEWS/data/raw/I06AU/I06AU_STATIONS'\n",
    "\n",
    "# Run the Function\n",
    "mseed_to_sac(input_directory, output_directory, stationxml_directory)"
   ]
  },
  {
   "cell_type": "code",
   "execution_count": null,
   "metadata": {},
   "outputs": [],
   "source": [
    "        # 2.2 I52GB Waveform Conversion\n",
    "\n",
    "input_directory = '/run/media/viblab/Markov2/Haykal/AnakKrakatauEWS/data/raw/I52GB/I52GB_MSEED'\n",
    "output_directory = '/run/media/viblab/Markov2/Haykal/AnakKrakatauEWS/data/raw/I52GB/I52GB_SAC'\n",
    "stationxml_directory = '/run/media/viblab/Markov2/Haykal/AnakKrakatauEWS/data/raw/I52GB/I52GB_STATIONS'\n",
    "\n",
    "# Run the Function\n",
    "mseed_to_sac(input_directory, output_directory, stationxml_directory)\n"
   ]
  },
  {
   "attachments": {},
   "cell_type": "markdown",
   "metadata": {},
   "source": [
    "### 3. Conversion of SAC files to CSV"
   ]
  },
  {
   "cell_type": "code",
   "execution_count": 2,
   "metadata": {},
   "outputs": [
    {
     "data": {
      "application/vnd.jupyter.widget-view+json": {
       "model_id": "a0a06df251454be58003b942f67d40df",
       "version_major": 2,
       "version_minor": 0
      },
      "text/plain": [
       "Processing SAC files:   0%|          | 0/436 [00:00<?, ?it/s]"
      ]
     },
     "metadata": {},
     "output_type": "display_data"
    }
   ],
   "source": [
    "# 3.1 I06AU SAC to csv conversion\n",
    "\n",
    "folder_path = '/run/media/viblab/Markov2/Haykal/AnakKrakatauEWS/data/raw/I06AU/I06AU_SAC'\n",
    "output_folder = '/run/media/viblab/Markov2/Haykal/AnakKrakatauEWS/data/raw/I06AU/I06AU_CSV'\n",
    "freq = 0.1\n",
    "df_grouped_file_paths = sac_path_grouping(folder_path)\n",
    "\n",
    "# Iterate over the DataFrame rows and process each file path\n",
    "with concurrent.futures.ProcessPoolExecutor() as executor:\n",
    "    # Store future objects along with the corresponding file pattern for error handling\n",
    "    future_to_file = {executor.submit(sac_to_csv, row['GroupedFilePath'], output_folder, freq): row['GroupedFilePath'] for index, row in df_grouped_file_paths.iterrows()}\n",
    "\n",
    "    # Process completed futures\n",
    "    for future in tqdm(concurrent.futures.as_completed(future_to_file), total=len(future_to_file), desc=\"Processing SAC files\"):\n",
    "        file_path_pattern = future_to_file[future]\n",
    "        try:\n",
    "            # Get the result of the future\n",
    "            csv_output_path = future.result()\n",
    "            print(f'CSV file created at: {csv_output_path}')\n",
    "        except Exception as e:\n",
    "            print(f\"Error processing file pattern {file_path_pattern}: {e}\")"
   ]
  },
  {
   "cell_type": "code",
   "execution_count": null,
   "metadata": {},
   "outputs": [],
   "source": [
    "# 3.1 I52GB SAC to csv conversion\n",
    "\n",
    "folder_path = '/run/media/viblab/Markov11/Haykal/AnakKrakatauEWS/waveform_collection/I06AU/WAVEFORM_I06AU_SAC'\n",
    "output_folder = '/run/media/viblab/Markov11/Haykal/AnakKrakatauEWS/waveform_collection/I06AU/WAVEFORM_I06AU_CSV'\n",
    "freqmin = 0.7 \n",
    "freqmax = 4.0 \n",
    "df_grouped_file_paths = sac_path_grouping(folder_path)\n",
    "\n",
    "# Iterate over the DataFrame rows and process each file path\n",
    "for index, row in df_grouped_file_paths.iterrows():\n",
    "    file_path_pattern = row['GroupedFilePath']\n",
    "    try:\n",
    "        # Process each file path pattern with the sac_to_csv function\n",
    "        csv_output_path = sac_to_csv(file_path_pattern, output_folder, freqmin, freqmax)\n",
    "        print(f'CSV file created at: {csv_output_path}')\n",
    "    except Exception as e:\n",
    "        print(f\"Error processing file pattern {file_path_pattern}: {e}\")"
   ]
  },
  {
   "attachments": {},
   "cell_type": "markdown",
   "metadata": {},
   "source": [
    "### 7. Running Spectral Yield Detection"
   ]
  },
  {
   "cell_type": "code",
   "execution_count": 11,
   "metadata": {},
   "outputs": [
    {
     "name": "stdout",
     "output_type": "stream",
     "text": [
      "Usage: infrapy run_spye regional [OPTIONS]\n",
      "\n",
      "  Run Spectral Yield Estimation (SpYE) methods to estimate the equivalent TNT\n",
      "  yield of an above-ground explosion using a single set of transmission loss\n",
      "  models (TLMs)\n",
      "\n",
      "  Example usage (run from infrapy/examples directory):\n",
      "      infrapy run_spye regional --local-wvfrms '../infrapy-data/hrr-5/*/*.sac' --local-detect-label data/HRR-5.dets.json --src-lat 33.5377 --src-lon -106.333961 --tlm-label \"../infrapy/propagation/priors/tloss/2007_08-\" --local-yld-label \"HRR-5\"\n",
      "\n",
      "Options:\n",
      "  --config-file TEXT         Configuration file\n",
      "  --local-wvfrms TEXT        Local waveform data files\n",
      "  --fdsn TEXT                FDSN source for waveform data files\n",
      "  --db-config TEXT           Database configuration file\n",
      "  --local-detect-label TEXT  Detection results path\n",
      "  --local-loc-label TEXT     Localization results path\n",
      "  --local-yld-label TEXT     Output file for results\n",
      "  --tlm-label TEXT           Transmission loss model (TLM) path\n",
      "  --src-lat TEXT             Source latitude (if no loc result file)\n",
      "  --src-lon TEXT             Source longitude (if no loc result file)\n",
      "  --freq-min FLOAT           Minimum frequency (default: 0.25 [Hz])\n",
      "  --freq-max FLOAT           Maximum frequency (default: 1.0 [Hz])\n",
      "  --yld-min FLOAT            Minimum yield (default: 1 [tons eq. TNT])\n",
      "  --yld-max FLOAT            Maximum yield (default: 1e3 [tons eq. TNT])\n",
      "  --ref-rng FLOAT            Reference range for blastwave model (default 1.0\n",
      "                             km)\n",
      "  --resolution INTEGER       Number of points/dimension for numerical sampling\n",
      "                             (default: 200)\n",
      "  --noise-option TEXT        Noise option ('pre', 'post', or 'beam')\n",
      "  --window-buffer FLOAT      Window buffer scaling (default: 0.2)\n",
      "  --amb-press FLOAT          Ambient pressure (default: 101.325 [Pa])\n",
      "  --amb-temp FLOAT           Ambient temperature (default: 288.15 [K])\n",
      "  --grnd-burst BOOLEAN       Ground burst assumption (default: True [Hz])\n",
      "  --exp-type TEXT            Explosion type ('chemical' or 'nuclear')\n",
      "  -h, --help                 Show this message and exit.\n",
      "\u001b[0m"
     ]
    }
   ],
   "source": [
    "!infrapy run_spye regional -h\n"
   ]
  },
  {
   "cell_type": "code",
   "execution_count": 3,
   "metadata": {},
   "outputs": [
    {
     "name": "stdout",
     "output_type": "stream",
     "text": [
      "Saved trimmed data to /run/media/viblab/Markov2/Haykal/AnakKrakatauEWS/data/processed/I06AU_FULL/IM_det_635_20190105_000105_to_20190105_235550.csv\n"
     ]
    },
    {
     "data": {
      "application/vnd.jupyter.widget-view+json": {
       "model_id": "0f61a1c779c141dcbc17c9c55019e4a6",
       "version_major": 2,
       "version_minor": 0
      },
      "text/plain": [
       "Processing detections for IM.I06H_..BDF__20180917T000000Z__20180918T000000Z.csv:   0%|          | 0/906 [00:00…"
      ]
     },
     "metadata": {},
     "output_type": "display_data"
    },
    {
     "data": {
      "application/vnd.jupyter.widget-view+json": {
       "model_id": "21a4f1a8af094e83b29d286a4911ee9d",
       "version_major": 2,
       "version_minor": 0
      },
      "text/plain": [
       "Processing detections for IM.I06H_..BDF__20190722T000000Z__20190723T000000Z.csv:   0%|          | 0/906 [00:00…"
      ]
     },
     "metadata": {},
     "output_type": "display_data"
    },
    {
     "data": {
      "application/vnd.jupyter.widget-view+json": {
       "model_id": "23129fe633dd4fbc9957e5d662842291",
       "version_major": 2,
       "version_minor": 0
      },
      "text/plain": [
       "Processing detections for IM.I06H_..BDF__20181016T000000Z__20181017T000000Z.csv:   0%|          | 0/906 [00:00…"
      ]
     },
     "metadata": {},
     "output_type": "display_data"
    }
   ],
   "source": [
    "csv_folder = '/run/media/viblab/Markov2/Haykal/AnakKrakatauEWS/data/raw/I06AU/I06AU_CSV'\n",
    "detection_json = '/run/media/viblab/Markov2/Haykal/AnakKrakatauEWS/data/processed/I06AU.dets.json'\n",
    "output_folder = '/run/media/viblab/Markov2/Haykal/AnakKrakatauEWS/data/processed/I06AU_FULL'\n",
    "\n",
    "extract_det_from_csv(csv_folder, detection_json, output_folder)"
   ]
  },
  {
   "cell_type": "code",
   "execution_count": null,
   "metadata": {},
   "outputs": [],
   "source": [
    "        "
   ]
  }
 ],
 "metadata": {
  "kernelspec": {
   "display_name": "infrapy_env",
   "language": "python",
   "name": "python3"
  },
  "language_info": {
   "codemirror_mode": {
    "name": "ipython",
    "version": 3
   },
   "file_extension": ".py",
   "mimetype": "text/x-python",
   "name": "python",
   "nbconvert_exporter": "python",
   "pygments_lexer": "ipython3",
   "version": "3.9.17"
  }
 },
 "nbformat": 4,
 "nbformat_minor": 2
}
