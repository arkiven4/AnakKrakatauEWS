{
 "cells": [
  {
   "attachments": {},
   "cell_type": "markdown",
   "metadata": {},
   "source": [
    "## FDSN Waveform Downloader, Converter & Detector\n",
    "\n",
    "Downloads I06AU and I52GB waveforms from IRIS FSDN services using Obpsy Mass Downloader and then converts them the .SAC file with it's stats for further processing. The .SAC files will be then further processed using \"Bartlett\" beamforming method and Adaptive F-Detector to identify signals most related to Anak Krakatau Volcanic Activity. These specific volcanic activity signals will be later ingested into the algorithm for the Deep Learning processing\n",
    "\n",
    "This notebook consists of 3 parts:\n",
    "1. Dowloading Data using Obspy Mass Downloader\n",
    "2. Conversion of MSEED Files to .SAC\n",
    "3. Conversion of .SAC files to CSV\n",
    "4. Implementing FK Beamforming to each station group\n",
    "5. Running Adaptive F-Detector to Isolate relevant Waveform"
   ]
  },
  {
   "cell_type": "code",
   "execution_count": 3,
   "metadata": {},
   "outputs": [],
   "source": [
    "import sys\n",
    "sys.path.append('/run/media/viblab/Markov2/Haykal/AnakKrakatauEWS/')\n",
    "\n",
    "import obspy\n",
    "from obspy import UTCDateTime, read, read_inventory\n",
    "from obspy.clients.fdsn.mass_downloader import GlobalDomain, \\\n",
    "    Restrictions, MassDownloader\n",
    "from obspy.core.util.attribdict import AttribDict\n",
    "import os\n",
    "import subprocess\n",
    "import glob\n",
    "from tqdm.notebook import tqdm\n",
    "from src.utils.converter import *\n",
    "import concurrent.futures"
   ]
  },
  {
   "attachments": {},
   "cell_type": "markdown",
   "metadata": {},
   "source": [
    "### 1. Downloading Data Using Obspy Mass Downloader\n",
    "\n",
    "Download the data ranging from 2018-06-24T00:00:00 until 2019-09-03T00:00:00"
   ]
  },
  {
   "cell_type": "code",
   "execution_count": null,
   "metadata": {},
   "outputs": [],
   "source": [
    "# 1.1 I06AU Waveform Download\n",
    "\n",
    "domain = GlobalDomain()\n",
    "\n",
    "restrictions = Restrictions(\n",
    "    # Get data for a whole year.\n",
    "    starttime=obspy.UTCDateTime(2018, 6, 24),\n",
    "    endtime=obspy.UTCDateTime(2019, 9, 3),\n",
    "    # Chunk it to have one file per day.\n",
    "    chunklength_in_sec=86400,\n",
    "    network=\"IM\", station=\"I06H*\", location=\"\", channel=\"BDF\",\n",
    "    # The typical use case for such a data set are noise correlations where\n",
    "    # gaps are dealt with at a later stage.\n",
    "    reject_channels_with_gaps=False,\n",
    "    # Same is true with the minimum length. All data might be useful.\n",
    "    minimum_length=0.0,\n",
    "    # Guard against the same station having different names.\n",
    "    minimum_interstation_distance_in_m=100.0)\n",
    "\n",
    "mdl = MassDownloader(providers=[\"IRIS\"])\n",
    "mdl.download(domain, restrictions, mseed_storage=\"waveform_collection/I06AU/WAVEFORM_I06AU_MSEED\",\n",
    "             stationxml_storage=\"waveform_collection/I06AU/I06AU_STATIONS\")"
   ]
  },
  {
   "cell_type": "code",
   "execution_count": null,
   "metadata": {},
   "outputs": [],
   "source": [
    "# 1.2 I52GB Waveform Download\n",
    "\n",
    "domain = GlobalDomain()\n",
    "\n",
    "restrictions = Restrictions(\n",
    "    starttime=obspy.UTCDateTime(2018, 6, 24),\n",
    "    endtime=obspy.UTCDateTime(2019, 9, 3),\n",
    "    chunklength_in_sec=86400,\n",
    "    network=\"IM\", station=\"I52H*\", location=\"\", channel=\"BDF\",\n",
    "    reject_channels_with_gaps=False,\n",
    "    minimum_length=0.0,\n",
    "    minimum_interstation_distance_in_m=100.0)\n",
    "\n",
    "\n",
    "mdl = MassDownloader(providers=[\"IRIS\"])\n",
    "mdl.download(domain, restrictions, mseed_storage=\"waveform_collection/I52GB/WAVEFORM_I52GB_MSEED\",\n",
    "             stationxml_storage=\"waveform_collection/I52GB/I52GB_STATIONS\")"
   ]
  },
  {
   "attachments": {},
   "cell_type": "markdown",
   "metadata": {},
   "source": [
    "### 2. Conversion of MSEED Files to .SAC\n",
    "Converting MSEED Files to SAC Complete with Important Headers"
   ]
  },
  {
   "cell_type": "code",
   "execution_count": 4,
   "metadata": {},
   "outputs": [],
   "source": [
    "# 2.1 I06AU Waveform Conversion\n",
    "\n",
    "input_directory = '/run/media/viblab/Markov2/Haykal/AnakKrakatauEWS/data/raw/I06AU/I06AU_MSEED'\n",
    "output_directory = '/run/media/viblab/Markov2/Haykal/AnakKrakatauEWS/data/raw/I06AU/I06AU_SAC'\n",
    "stationxml_directory = '/run/media/viblab/Markov2/Haykal/AnakKrakatauEWS/data/raw/I06AU/I06AU_STATIONS'\n",
    "\n",
    "# Run the Function\n",
    "mseed_to_sac(input_directory, output_directory, stationxml_directory)"
   ]
  },
  {
   "cell_type": "code",
   "execution_count": null,
   "metadata": {},
   "outputs": [],
   "source": [
    "# 2.2 I52GB Waveform Conversion\n",
    "\n",
    "input_directory = 'waveform_collection/I52GB/WAVEFORM_I52GB_MSEED'\n",
    "output_directory = 'waveform_collection/I52GB/WAVEFORM_I52GB_SAC'\n",
    "stationxml_directory = 'waveform_collection/I52GB/I52GB_STATIONS'\n",
    "\n",
    "# Run the Function\n",
    "mseed_to_sac(input_directory, output_directory, stationxml_directory)\n"
   ]
  },
  {
   "attachments": {},
   "cell_type": "markdown",
   "metadata": {},
   "source": [
    "### 3. Conversion of SAC files to CSV"
   ]
  },
  {
   "cell_type": "code",
   "execution_count": 4,
   "metadata": {},
   "outputs": [
    {
     "data": {
      "application/vnd.jupyter.widget-view+json": {
       "model_id": "a4bc887d40f04469a592e9de586f3083",
       "version_major": 2,
       "version_minor": 0
      },
      "text/plain": [
       "Processing SAC files:   0%|          | 0/436 [00:00<?, ?it/s]"
      ]
     },
     "metadata": {},
     "output_type": "display_data"
    },
    {
     "name": "stdout",
     "output_type": "stream",
     "text": [
      "CSV file created at: /run/media/viblab/Markov2/Haykal/AnakKrakatauEWS/data/raw/I06AU/I06AU_CSV/IM.I06H_..BDF__20190205T000000Z__20190206T000000Z.csv\n"
     ]
    }
   ],
   "source": [
    "# 3.1 I06AU SAC to csv conversion\n",
    "\n",
    "folder_path = '/run/media/viblab/Markov2/Haykal/AnakKrakatauEWS/data/raw/I06AU/I06AU_SAC'\n",
    "output_folder = '/run/media/viblab/Markov2/Haykal/AnakKrakatauEWS/data/raw/I06AU/I06AU_CSV'\n",
    "freqmin = 0.7 \n",
    "freqmax = 4.0 \n",
    "df_grouped_file_paths = sac_path_grouping(folder_path)\n",
    "\n",
    "# Iterate over the DataFrame rows and process each file path\n",
    "with concurrent.futures.ProcessPoolExecutor() as executor:\n",
    "    # Store future objects along with the corresponding file pattern for error handling\n",
    "    future_to_file = {executor.submit(sac_to_csv, row['GroupedFilePath'], output_folder, freqmin, freqmax): row['GroupedFilePath'] for index, row in df_grouped_file_paths.iterrows()}\n",
    "\n",
    "    # Process completed futures\n",
    "    for future in tqdm(concurrent.futures.as_completed(future_to_file), total=len(future_to_file), desc=\"Processing SAC files\"):\n",
    "        file_path_pattern = future_to_file[future]\n",
    "        try:\n",
    "            # Get the result of the future\n",
    "            csv_output_path = future.result()\n",
    "            print(f'CSV file created at: {csv_output_path}')\n",
    "        except Exception as e:\n",
    "            print(f\"Error processing file pattern {file_path_pattern}: {e}\")"
   ]
  },
  {
   "cell_type": "code",
   "execution_count": 3,
   "metadata": {},
   "outputs": [
    {
     "name": "stdout",
     "output_type": "stream",
     "text": [
      "                                       GroupedFilePath\n",
      "0    /run/media/viblab/Markov2/Haykal/AnakKrakatauE...\n",
      "1    /run/media/viblab/Markov2/Haykal/AnakKrakatauE...\n",
      "2    /run/media/viblab/Markov2/Haykal/AnakKrakatauE...\n",
      "3    /run/media/viblab/Markov2/Haykal/AnakKrakatauE...\n",
      "4    /run/media/viblab/Markov2/Haykal/AnakKrakatauE...\n",
      "..                                                 ...\n",
      "431  /run/media/viblab/Markov2/Haykal/AnakKrakatauE...\n",
      "432  /run/media/viblab/Markov2/Haykal/AnakKrakatauE...\n",
      "433  /run/media/viblab/Markov2/Haykal/AnakKrakatauE...\n",
      "434  /run/media/viblab/Markov2/Haykal/AnakKrakatauE...\n",
      "435  /run/media/viblab/Markov2/Haykal/AnakKrakatauE...\n",
      "\n",
      "[436 rows x 1 columns]\n"
     ]
    }
   ],
   "source": [
    "df_grouped_file_paths =sac_path_grouping('/run/media/viblab/Markov2/Haykal/AnakKrakatauEWS/data/raw/I06AU/I06AU_SAC')\n",
    "print(df_grouped_file_paths)"
   ]
  },
  {
   "cell_type": "code",
   "execution_count": null,
   "metadata": {},
   "outputs": [],
   "source": [
    "# 3.1 I52GB SAC to csv conversion\n",
    "\n",
    "folder_path = '/run/media/viblab/Markov11/Haykal/AnakKrakatauEWS/waveform_collection/I06AU/WAVEFORM_I06AU_SAC'\n",
    "output_folder = '/run/media/viblab/Markov11/Haykal/AnakKrakatauEWS/waveform_collection/I06AU/WAVEFORM_I06AU_CSV'\n",
    "freqmin = 0.7 \n",
    "freqmax = 4.0 \n",
    "df_grouped_file_paths = sac_path_grouping(folder_path)\n",
    "\n",
    "# Iterate over the DataFrame rows and process each file path\n",
    "for index, row in df_grouped_file_paths.iterrows():\n",
    "    file_path_pattern = row['GroupedFilePath']\n",
    "    try:\n",
    "        # Process each file path pattern with the sac_to_csv function\n",
    "        csv_output_path = sac_to_csv(file_path_pattern, output_folder, freqmin, freqmax)\n",
    "        print(f'CSV file created at: {csv_output_path}')\n",
    "    except Exception as e:\n",
    "        print(f\"Error processing file pattern {file_path_pattern}: {e}\")"
   ]
  },
  {
   "attachments": {},
   "cell_type": "markdown",
   "metadata": {},
   "source": [
    "### 4. Running Beamforming\n"
   ]
  },
  {
   "cell_type": "code",
   "execution_count": null,
   "metadata": {},
   "outputs": [],
   "source": [
    "# 4.1 Running Beamforming on I06AU Waveform\n",
    "\n",
    "base_folder_path = '/run/media/viblab/Markov11/Haykal/AnakKrakatauEWS/waveform_collection/I06AU/WAVEFORM_I06AU_SAC'\n",
    "df_grouped_file_paths = sac_path_grouping(base_folder_path)\n",
    "\n",
    "# Wrap the iterrows with tqdm to create a progress bar\n",
    "for index, row in tqdm(df_grouped_file_paths.iterrows(), total=df_grouped_file_paths.shape[0], desc=\"Processing\"):\n",
    "    # Construct the full path to the grouped files\n",
    "    full_grouped_path = f\"{base_folder_path}/{row['GroupedFilePath']}\"\n",
    "\n",
    "    # Prepare the CLI command\n",
    "    cli_command = f\"infrapy run_fk --local-wvfrms \\\"{full_grouped_path}\\\" --\"\n",
    "    \n",
    "    try:\n",
    "        # Execute the CLI command\n",
    "        subprocess.run(cli_command, shell=True, check=True)\n",
    "        print(f\"Command executed for: {full_grouped_path}\")\n",
    "    except subprocess.CalledProcessError as e:\n",
    "        print(f\"An error occurred while running the command for {full_grouped_path}: {e}\")"
   ]
  },
  {
   "cell_type": "code",
   "execution_count": null,
   "metadata": {},
   "outputs": [],
   "source": [
    "# 4.1 Running Beamforming on I52GB Waveform\n",
    "\n",
    "base_folder_path = '/run/media/viblab/Markov11/Haykal/AnakKrakatauEWS/waveform_collection/I52GB/WAVEFORM_I52GB_SAC'\n",
    "df_grouped_file_paths = sac_path_grouping(base_folder_path)\n",
    "\n",
    "# Wrap the iterrows with tqdm to create a progress bar\n",
    "for index, row in tqdm(df_grouped_file_paths.iterrows(), total=df_grouped_file_paths.shape[0], desc=\"Processing\"):\n",
    "    # Construct the full path to the grouped files\n",
    "    full_grouped_path = f\"{base_folder_path}/{row['GroupedFilePath']}\"\n",
    "\n",
    "    # Prepare the CLI command\n",
    "    cli_command = f\"infrapy run_fk --local-wvfrms \\\"{full_grouped_path}\\\" --\"\n",
    "    \n",
    "    try:\n",
    "        # Execute the CLI command\n",
    "        subprocess.run(cli_command, shell=True, check=True)\n",
    "        print(f\"Command executed for: {full_grouped_path}\")\n",
    "    except subprocess.CalledProcessError as e:\n",
    "        print(f\"An error occurred while running the command for {full_grouped_path}: {e}\")"
   ]
  },
  {
   "cell_type": "code",
   "execution_count": 5,
   "metadata": {},
   "outputs": [
    {
     "name": "stderr",
     "output_type": "stream",
     "text": [
      "Processing CSV files:   0%|          | 0/436 [00:00<?, ?it/s]"
     ]
    },
    {
     "name": "stderr",
     "output_type": "stream",
     "text": [
      "Processing CSV files:   0%|          | 1/436 [00:07<52:35,  7.25s/it]"
     ]
    },
    {
     "name": "stdout",
     "output_type": "stream",
     "text": [
      "Saved trimmed data to /run/media/viblab/Markov2/Haykal/AnakKrakatauEWS/data/processed/I06AU_NON_EVENT/IM_det_165_20181014_193905_to_20181014_193915.csv\n"
     ]
    },
    {
     "name": "stderr",
     "output_type": "stream",
     "text": [
      "Processing CSV files:   1%|          | 5/436 [00:38<55:25,  7.72s/it]"
     ]
    },
    {
     "name": "stdout",
     "output_type": "stream",
     "text": [
      "Saved trimmed data to /run/media/viblab/Markov2/Haykal/AnakKrakatauEWS/data/processed/I06AU_NON_EVENT/IM_det_136_20180809_001014_to_20180809_001019.csv\n",
      "Saved trimmed data to /run/media/viblab/Markov2/Haykal/AnakKrakatauEWS/data/processed/I06AU_NON_EVENT/IM_det_137_20180809_015159_to_20180809_015204.csv\n",
      "Saved trimmed data to /run/media/viblab/Markov2/Haykal/AnakKrakatauEWS/data/processed/I06AU_NON_EVENT/IM_det_138_20180809_072429_to_20180809_072434.csv\n",
      "Saved trimmed data to /run/media/viblab/Markov2/Haykal/AnakKrakatauEWS/data/processed/I06AU_NON_EVENT/IM_det_139_20180809_073609_to_20180809_073614.csv\n"
     ]
    },
    {
     "name": "stderr",
     "output_type": "stream",
     "text": [
      "Processing CSV files:   2%|▏         | 9/436 [01:11<57:55,  8.14s/it]"
     ]
    },
    {
     "name": "stdout",
     "output_type": "stream",
     "text": [
      "Saved trimmed data to /run/media/viblab/Markov2/Haykal/AnakKrakatauEWS/data/processed/I06AU_NON_EVENT/IM_det_380_20181228_000125_to_20181228_235730.csv\n"
     ]
    },
    {
     "name": "stderr",
     "output_type": "stream",
     "text": [
      "Processing CSV files:   3%|▎         | 12/436 [01:50<1:13:10, 10.36s/it]"
     ]
    },
    {
     "name": "stdout",
     "output_type": "stream",
     "text": [
      "Saved trimmed data to /run/media/viblab/Markov2/Haykal/AnakKrakatauEWS/data/processed/I06AU_NON_EVENT/IM_det_149_20181009_014609_to_20181009_014614.csv\n",
      "Saved trimmed data to /run/media/viblab/Markov2/Haykal/AnakKrakatauEWS/data/processed/I06AU_NON_EVENT/IM_det_150_20181009_030324_to_20181009_030329.csv\n",
      "Saved trimmed data to /run/media/viblab/Markov2/Haykal/AnakKrakatauEWS/data/processed/I06AU_NON_EVENT/IM_det_151_20181009_060459_to_20181009_060504.csv\n",
      "Saved trimmed data to /run/media/viblab/Markov2/Haykal/AnakKrakatauEWS/data/processed/I06AU_NON_EVENT/IM_det_152_20181009_060739_to_20181009_060744.csv\n",
      "Saved trimmed data to /run/media/viblab/Markov2/Haykal/AnakKrakatauEWS/data/processed/I06AU_NON_EVENT/IM_det_153_20181009_062304_to_20181009_062309.csv\n",
      "Saved trimmed data to /run/media/viblab/Markov2/Haykal/AnakKrakatauEWS/data/processed/I06AU_NON_EVENT/IM_det_154_20181009_071604_to_20181009_071609.csv\n",
      "Saved trimmed data to /run/media/viblab/Markov2/Haykal/AnakKrakatauEWS/data/processed/I06AU_NON_EVENT/IM_det_155_20181009_080839_to_20181009_080919.csv\n",
      "Saved trimmed data to /run/media/viblab/Markov2/Haykal/AnakKrakatauEWS/data/processed/I06AU_NON_EVENT/IM_det_156_20181009_083644_to_20181009_083649.csv\n"
     ]
    },
    {
     "name": "stderr",
     "output_type": "stream",
     "text": [
      "Processing CSV files:   3%|▎         | 13/436 [02:00<1:11:29, 10.14s/it]"
     ]
    },
    {
     "name": "stdout",
     "output_type": "stream",
     "text": [
      "Saved trimmed data to /run/media/viblab/Markov2/Haykal/AnakKrakatauEWS/data/processed/I06AU_NON_EVENT/IM_det_173_20181117_223050_to_20181117_223055.csv\n",
      "Saved trimmed data to /run/media/viblab/Markov2/Haykal/AnakKrakatauEWS/data/processed/I06AU_NON_EVENT/IM_det_174_20181117_224220_to_20181117_224225.csv\n",
      "Saved trimmed data to /run/media/viblab/Markov2/Haykal/AnakKrakatauEWS/data/processed/I06AU_NON_EVENT/IM_det_175_20181117_224250_to_20181117_224300.csv\n",
      "Saved trimmed data to /run/media/viblab/Markov2/Haykal/AnakKrakatauEWS/data/processed/I06AU_NON_EVENT/IM_det_176_20181117_232920_to_20181117_232945.csv\n",
      "Saved trimmed data to /run/media/viblab/Markov2/Haykal/AnakKrakatauEWS/data/processed/I06AU_NON_EVENT/IM_det_177_20181117_233610_to_20181117_233615.csv\n",
      "Saved trimmed data to /run/media/viblab/Markov2/Haykal/AnakKrakatauEWS/data/processed/I06AU_NON_EVENT/IM_det_178_20181117_234030_to_20181117_234035.csv\n",
      "Saved trimmed data to /run/media/viblab/Markov2/Haykal/AnakKrakatauEWS/data/processed/I06AU_NON_EVENT/IM_det_179_20181117_234330_to_20181117_234410.csv\n"
     ]
    },
    {
     "name": "stderr",
     "output_type": "stream",
     "text": [
      "Processing CSV files:   3%|▎         | 14/436 [02:08<1:08:31,  9.74s/it]"
     ]
    },
    {
     "name": "stdout",
     "output_type": "stream",
     "text": [
      "Saved trimmed data to /run/media/viblab/Markov2/Haykal/AnakKrakatauEWS/data/processed/I06AU_NON_EVENT/IM_det_157_20181010_093615_to_20181010_093620.csv\n",
      "Saved trimmed data to /run/media/viblab/Markov2/Haykal/AnakKrakatauEWS/data/processed/I06AU_NON_EVENT/IM_det_158_20181010_181920_to_20181010_181930.csv\n",
      "Saved trimmed data to /run/media/viblab/Markov2/Haykal/AnakKrakatauEWS/data/processed/I06AU_NON_EVENT/IM_det_159_20181010_202910_to_20181010_202915.csv\n"
     ]
    },
    {
     "name": "stderr",
     "output_type": "stream",
     "text": [
      "Processing CSV files:   4%|▎         | 16/436 [02:27<1:06:06,  9.44s/it]"
     ]
    },
    {
     "name": "stdout",
     "output_type": "stream",
     "text": [
      "Saved trimmed data to /run/media/viblab/Markov2/Haykal/AnakKrakatauEWS/data/processed/I06AU_NON_EVENT/IM_det_447_20181231_001158_to_20181231_001203.csv\n",
      "Saved trimmed data to /run/media/viblab/Markov2/Haykal/AnakKrakatauEWS/data/processed/I06AU_NON_EVENT/IM_det_448_20181231_001803_to_20181231_001908.csv\n",
      "Saved trimmed data to /run/media/viblab/Markov2/Haykal/AnakKrakatauEWS/data/processed/I06AU_NON_EVENT/IM_det_449_20181231_002053_to_20181231_002058.csv\n",
      "Saved trimmed data to /run/media/viblab/Markov2/Haykal/AnakKrakatauEWS/data/processed/I06AU_NON_EVENT/IM_det_450_20181231_002108_to_20181231_002113.csv\n"
     ]
    },
    {
     "name": "stderr",
     "output_type": "stream",
     "text": [
      "Processing CSV files:   6%|▌         | 24/436 [03:25<50:55,  7.42s/it]  "
     ]
    },
    {
     "name": "stdout",
     "output_type": "stream",
     "text": [
      "Saved trimmed data to /run/media/viblab/Markov2/Haykal/AnakKrakatauEWS/data/processed/I06AU_NON_EVENT/IM_det_180_20181118_003216_to_20181118_231046.csv\n"
     ]
    },
    {
     "name": "stderr",
     "output_type": "stream",
     "text": [
      "Processing CSV files:   8%|▊         | 35/436 [05:11<1:00:13,  9.01s/it]"
     ]
    },
    {
     "name": "stdout",
     "output_type": "stream",
     "text": [
      "Saved trimmed data to /run/media/viblab/Markov2/Haykal/AnakKrakatauEWS/data/processed/I06AU_NON_EVENT/IM_det_57_20180717_073718_to_20180717_073723.csv\n",
      "Saved trimmed data to /run/media/viblab/Markov2/Haykal/AnakKrakatauEWS/data/processed/I06AU_NON_EVENT/IM_det_58_20180717_074928_to_20180717_074933.csv\n",
      "Saved trimmed data to /run/media/viblab/Markov2/Haykal/AnakKrakatauEWS/data/processed/I06AU_NON_EVENT/IM_det_59_20180717_074943_to_20180717_074948.csv\n",
      "Saved trimmed data to /run/media/viblab/Markov2/Haykal/AnakKrakatauEWS/data/processed/I06AU_NON_EVENT/IM_det_60_20180717_075113_to_20180717_075123.csv\n",
      "Saved trimmed data to /run/media/viblab/Markov2/Haykal/AnakKrakatauEWS/data/processed/I06AU_NON_EVENT/IM_det_61_20180717_180853_to_20180717_180858.csv\n"
     ]
    },
    {
     "name": "stderr",
     "output_type": "stream",
     "text": [
      "Processing CSV files:   9%|▉         | 40/436 [05:54<58:12,  8.82s/it]  "
     ]
    },
    {
     "name": "stdout",
     "output_type": "stream",
     "text": [
      "Saved trimmed data to /run/media/viblab/Markov2/Haykal/AnakKrakatauEWS/data/processed/I06AU_NON_EVENT/IM_det_185_20181129_091303_to_20181129_091328.csv\n",
      "Saved trimmed data to /run/media/viblab/Markov2/Haykal/AnakKrakatauEWS/data/processed/I06AU_NON_EVENT/IM_det_186_20181129_100453_to_20181129_100458.csv\n",
      "Saved trimmed data to /run/media/viblab/Markov2/Haykal/AnakKrakatauEWS/data/processed/I06AU_NON_EVENT/IM_det_187_20181129_100648_to_20181129_100703.csv\n"
     ]
    },
    {
     "name": "stderr",
     "output_type": "stream",
     "text": [
      "Processing CSV files:  10%|▉         | 42/436 [06:11<56:45,  8.64s/it]"
     ]
    },
    {
     "name": "stdout",
     "output_type": "stream",
     "text": [
      "Saved trimmed data to /run/media/viblab/Markov2/Haykal/AnakKrakatauEWS/data/processed/I06AU_NON_EVENT/IM_det_532_20190209_201602_to_20190209_201607.csv\n"
     ]
    },
    {
     "name": "stderr",
     "output_type": "stream",
     "text": [
      "Processing CSV files:  11%|█         | 47/436 [06:42<39:46,  6.14s/it]"
     ]
    },
    {
     "name": "stdout",
     "output_type": "stream",
     "text": [
      "Saved trimmed data to /run/media/viblab/Markov2/Haykal/AnakKrakatauEWS/data/processed/I06AU_NON_EVENT/IM_det_379_20181227_000225_to_20181227_235925.csv\n"
     ]
    },
    {
     "name": "stderr",
     "output_type": "stream",
     "text": [
      "Processing CSV files:  12%|█▏        | 51/436 [07:20<49:24,  7.70s/it]  \n",
      "Processing detections for IM.I06H_..BDF__20190108T000000Z__20190109T000000Z.csv:  85%|████████▍ | 474/560 [00:03<00:00, 136.25it/s]"
     ]
    },
    {
     "name": "stdout",
     "output_type": "stream",
     "text": [
      "Saved trimmed data to /run/media/viblab/Markov2/Haykal/AnakKrakatauEWS/data/processed/I06AU_NON_EVENT/IM_det_451_20190108_144646_to_20190108_144701.csv\n",
      "Saved trimmed data to /run/media/viblab/Markov2/Haykal/AnakKrakatauEWS/data/processed/I06AU_NON_EVENT/IM_det_452_20190108_154226_to_20190108_154231.csv\n",
      "Saved trimmed data to /run/media/viblab/Markov2/Haykal/AnakKrakatauEWS/data/processed/I06AU_NON_EVENT/IM_det_453_20190108_155731_to_20190108_155751.csv\n",
      "Saved trimmed data to /run/media/viblab/Markov2/Haykal/AnakKrakatauEWS/data/processed/I06AU_NON_EVENT/IM_det_454_20190108_155931_to_20190108_155936.csv\n",
      "Saved trimmed data to /run/media/viblab/Markov2/Haykal/AnakKrakatauEWS/data/processed/I06AU_NON_EVENT/IM_det_455_20190108_161656_to_20190108_161701.csv\n",
      "Saved trimmed data to /run/media/viblab/Markov2/Haykal/AnakKrakatauEWS/data/processed/I06AU_NON_EVENT/IM_det_456_20190108_163931_to_20190108_163936.csv\n",
      "Saved trimmed data to /run/media/viblab/Markov2/Haykal/AnakKrakatauEWS/data/processed/I06AU_NON_EVENT/IM_det_457_20190108_170156_to_20190108_170221.csv\n",
      "Saved trimmed data to /run/media/viblab/Markov2/Haykal/AnakKrakatauEWS/data/processed/I06AU_NON_EVENT/IM_det_458_20190108_170446_to_20190108_170456.csv\n",
      "Saved trimmed data to /run/media/viblab/Markov2/Haykal/AnakKrakatauEWS/data/processed/I06AU_NON_EVENT/IM_det_459_20190108_172721_to_20190108_172736.csv\n",
      "Saved trimmed data to /run/media/viblab/Markov2/Haykal/AnakKrakatauEWS/data/processed/I06AU_NON_EVENT/IM_det_460_20190108_172916_to_20190108_172926.csv\n",
      "Saved trimmed data to /run/media/viblab/Markov2/Haykal/AnakKrakatauEWS/data/processed/I06AU_NON_EVENT/IM_det_461_20190108_174441_to_20190108_174446.csv\n",
      "Saved trimmed data to /run/media/viblab/Markov2/Haykal/AnakKrakatauEWS/data/processed/I06AU_NON_EVENT/IM_det_462_20190108_174626_to_20190108_174656.csv\n",
      "Saved trimmed data to /run/media/viblab/Markov2/Haykal/AnakKrakatauEWS/data/processed/I06AU_NON_EVENT/IM_det_463_20190108_174831_to_20190108_174841.csv\n",
      "Saved trimmed data to /run/media/viblab/Markov2/Haykal/AnakKrakatauEWS/data/processed/I06AU_NON_EVENT/IM_det_464_20190108_174916_to_20190108_174926.csv\n",
      "Saved trimmed data to /run/media/viblab/Markov2/Haykal/AnakKrakatauEWS/data/processed/I06AU_NON_EVENT/IM_det_465_20190108_180651_to_20190108_180656.csv\n",
      "Saved trimmed data to /run/media/viblab/Markov2/Haykal/AnakKrakatauEWS/data/processed/I06AU_NON_EVENT/IM_det_466_20190108_180851_to_20190108_180856.csv\n",
      "Saved trimmed data to /run/media/viblab/Markov2/Haykal/AnakKrakatauEWS/data/processed/I06AU_NON_EVENT/IM_det_467_20190108_181741_to_20190108_181746.csv\n",
      "Saved trimmed data to /run/media/viblab/Markov2/Haykal/AnakKrakatauEWS/data/processed/I06AU_NON_EVENT/IM_det_468_20190108_182026_to_20190108_182031.csv\n",
      "Saved trimmed data to /run/media/viblab/Markov2/Haykal/AnakKrakatauEWS/data/processed/I06AU_NON_EVENT/IM_det_469_20190108_220056_to_20190108_220101.csv\n",
      "Saved trimmed data to /run/media/viblab/Markov2/Haykal/AnakKrakatauEWS/data/processed/I06AU_NON_EVENT/IM_det_470_20190108_220246_to_20190108_220251.csv\n",
      "Saved trimmed data to /run/media/viblab/Markov2/Haykal/AnakKrakatauEWS/data/processed/I06AU_NON_EVENT/IM_det_471_20190108_220311_to_20190108_220321.csv\n",
      "Saved trimmed data to /run/media/viblab/Markov2/Haykal/AnakKrakatauEWS/data/processed/I06AU_NON_EVENT/IM_det_472_20190108_225906_to_20190108_225911.csv\n"
     ]
    },
    {
     "name": "stderr",
     "output_type": "stream",
     "text": [
      "Processing CSV files:  12%|█▏        | 53/436 [07:40<55:01,  8.62s/it]"
     ]
    },
    {
     "name": "stdout",
     "output_type": "stream",
     "text": [
      "Saved trimmed data to /run/media/viblab/Markov2/Haykal/AnakKrakatauEWS/data/processed/I06AU_NON_EVENT/IM_det_512_20190125_002015_to_20190125_002020.csv\n"
     ]
    },
    {
     "name": "stderr",
     "output_type": "stream",
     "text": [
      "Processing CSV files:  12%|█▏        | 54/436 [07:48<55:14,  8.68s/it]"
     ]
    },
    {
     "name": "stdout",
     "output_type": "stream",
     "text": [
      "Saved trimmed data to /run/media/viblab/Markov2/Haykal/AnakKrakatauEWS/data/processed/I06AU_NON_EVENT/IM_det_184_20181127_103941_to_20181127_103946.csv\n"
     ]
    },
    {
     "name": "stderr",
     "output_type": "stream",
     "text": [
      "Processing CSV files:  13%|█▎        | 58/436 [08:22<54:00,  8.57s/it]"
     ]
    },
    {
     "name": "stdout",
     "output_type": "stream",
     "text": [
      "Saved trimmed data to /run/media/viblab/Markov2/Haykal/AnakKrakatauEWS/data/processed/I06AU_NON_EVENT/IM_det_142_20180813_163356_to_20180813_163401.csv\n"
     ]
    },
    {
     "name": "stderr",
     "output_type": "stream",
     "text": [
      "Processing CSV files:  14%|█▍        | 62/436 [08:48<38:31,  6.18s/it]"
     ]
    },
    {
     "name": "stdout",
     "output_type": "stream",
     "text": [
      "Saved trimmed data to /run/media/viblab/Markov2/Haykal/AnakKrakatauEWS/data/processed/I06AU_NON_EVENT/IM_det_37_20180707_205316_to_20180707_205321.csv\n"
     ]
    },
    {
     "name": "stderr",
     "output_type": "stream",
     "text": [
      "Processing CSV files:  16%|█▌        | 69/436 [09:32<45:14,  7.40s/it]"
     ]
    },
    {
     "name": "stdout",
     "output_type": "stream",
     "text": [
      "Saved trimmed data to /run/media/viblab/Markov2/Haykal/AnakKrakatauEWS/data/processed/I06AU_NON_EVENT/IM_det_201_20181221_132021_to_20181221_132026.csv\n",
      "Saved trimmed data to /run/media/viblab/Markov2/Haykal/AnakKrakatauEWS/data/processed/I06AU_NON_EVENT/IM_det_202_20181221_132741_to_20181221_132746.csv\n",
      "Saved trimmed data to /run/media/viblab/Markov2/Haykal/AnakKrakatauEWS/data/processed/I06AU_NON_EVENT/IM_det_203_20181221_134326_to_20181221_134331.csv\n",
      "Saved trimmed data to /run/media/viblab/Markov2/Haykal/AnakKrakatauEWS/data/processed/I06AU_NON_EVENT/IM_det_204_20181221_134531_to_20181221_134536.csv\n",
      "Saved trimmed data to /run/media/viblab/Markov2/Haykal/AnakKrakatauEWS/data/processed/I06AU_NON_EVENT/IM_det_205_20181221_152006_to_20181221_152011.csv\n",
      "Saved trimmed data to /run/media/viblab/Markov2/Haykal/AnakKrakatauEWS/data/processed/I06AU_NON_EVENT/IM_det_206_20181221_153221_to_20181221_153226.csv\n",
      "Saved trimmed data to /run/media/viblab/Markov2/Haykal/AnakKrakatauEWS/data/processed/I06AU_NON_EVENT/IM_det_207_20181221_155046_to_20181221_155051.csv\n",
      "Saved trimmed data to /run/media/viblab/Markov2/Haykal/AnakKrakatauEWS/data/processed/I06AU_NON_EVENT/IM_det_208_20181221_155356_to_20181221_155406.csv\n",
      "Saved trimmed data to /run/media/viblab/Markov2/Haykal/AnakKrakatauEWS/data/processed/I06AU_NON_EVENT/IM_det_209_20181221_155631_to_20181221_155636.csv\n",
      "Saved trimmed data to /run/media/viblab/Markov2/Haykal/AnakKrakatauEWS/data/processed/I06AU_NON_EVENT/IM_det_210_20181221_161311_to_20181221_161316.csv\n"
     ]
    },
    {
     "name": "stderr",
     "output_type": "stream",
     "text": [
      "Processing CSV files:  16%|█▋        | 71/436 [09:47<45:54,  7.55s/it]"
     ]
    },
    {
     "name": "stdout",
     "output_type": "stream",
     "text": [
      "Saved trimmed data to /run/media/viblab/Markov2/Haykal/AnakKrakatauEWS/data/processed/I06AU_NON_EVENT/IM_det_488_20190111_003536_to_20190111_003546.csv\n",
      "Saved trimmed data to /run/media/viblab/Markov2/Haykal/AnakKrakatauEWS/data/processed/I06AU_NON_EVENT/IM_det_489_20190111_004106_to_20190111_004111.csv\n",
      "Saved trimmed data to /run/media/viblab/Markov2/Haykal/AnakKrakatauEWS/data/processed/I06AU_NON_EVENT/IM_det_490_20190111_004436_to_20190111_004441.csv\n",
      "Saved trimmed data to /run/media/viblab/Markov2/Haykal/AnakKrakatauEWS/data/processed/I06AU_NON_EVENT/IM_det_491_20190111_012841_to_20190111_012851.csv\n"
     ]
    },
    {
     "name": "stderr",
     "output_type": "stream",
     "text": [
      "Processing CSV files:  17%|█▋        | 74/436 [10:13<48:12,  7.99s/it]"
     ]
    },
    {
     "name": "stdout",
     "output_type": "stream",
     "text": [
      "Saved trimmed data to /run/media/viblab/Markov2/Haykal/AnakKrakatauEWS/data/processed/I06AU_NON_EVENT/IM_det_493_20190122_205051_to_20190122_205056.csv\n",
      "Saved trimmed data to /run/media/viblab/Markov2/Haykal/AnakKrakatauEWS/data/processed/I06AU_NON_EVENT/IM_det_494_20190122_225416_to_20190122_225421.csv\n"
     ]
    },
    {
     "name": "stderr",
     "output_type": "stream",
     "text": [
      "Processing CSV files:  19%|█▉        | 84/436 [11:28<36:12,  6.17s/it]"
     ]
    },
    {
     "name": "stdout",
     "output_type": "stream",
     "text": [
      "Saved trimmed data to /run/media/viblab/Markov2/Haykal/AnakKrakatauEWS/data/processed/I06AU_NON_EVENT/IM_det_62_20180804_073352_to_20180804_233937.csv\n"
     ]
    },
    {
     "name": "stderr",
     "output_type": "stream",
     "text": [
      "Processing CSV files:  20%|█▉        | 86/436 [11:56<56:50,  9.74s/it]"
     ]
    },
    {
     "name": "stdout",
     "output_type": "stream",
     "text": [
      "Saved trimmed data to /run/media/viblab/Markov2/Haykal/AnakKrakatauEWS/data/processed/I06AU_NON_EVENT/IM_det_197_20181220_073442_to_20181220_073452.csv\n",
      "Saved trimmed data to /run/media/viblab/Markov2/Haykal/AnakKrakatauEWS/data/processed/I06AU_NON_EVENT/IM_det_198_20181220_082342_to_20181220_082347.csv\n",
      "Saved trimmed data to /run/media/viblab/Markov2/Haykal/AnakKrakatauEWS/data/processed/I06AU_NON_EVENT/IM_det_199_20181220_091502_to_20181220_091507.csv\n",
      "Saved trimmed data to /run/media/viblab/Markov2/Haykal/AnakKrakatauEWS/data/processed/I06AU_NON_EVENT/IM_det_200_20181220_091807_to_20181220_091812.csv\n"
     ]
    },
    {
     "name": "stderr",
     "output_type": "stream",
     "text": [
      "Processing CSV files:  23%|██▎       | 102/436 [13:44<40:27,  7.27s/it]"
     ]
    },
    {
     "name": "stdout",
     "output_type": "stream",
     "text": [
      "Saved trimmed data to /run/media/viblab/Markov2/Haykal/AnakKrakatauEWS/data/processed/I06AU_NON_EVENT/IM_det_211_20181222_053907_to_20181222_230252.csv\n"
     ]
    },
    {
     "name": "stderr",
     "output_type": "stream",
     "text": [
      "Processing CSV files:  26%|██▌       | 114/436 [15:19<42:10,  7.86s/it]"
     ]
    },
    {
     "name": "stdout",
     "output_type": "stream",
     "text": [
      "Saved trimmed data to /run/media/viblab/Markov2/Haykal/AnakKrakatauEWS/data/processed/I06AU_NON_EVENT/IM_det_520_20190131_132701_to_20190131_132706.csv\n",
      "Saved trimmed data to /run/media/viblab/Markov2/Haykal/AnakKrakatauEWS/data/processed/I06AU_NON_EVENT/IM_det_521_20190131_132721_to_20190131_132726.csv\n",
      "Saved trimmed data to /run/media/viblab/Markov2/Haykal/AnakKrakatauEWS/data/processed/I06AU_NON_EVENT/IM_det_522_20190131_132806_to_20190131_132811.csv\n",
      "Saved trimmed data to /run/media/viblab/Markov2/Haykal/AnakKrakatauEWS/data/processed/I06AU_NON_EVENT/IM_det_523_20190131_132856_to_20190131_132906.csv\n",
      "Saved trimmed data to /run/media/viblab/Markov2/Haykal/AnakKrakatauEWS/data/processed/I06AU_NON_EVENT/IM_det_524_20190131_132956_to_20190131_133031.csv\n",
      "Saved trimmed data to /run/media/viblab/Markov2/Haykal/AnakKrakatauEWS/data/processed/I06AU_NON_EVENT/IM_det_525_20190131_172521_to_20190131_172526.csv\n"
     ]
    },
    {
     "name": "stderr",
     "output_type": "stream",
     "text": [
      "Processing CSV files:  30%|███       | 131/436 [16:56<22:20,  4.39s/it]"
     ]
    },
    {
     "name": "stdout",
     "output_type": "stream",
     "text": [
      "Saved trimmed data to /run/media/viblab/Markov2/Haykal/AnakKrakatauEWS/data/processed/I06AU_NON_EVENT/IM_det_167_20181022_155225_to_20181022_155235.csv\n",
      "Saved trimmed data to /run/media/viblab/Markov2/Haykal/AnakKrakatauEWS/data/processed/I06AU_NON_EVENT/IM_det_168_20181022_205215_to_20181022_205225.csv\n"
     ]
    },
    {
     "name": "stderr",
     "output_type": "stream",
     "text": [
      "Processing CSV files:  31%|███       | 133/436 [17:12<31:28,  6.23s/it]"
     ]
    },
    {
     "name": "stdout",
     "output_type": "stream",
     "text": [
      "Saved trimmed data to /run/media/viblab/Markov2/Haykal/AnakKrakatauEWS/data/processed/I06AU_NON_EVENT/IM_det_160_20181011_065940_to_20181011_065945.csv\n",
      "Saved trimmed data to /run/media/viblab/Markov2/Haykal/AnakKrakatauEWS/data/processed/I06AU_NON_EVENT/IM_det_161_20181011_070135_to_20181011_070150.csv\n",
      "Saved trimmed data to /run/media/viblab/Markov2/Haykal/AnakKrakatauEWS/data/processed/I06AU_NON_EVENT/IM_det_162_20181011_073805_to_20181011_073815.csv\n",
      "Saved trimmed data to /run/media/viblab/Markov2/Haykal/AnakKrakatauEWS/data/processed/I06AU_NON_EVENT/IM_det_163_20181011_100245_to_20181011_100250.csv\n",
      "Saved trimmed data to /run/media/viblab/Markov2/Haykal/AnakKrakatauEWS/data/processed/I06AU_NON_EVENT/IM_det_164_20181011_105605_to_20181011_105610.csv\n"
     ]
    },
    {
     "name": "stderr",
     "output_type": "stream",
     "text": [
      "Processing CSV files:  31%|███       | 134/436 [17:21<36:15,  7.20s/it]"
     ]
    },
    {
     "name": "stdout",
     "output_type": "stream",
     "text": [
      "Saved trimmed data to /run/media/viblab/Markov2/Haykal/AnakKrakatauEWS/data/processed/I06AU_NON_EVENT/IM_det_513_20190128_171809_to_20190128_171824.csv\n",
      "Saved trimmed data to /run/media/viblab/Markov2/Haykal/AnakKrakatauEWS/data/processed/I06AU_NON_EVENT/IM_det_514_20190128_172059_to_20190128_172114.csv\n",
      "Saved trimmed data to /run/media/viblab/Markov2/Haykal/AnakKrakatauEWS/data/processed/I06AU_NON_EVENT/IM_det_515_20190128_172434_to_20190128_172439.csv\n",
      "Saved trimmed data to /run/media/viblab/Markov2/Haykal/AnakKrakatauEWS/data/processed/I06AU_NON_EVENT/IM_det_516_20190128_172549_to_20190128_172559.csv\n",
      "Saved trimmed data to /run/media/viblab/Markov2/Haykal/AnakKrakatauEWS/data/processed/I06AU_NON_EVENT/IM_det_517_20190128_172614_to_20190128_172629.csv\n",
      "Saved trimmed data to /run/media/viblab/Markov2/Haykal/AnakKrakatauEWS/data/processed/I06AU_NON_EVENT/IM_det_518_20190128_172904_to_20190128_172909.csv\n",
      "Saved trimmed data to /run/media/viblab/Markov2/Haykal/AnakKrakatauEWS/data/processed/I06AU_NON_EVENT/IM_det_519_20190128_235224_to_20190128_235234.csv\n"
     ]
    },
    {
     "name": "stderr",
     "output_type": "stream",
     "text": [
      "Processing CSV files:  34%|███▎      | 147/436 [18:56<32:05,  6.66s/it]"
     ]
    },
    {
     "name": "stdout",
     "output_type": "stream",
     "text": [
      "Saved trimmed data to /run/media/viblab/Markov2/Haykal/AnakKrakatauEWS/data/processed/I06AU_NON_EVENT/IM_det_473_20190109_175210_to_20190109_175215.csv\n",
      "Saved trimmed data to /run/media/viblab/Markov2/Haykal/AnakKrakatauEWS/data/processed/I06AU_NON_EVENT/IM_det_474_20190109_200520_to_20190109_200525.csv\n",
      "Saved trimmed data to /run/media/viblab/Markov2/Haykal/AnakKrakatauEWS/data/processed/I06AU_NON_EVENT/IM_det_475_20190109_203055_to_20190109_203105.csv\n"
     ]
    },
    {
     "name": "stderr",
     "output_type": "stream",
     "text": [
      "Processing CSV files:  36%|███▌      | 155/436 [19:54<33:34,  7.17s/it]"
     ]
    },
    {
     "name": "stdout",
     "output_type": "stream",
     "text": [
      "Saved trimmed data to /run/media/viblab/Markov2/Haykal/AnakKrakatauEWS/data/processed/I06AU_NON_EVENT/IM_det_436_20181230_023800_to_20181230_023805.csv\n",
      "Saved trimmed data to /run/media/viblab/Markov2/Haykal/AnakKrakatauEWS/data/processed/I06AU_NON_EVENT/IM_det_437_20181230_023950_to_20181230_024010.csv\n",
      "Saved trimmed data to /run/media/viblab/Markov2/Haykal/AnakKrakatauEWS/data/processed/I06AU_NON_EVENT/IM_det_438_20181230_091920_to_20181230_091925.csv\n",
      "Saved trimmed data to /run/media/viblab/Markov2/Haykal/AnakKrakatauEWS/data/processed/I06AU_NON_EVENT/IM_det_439_20181230_105825_to_20181230_105830.csv\n",
      "Saved trimmed data to /run/media/viblab/Markov2/Haykal/AnakKrakatauEWS/data/processed/I06AU_NON_EVENT/IM_det_440_20181230_110010_to_20181230_110030.csv\n",
      "Saved trimmed data to /run/media/viblab/Markov2/Haykal/AnakKrakatauEWS/data/processed/I06AU_NON_EVENT/IM_det_441_20181230_121400_to_20181230_121445.csv\n",
      "Saved trimmed data to /run/media/viblab/Markov2/Haykal/AnakKrakatauEWS/data/processed/I06AU_NON_EVENT/IM_det_442_20181230_133015_to_20181230_133020.csv\n",
      "Saved trimmed data to /run/media/viblab/Markov2/Haykal/AnakKrakatauEWS/data/processed/I06AU_NON_EVENT/IM_det_443_20181230_133200_to_20181230_133320.csv\n",
      "Saved trimmed data to /run/media/viblab/Markov2/Haykal/AnakKrakatauEWS/data/processed/I06AU_NON_EVENT/IM_det_444_20181230_203555_to_20181230_203600.csv\n",
      "Saved trimmed data to /run/media/viblab/Markov2/Haykal/AnakKrakatauEWS/data/processed/I06AU_NON_EVENT/IM_det_445_20181230_203610_to_20181230_203620.csv\n",
      "Saved trimmed data to /run/media/viblab/Markov2/Haykal/AnakKrakatauEWS/data/processed/I06AU_NON_EVENT/IM_det_446_20181230_203730_to_20181230_203815.csv\n"
     ]
    },
    {
     "name": "stderr",
     "output_type": "stream",
     "text": [
      "Processing CSV files:  38%|███▊      | 167/436 [21:13<34:18,  7.65s/it]"
     ]
    },
    {
     "name": "stdout",
     "output_type": "stream",
     "text": [
      "Saved trimmed data to /run/media/viblab/Markov2/Haykal/AnakKrakatauEWS/data/processed/I06AU_NON_EVENT/IM_det_559_20190810_211002_to_20190810_211007.csv\n"
     ]
    },
    {
     "name": "stderr",
     "output_type": "stream",
     "text": [
      "Processing CSV files:  39%|███▉      | 171/436 [21:44<35:14,  7.98s/it]"
     ]
    },
    {
     "name": "stdout",
     "output_type": "stream",
     "text": [
      "Saved trimmed data to /run/media/viblab/Markov2/Haykal/AnakKrakatauEWS/data/processed/I06AU_NON_EVENT/IM_det_543_20190325_112006_to_20190325_112016.csv\n",
      "Saved trimmed data to /run/media/viblab/Markov2/Haykal/AnakKrakatauEWS/data/processed/I06AU_NON_EVENT/IM_det_544_20190325_142811_to_20190325_142816.csv\n",
      "Saved trimmed data to /run/media/viblab/Markov2/Haykal/AnakKrakatauEWS/data/processed/I06AU_NON_EVENT/IM_det_545_20190325_170931_to_20190325_170936.csv\n",
      "Saved trimmed data to /run/media/viblab/Markov2/Haykal/AnakKrakatauEWS/data/processed/I06AU_NON_EVENT/IM_det_546_20190325_174751_to_20190325_174756.csv\n",
      "Saved trimmed data to /run/media/viblab/Markov2/Haykal/AnakKrakatauEWS/data/processed/I06AU_NON_EVENT/IM_det_547_20190325_182206_to_20190325_182211.csv\n",
      "Saved trimmed data to /run/media/viblab/Markov2/Haykal/AnakKrakatauEWS/data/processed/I06AU_NON_EVENT/IM_det_548_20190325_215906_to_20190325_215911.csv\n",
      "Saved trimmed data to /run/media/viblab/Markov2/Haykal/AnakKrakatauEWS/data/processed/I06AU_NON_EVENT/IM_det_549_20190325_231636_to_20190325_231641.csv\n"
     ]
    },
    {
     "name": "stderr",
     "output_type": "stream",
     "text": [
      "Processing CSV files:  39%|███▉      | 172/436 [21:45<25:22,  5.77s/it]"
     ]
    },
    {
     "name": "stdout",
     "output_type": "stream",
     "text": [
      "Saved trimmed data to /run/media/viblab/Markov2/Haykal/AnakKrakatauEWS/data/processed/I06AU_NON_EVENT/IM_det_534_20190212_230735_to_20190212_230740.csv\n"
     ]
    },
    {
     "name": "stderr",
     "output_type": "stream",
     "text": [
      "Processing CSV files:  40%|███▉      | 174/436 [22:01<30:16,  6.93s/it]"
     ]
    },
    {
     "name": "stdout",
     "output_type": "stream",
     "text": [
      "Saved trimmed data to /run/media/viblab/Markov2/Haykal/AnakKrakatauEWS/data/processed/I06AU_NON_EVENT/IM_det_533_20190211_095718_to_20190211_095723.csv\n"
     ]
    },
    {
     "name": "stderr",
     "output_type": "stream",
     "text": [
      "Processing CSV files:  42%|████▏     | 183/436 [23:08<33:24,  7.92s/it]"
     ]
    },
    {
     "name": "stdout",
     "output_type": "stream",
     "text": [
      "Saved trimmed data to /run/media/viblab/Markov2/Haykal/AnakKrakatauEWS/data/processed/I06AU_NON_EVENT/IM_det_492_20190117_113045_to_20190117_113050.csv\n"
     ]
    },
    {
     "name": "stderr",
     "output_type": "stream",
     "text": [
      "Processing CSV files:  42%|████▏     | 184/436 [23:16<33:31,  7.98s/it]"
     ]
    },
    {
     "name": "stdout",
     "output_type": "stream",
     "text": [
      "Saved trimmed data to /run/media/viblab/Markov2/Haykal/AnakKrakatauEWS/data/processed/I06AU_NON_EVENT/IM_det_38_20180709_191830_to_20180709_191840.csv\n",
      "Saved trimmed data to /run/media/viblab/Markov2/Haykal/AnakKrakatauEWS/data/processed/I06AU_NON_EVENT/IM_det_39_20180709_191850_to_20180709_191855.csv\n",
      "Saved trimmed data to /run/media/viblab/Markov2/Haykal/AnakKrakatauEWS/data/processed/I06AU_NON_EVENT/IM_det_40_20180709_192525_to_20180709_192530.csv\n",
      "Saved trimmed data to /run/media/viblab/Markov2/Haykal/AnakKrakatauEWS/data/processed/I06AU_NON_EVENT/IM_det_41_20180709_194450_to_20180709_194500.csv\n",
      "Saved trimmed data to /run/media/viblab/Markov2/Haykal/AnakKrakatauEWS/data/processed/I06AU_NON_EVENT/IM_det_42_20180709_195235_to_20180709_195240.csv\n",
      "Saved trimmed data to /run/media/viblab/Markov2/Haykal/AnakKrakatauEWS/data/processed/I06AU_NON_EVENT/IM_det_43_20180709_195640_to_20180709_195645.csv\n",
      "Saved trimmed data to /run/media/viblab/Markov2/Haykal/AnakKrakatauEWS/data/processed/I06AU_NON_EVENT/IM_det_44_20180709_200310_to_20180709_200320.csv\n",
      "Saved trimmed data to /run/media/viblab/Markov2/Haykal/AnakKrakatauEWS/data/processed/I06AU_NON_EVENT/IM_det_45_20180709_201035_to_20180709_201045.csv\n",
      "Saved trimmed data to /run/media/viblab/Markov2/Haykal/AnakKrakatauEWS/data/processed/I06AU_NON_EVENT/IM_det_46_20180709_201805_to_20180709_201810.csv\n",
      "Saved trimmed data to /run/media/viblab/Markov2/Haykal/AnakKrakatauEWS/data/processed/I06AU_NON_EVENT/IM_det_47_20180709_202105_to_20180709_202110.csv\n",
      "Saved trimmed data to /run/media/viblab/Markov2/Haykal/AnakKrakatauEWS/data/processed/I06AU_NON_EVENT/IM_det_48_20180709_213430_to_20180709_213435.csv\n",
      "Saved trimmed data to /run/media/viblab/Markov2/Haykal/AnakKrakatauEWS/data/processed/I06AU_NON_EVENT/IM_det_49_20180709_214230_to_20180709_214235.csv\n",
      "Saved trimmed data to /run/media/viblab/Markov2/Haykal/AnakKrakatauEWS/data/processed/I06AU_NON_EVENT/IM_det_50_20180709_214325_to_20180709_214330.csv\n",
      "Saved trimmed data to /run/media/viblab/Markov2/Haykal/AnakKrakatauEWS/data/processed/I06AU_NON_EVENT/IM_det_51_20180709_215330_to_20180709_215335.csv\n",
      "Saved trimmed data to /run/media/viblab/Markov2/Haykal/AnakKrakatauEWS/data/processed/I06AU_NON_EVENT/IM_det_52_20180709_224325_to_20180709_224335.csv\n",
      "Saved trimmed data to /run/media/viblab/Markov2/Haykal/AnakKrakatauEWS/data/processed/I06AU_NON_EVENT/IM_det_53_20180709_225215_to_20180709_225225.csv\n",
      "Saved trimmed data to /run/media/viblab/Markov2/Haykal/AnakKrakatauEWS/data/processed/I06AU_NON_EVENT/IM_det_54_20180709_225605_to_20180709_225610.csv\n",
      "Saved trimmed data to /run/media/viblab/Markov2/Haykal/AnakKrakatauEWS/data/processed/I06AU_NON_EVENT/IM_det_55_20180709_231445_to_20180709_231455.csv\n",
      "Saved trimmed data to /run/media/viblab/Markov2/Haykal/AnakKrakatauEWS/data/processed/I06AU_NON_EVENT/IM_det_56_20180709_232530_to_20180709_232540.csv\n"
     ]
    },
    {
     "name": "stderr",
     "output_type": "stream",
     "text": [
      "Processing CSV files:  44%|████▍     | 192/436 [24:12<29:02,  7.14s/it]"
     ]
    },
    {
     "name": "stdout",
     "output_type": "stream",
     "text": [
      "Saved trimmed data to /run/media/viblab/Markov2/Haykal/AnakKrakatauEWS/data/processed/I06AU_NON_EVENT/IM_det_495_20190123_130105_to_20190123_130110.csv\n",
      "Saved trimmed data to /run/media/viblab/Markov2/Haykal/AnakKrakatauEWS/data/processed/I06AU_NON_EVENT/IM_det_496_20190123_130350_to_20190123_130355.csv\n",
      "Saved trimmed data to /run/media/viblab/Markov2/Haykal/AnakKrakatauEWS/data/processed/I06AU_NON_EVENT/IM_det_497_20190123_130515_to_20190123_130520.csv\n",
      "Saved trimmed data to /run/media/viblab/Markov2/Haykal/AnakKrakatauEWS/data/processed/I06AU_NON_EVENT/IM_det_498_20190123_130705_to_20190123_130710.csv\n",
      "Saved trimmed data to /run/media/viblab/Markov2/Haykal/AnakKrakatauEWS/data/processed/I06AU_NON_EVENT/IM_det_499_20190123_131125_to_20190123_131130.csv\n",
      "Saved trimmed data to /run/media/viblab/Markov2/Haykal/AnakKrakatauEWS/data/processed/I06AU_NON_EVENT/IM_det_500_20190123_131300_to_20190123_131310.csv\n",
      "Saved trimmed data to /run/media/viblab/Markov2/Haykal/AnakKrakatauEWS/data/processed/I06AU_NON_EVENT/IM_det_501_20190123_131410_to_20190123_131430.csv\n",
      "Saved trimmed data to /run/media/viblab/Markov2/Haykal/AnakKrakatauEWS/data/processed/I06AU_NON_EVENT/IM_det_502_20190123_131625_to_20190123_131635.csv\n",
      "Saved trimmed data to /run/media/viblab/Markov2/Haykal/AnakKrakatauEWS/data/processed/I06AU_NON_EVENT/IM_det_503_20190123_131740_to_20190123_131745.csv\n",
      "Saved trimmed data to /run/media/viblab/Markov2/Haykal/AnakKrakatauEWS/data/processed/I06AU_NON_EVENT/IM_det_504_20190123_131805_to_20190123_131810.csv\n",
      "Saved trimmed data to /run/media/viblab/Markov2/Haykal/AnakKrakatauEWS/data/processed/I06AU_NON_EVENT/IM_det_505_20190123_131930_to_20190123_131935.csv\n",
      "Saved trimmed data to /run/media/viblab/Markov2/Haykal/AnakKrakatauEWS/data/processed/I06AU_NON_EVENT/IM_det_506_20190123_132010_to_20190123_132015.csv\n",
      "Saved trimmed data to /run/media/viblab/Markov2/Haykal/AnakKrakatauEWS/data/processed/I06AU_NON_EVENT/IM_det_507_20190123_132300_to_20190123_132320.csv\n",
      "Saved trimmed data to /run/media/viblab/Markov2/Haykal/AnakKrakatauEWS/data/processed/I06AU_NON_EVENT/IM_det_508_20190123_132515_to_20190123_132530.csv\n",
      "Saved trimmed data to /run/media/viblab/Markov2/Haykal/AnakKrakatauEWS/data/processed/I06AU_NON_EVENT/IM_det_509_20190123_133050_to_20190123_133055.csv\n",
      "Saved trimmed data to /run/media/viblab/Markov2/Haykal/AnakKrakatauEWS/data/processed/I06AU_NON_EVENT/IM_det_510_20190123_171430_to_20190123_171435.csv\n"
     ]
    },
    {
     "name": "stderr",
     "output_type": "stream",
     "text": [
      "Processing CSV files:  45%|████▌     | 198/436 [24:58<31:02,  7.83s/it]"
     ]
    },
    {
     "name": "stdout",
     "output_type": "stream",
     "text": [
      "Saved trimmed data to /run/media/viblab/Markov2/Haykal/AnakKrakatauEWS/data/processed/I06AU_NON_EVENT/IM_det_536_20190218_182456_to_20190218_182506.csv\n",
      "Saved trimmed data to /run/media/viblab/Markov2/Haykal/AnakKrakatauEWS/data/processed/I06AU_NON_EVENT/IM_det_537_20190218_183011_to_20190218_183016.csv\n"
     ]
    },
    {
     "name": "stderr",
     "output_type": "stream",
     "text": [
      "Processing CSV files:  46%|████▌     | 201/436 [25:14<26:28,  6.76s/it]"
     ]
    },
    {
     "name": "stdout",
     "output_type": "stream",
     "text": [
      "Saved trimmed data to /run/media/viblab/Markov2/Haykal/AnakKrakatauEWS/data/processed/I06AU_NON_EVENT/IM_det_183_20181121_003725_to_20181121_003735.csv\n"
     ]
    },
    {
     "name": "stderr",
     "output_type": "stream",
     "text": [
      "Processing CSV files:  48%|████▊     | 211/436 [26:25<27:50,  7.42s/it]"
     ]
    },
    {
     "name": "stdout",
     "output_type": "stream",
     "text": [
      "Saved trimmed data to /run/media/viblab/Markov2/Haykal/AnakKrakatauEWS/data/processed/I06AU_NON_EVENT/IM_det_541_20190310_065753_to_20190310_065758.csv\n",
      "Saved trimmed data to /run/media/viblab/Markov2/Haykal/AnakKrakatauEWS/data/processed/I06AU_NON_EVENT/IM_det_542_20190310_065928_to_20190310_065948.csv\n"
     ]
    },
    {
     "name": "stderr",
     "output_type": "stream",
     "text": [
      "Processing CSV files:  49%|████▉     | 213/436 [26:27<15:22,  4.14s/it]"
     ]
    },
    {
     "name": "stdout",
     "output_type": "stream",
     "text": [
      "Saved trimmed data to /run/media/viblab/Markov2/Haykal/AnakKrakatauEWS/data/processed/I06AU_NON_EVENT/IM_det_63_20180806_062900_to_20180806_062905.csv\n",
      "Saved trimmed data to /run/media/viblab/Markov2/Haykal/AnakKrakatauEWS/data/processed/I06AU_NON_EVENT/IM_det_64_20180806_063045_to_20180806_063050.csv\n",
      "Saved trimmed data to /run/media/viblab/Markov2/Haykal/AnakKrakatauEWS/data/processed/I06AU_NON_EVENT/IM_det_65_20180806_063230_to_20180806_063240.csv\n",
      "Saved trimmed data to /run/media/viblab/Markov2/Haykal/AnakKrakatauEWS/data/processed/I06AU_NON_EVENT/IM_det_66_20180806_083830_to_20180806_083835.csv\n",
      "Saved trimmed data to /run/media/viblab/Markov2/Haykal/AnakKrakatauEWS/data/processed/I06AU_NON_EVENT/IM_det_67_20180806_084615_to_20180806_084620.csv\n",
      "Saved trimmed data to /run/media/viblab/Markov2/Haykal/AnakKrakatauEWS/data/processed/I06AU_NON_EVENT/IM_det_68_20180806_092140_to_20180806_092145.csv\n",
      "Saved trimmed data to /run/media/viblab/Markov2/Haykal/AnakKrakatauEWS/data/processed/I06AU_NON_EVENT/IM_det_69_20180806_093000_to_20180806_093005.csv\n",
      "Saved trimmed data to /run/media/viblab/Markov2/Haykal/AnakKrakatauEWS/data/processed/I06AU_NON_EVENT/IM_det_70_20180806_093020_to_20180806_093025.csv\n",
      "Saved trimmed data to /run/media/viblab/Markov2/Haykal/AnakKrakatauEWS/data/processed/I06AU_NON_EVENT/IM_det_71_20180806_093150_to_20180806_093200.csv\n",
      "Saved trimmed data to /run/media/viblab/Markov2/Haykal/AnakKrakatauEWS/data/processed/I06AU_NON_EVENT/IM_det_72_20180806_094210_to_20180806_094220.csv\n",
      "Saved trimmed data to /run/media/viblab/Markov2/Haykal/AnakKrakatauEWS/data/processed/I06AU_NON_EVENT/IM_det_73_20180806_094400_to_20180806_094410.csv\n",
      "Saved trimmed data to /run/media/viblab/Markov2/Haykal/AnakKrakatauEWS/data/processed/I06AU_NON_EVENT/IM_det_74_20180806_094545_to_20180806_094605.csv\n",
      "Saved trimmed data to /run/media/viblab/Markov2/Haykal/AnakKrakatauEWS/data/processed/I06AU_NON_EVENT/IM_det_75_20180806_095620_to_20180806_095625.csv\n",
      "Saved trimmed data to /run/media/viblab/Markov2/Haykal/AnakKrakatauEWS/data/processed/I06AU_NON_EVENT/IM_det_76_20180806_104420_to_20180806_104425.csv\n",
      "Saved trimmed data to /run/media/viblab/Markov2/Haykal/AnakKrakatauEWS/data/processed/I06AU_NON_EVENT/IM_det_77_20180806_104605_to_20180806_104610.csv\n",
      "Saved trimmed data to /run/media/viblab/Markov2/Haykal/AnakKrakatauEWS/data/processed/I06AU_NON_EVENT/IM_det_78_20180806_104750_to_20180806_104755.csv\n",
      "Saved trimmed data to /run/media/viblab/Markov2/Haykal/AnakKrakatauEWS/data/processed/I06AU_NON_EVENT/IM_det_79_20180806_104940_to_20180806_104955.csv\n",
      "Saved trimmed data to /run/media/viblab/Markov2/Haykal/AnakKrakatauEWS/data/processed/I06AU_NON_EVENT/IM_det_80_20180806_111315_to_20180806_111320.csv\n",
      "Saved trimmed data to /run/media/viblab/Markov2/Haykal/AnakKrakatauEWS/data/processed/I06AU_NON_EVENT/IM_det_81_20180806_114030_to_20180806_114035.csv\n",
      "Saved trimmed data to /run/media/viblab/Markov2/Haykal/AnakKrakatauEWS/data/processed/I06AU_NON_EVENT/IM_det_82_20180806_114210_to_20180806_114235.csv\n",
      "Saved trimmed data to /run/media/viblab/Markov2/Haykal/AnakKrakatauEWS/data/processed/I06AU_NON_EVENT/IM_det_83_20180806_114355_to_20180806_114415.csv\n",
      "Saved trimmed data to /run/media/viblab/Markov2/Haykal/AnakKrakatauEWS/data/processed/I06AU_NON_EVENT/IM_det_84_20180806_123455_to_20180806_123500.csv\n",
      "Saved trimmed data to /run/media/viblab/Markov2/Haykal/AnakKrakatauEWS/data/processed/I06AU_NON_EVENT/IM_det_85_20180806_125835_to_20180806_125840.csv\n",
      "Saved trimmed data to /run/media/viblab/Markov2/Haykal/AnakKrakatauEWS/data/processed/I06AU_NON_EVENT/IM_det_86_20180806_130025_to_20180806_130035.csv\n"
     ]
    },
    {
     "name": "stderr",
     "output_type": "stream",
     "text": []
    },
    {
     "name": "stdout",
     "output_type": "stream",
     "text": [
      "Saved trimmed data to /run/media/viblab/Markov2/Haykal/AnakKrakatauEWS/data/processed/I06AU_NON_EVENT/IM_det_87_20180806_130600_to_20180806_130610.csv\n",
      "Saved trimmed data to /run/media/viblab/Markov2/Haykal/AnakKrakatauEWS/data/processed/I06AU_NON_EVENT/IM_det_88_20180806_130755_to_20180806_130800.csv\n",
      "Saved trimmed data to /run/media/viblab/Markov2/Haykal/AnakKrakatauEWS/data/processed/I06AU_NON_EVENT/IM_det_89_20180806_133820_to_20180806_133825.csv\n",
      "Saved trimmed data to /run/media/viblab/Markov2/Haykal/AnakKrakatauEWS/data/processed/I06AU_NON_EVENT/IM_det_90_20180806_134505_to_20180806_134510.csv\n",
      "Saved trimmed data to /run/media/viblab/Markov2/Haykal/AnakKrakatauEWS/data/processed/I06AU_NON_EVENT/IM_det_91_20180806_134650_to_20180806_134705.csv\n",
      "Saved trimmed data to /run/media/viblab/Markov2/Haykal/AnakKrakatauEWS/data/processed/I06AU_NON_EVENT/IM_det_92_20180806_140420_to_20180806_140435.csv\n",
      "Saved trimmed data to /run/media/viblab/Markov2/Haykal/AnakKrakatauEWS/data/processed/I06AU_NON_EVENT/IM_det_93_20180806_140605_to_20180806_140635.csv\n",
      "Saved trimmed data to /run/media/viblab/Markov2/Haykal/AnakKrakatauEWS/data/processed/I06AU_NON_EVENT/IM_det_94_20180806_140925_to_20180806_140930.csv\n",
      "Saved trimmed data to /run/media/viblab/Markov2/Haykal/AnakKrakatauEWS/data/processed/I06AU_NON_EVENT/IM_det_95_20180806_142020_to_20180806_142025.csv\n",
      "Saved trimmed data to /run/media/viblab/Markov2/Haykal/AnakKrakatauEWS/data/processed/I06AU_NON_EVENT/IM_det_96_20180806_142430_to_20180806_142435.csv\n",
      "Saved trimmed data to /run/media/viblab/Markov2/Haykal/AnakKrakatauEWS/data/processed/I06AU_NON_EVENT/IM_det_97_20180806_143925_to_20180806_143935.csv\n",
      "Saved trimmed data to /run/media/viblab/Markov2/Haykal/AnakKrakatauEWS/data/processed/I06AU_NON_EVENT/IM_det_98_20180806_145555_to_20180806_145600.csv\n",
      "Saved trimmed data to /run/media/viblab/Markov2/Haykal/AnakKrakatauEWS/data/processed/I06AU_NON_EVENT/IM_det_99_20180806_145735_to_20180806_145740.csv\n",
      "Saved trimmed data to /run/media/viblab/Markov2/Haykal/AnakKrakatauEWS/data/processed/I06AU_NON_EVENT/IM_det_100_20180806_145925_to_20180806_145935.csv\n",
      "Saved trimmed data to /run/media/viblab/Markov2/Haykal/AnakKrakatauEWS/data/processed/I06AU_NON_EVENT/IM_det_101_20180806_151000_to_20180806_151005.csv\n",
      "Saved trimmed data to /run/media/viblab/Markov2/Haykal/AnakKrakatauEWS/data/processed/I06AU_NON_EVENT/IM_det_102_20180806_151205_to_20180806_151210.csv\n",
      "Saved trimmed data to /run/media/viblab/Markov2/Haykal/AnakKrakatauEWS/data/processed/I06AU_NON_EVENT/IM_det_103_20180806_152115_to_20180806_152130.csv\n",
      "Saved trimmed data to /run/media/viblab/Markov2/Haykal/AnakKrakatauEWS/data/processed/I06AU_NON_EVENT/IM_det_104_20180806_153155_to_20180806_153200.csv\n",
      "Saved trimmed data to /run/media/viblab/Markov2/Haykal/AnakKrakatauEWS/data/processed/I06AU_NON_EVENT/IM_det_105_20180806_154045_to_20180806_154100.csv\n",
      "Saved trimmed data to /run/media/viblab/Markov2/Haykal/AnakKrakatauEWS/data/processed/I06AU_NON_EVENT/IM_det_106_20180806_154550_to_20180806_154600.csv\n",
      "Saved trimmed data to /run/media/viblab/Markov2/Haykal/AnakKrakatauEWS/data/processed/I06AU_NON_EVENT/IM_det_107_20180806_154735_to_20180806_154755.csv\n",
      "Saved trimmed data to /run/media/viblab/Markov2/Haykal/AnakKrakatauEWS/data/processed/I06AU_NON_EVENT/IM_det_108_20180806_160330_to_20180806_160340.csv\n",
      "Saved trimmed data to /run/media/viblab/Markov2/Haykal/AnakKrakatauEWS/data/processed/I06AU_NON_EVENT/IM_det_109_20180806_162215_to_20180806_162225.csv\n"
     ]
    },
    {
     "name": "stderr",
     "output_type": "stream",
     "text": []
    },
    {
     "name": "stdout",
     "output_type": "stream",
     "text": [
      "Saved trimmed data to /run/media/viblab/Markov2/Haykal/AnakKrakatauEWS/data/processed/I06AU_NON_EVENT/IM_det_110_20180806_162505_to_20180806_162510.csv\n",
      "Saved trimmed data to /run/media/viblab/Markov2/Haykal/AnakKrakatauEWS/data/processed/I06AU_NON_EVENT/IM_det_111_20180806_162640_to_20180806_162655.csv\n",
      "Saved trimmed data to /run/media/viblab/Markov2/Haykal/AnakKrakatauEWS/data/processed/I06AU_NON_EVENT/IM_det_112_20180806_164135_to_20180806_164145.csv\n",
      "Saved trimmed data to /run/media/viblab/Markov2/Haykal/AnakKrakatauEWS/data/processed/I06AU_NON_EVENT/IM_det_113_20180806_172700_to_20180806_172705.csv\n",
      "Saved trimmed data to /run/media/viblab/Markov2/Haykal/AnakKrakatauEWS/data/processed/I06AU_NON_EVENT/IM_det_114_20180806_172905_to_20180806_172920.csv\n",
      "Saved trimmed data to /run/media/viblab/Markov2/Haykal/AnakKrakatauEWS/data/processed/I06AU_NON_EVENT/IM_det_115_20180806_174540_to_20180806_174545.csv\n",
      "Saved trimmed data to /run/media/viblab/Markov2/Haykal/AnakKrakatauEWS/data/processed/I06AU_NON_EVENT/IM_det_116_20180806_180740_to_20180806_180745.csv\n",
      "Saved trimmed data to /run/media/viblab/Markov2/Haykal/AnakKrakatauEWS/data/processed/I06AU_NON_EVENT/IM_det_117_20180806_182525_to_20180806_182545.csv\n",
      "Saved trimmed data to /run/media/viblab/Markov2/Haykal/AnakKrakatauEWS/data/processed/I06AU_NON_EVENT/IM_det_118_20180806_184540_to_20180806_184545.csv\n",
      "Saved trimmed data to /run/media/viblab/Markov2/Haykal/AnakKrakatauEWS/data/processed/I06AU_NON_EVENT/IM_det_119_20180806_185705_to_20180806_185710.csv\n",
      "Saved trimmed data to /run/media/viblab/Markov2/Haykal/AnakKrakatauEWS/data/processed/I06AU_NON_EVENT/IM_det_120_20180806_190045_to_20180806_190050.csv\n",
      "Saved trimmed data to /run/media/viblab/Markov2/Haykal/AnakKrakatauEWS/data/processed/I06AU_NON_EVENT/IM_det_121_20180806_195425_to_20180806_195430.csv\n",
      "Saved trimmed data to /run/media/viblab/Markov2/Haykal/AnakKrakatauEWS/data/processed/I06AU_NON_EVENT/IM_det_122_20180806_195830_to_20180806_195840.csv\n",
      "Saved trimmed data to /run/media/viblab/Markov2/Haykal/AnakKrakatauEWS/data/processed/I06AU_NON_EVENT/IM_det_123_20180806_200040_to_20180806_200045.csv\n",
      "Saved trimmed data to /run/media/viblab/Markov2/Haykal/AnakKrakatauEWS/data/processed/I06AU_NON_EVENT/IM_det_124_20180806_213815_to_20180806_213835.csv\n",
      "Saved trimmed data to /run/media/viblab/Markov2/Haykal/AnakKrakatauEWS/data/processed/I06AU_NON_EVENT/IM_det_125_20180806_214020_to_20180806_214025.csv\n",
      "Saved trimmed data to /run/media/viblab/Markov2/Haykal/AnakKrakatauEWS/data/processed/I06AU_NON_EVENT/IM_det_126_20180806_221325_to_20180806_221335.csv\n",
      "Saved trimmed data to /run/media/viblab/Markov2/Haykal/AnakKrakatauEWS/data/processed/I06AU_NON_EVENT/IM_det_127_20180806_235105_to_20180806_235110.csv\n",
      "Saved trimmed data to /run/media/viblab/Markov2/Haykal/AnakKrakatauEWS/data/processed/I06AU_NON_EVENT/IM_det_128_20180806_235310_to_20180806_235315.csv\n"
     ]
    },
    {
     "name": "stderr",
     "output_type": "stream",
     "text": [
      "Processing CSV files:  53%|█████▎    | 233/436 [28:36<25:15,  7.47s/it]"
     ]
    },
    {
     "name": "stdout",
     "output_type": "stream",
     "text": [
      "Saved trimmed data to /run/media/viblab/Markov2/Haykal/AnakKrakatauEWS/data/processed/I06AU_NON_EVENT/IM_det_511_20190124_011221_to_20190124_011226.csv\n"
     ]
    },
    {
     "name": "stderr",
     "output_type": "stream",
     "text": [
      "Processing CSV files:  54%|█████▍    | 235/436 [28:50<23:42,  7.08s/it]"
     ]
    },
    {
     "name": "stdout",
     "output_type": "stream",
     "text": [
      "Saved trimmed data to /run/media/viblab/Markov2/Haykal/AnakKrakatauEWS/data/processed/I06AU_NON_EVENT/IM_det_381_20181229_003649_to_20181229_003704.csv\n",
      "Saved trimmed data to /run/media/viblab/Markov2/Haykal/AnakKrakatauEWS/data/processed/I06AU_NON_EVENT/IM_det_382_20181229_004014_to_20181229_004024.csv\n",
      "Saved trimmed data to /run/media/viblab/Markov2/Haykal/AnakKrakatauEWS/data/processed/I06AU_NON_EVENT/IM_det_383_20181229_004034_to_20181229_004044.csv\n",
      "Saved trimmed data to /run/media/viblab/Markov2/Haykal/AnakKrakatauEWS/data/processed/I06AU_NON_EVENT/IM_det_384_20181229_004219_to_20181229_004224.csv\n",
      "Saved trimmed data to /run/media/viblab/Markov2/Haykal/AnakKrakatauEWS/data/processed/I06AU_NON_EVENT/IM_det_385_20181229_004529_to_20181229_004539.csv\n",
      "Saved trimmed data to /run/media/viblab/Markov2/Haykal/AnakKrakatauEWS/data/processed/I06AU_NON_EVENT/IM_det_386_20181229_004549_to_20181229_004554.csv\n",
      "Saved trimmed data to /run/media/viblab/Markov2/Haykal/AnakKrakatauEWS/data/processed/I06AU_NON_EVENT/IM_det_387_20181229_004709_to_20181229_004719.csv\n",
      "Saved trimmed data to /run/media/viblab/Markov2/Haykal/AnakKrakatauEWS/data/processed/I06AU_NON_EVENT/IM_det_388_20181229_004739_to_20181229_004754.csv\n",
      "Saved trimmed data to /run/media/viblab/Markov2/Haykal/AnakKrakatauEWS/data/processed/I06AU_NON_EVENT/IM_det_389_20181229_004919_to_20181229_004924.csv\n",
      "Saved trimmed data to /run/media/viblab/Markov2/Haykal/AnakKrakatauEWS/data/processed/I06AU_NON_EVENT/IM_det_390_20181229_005139_to_20181229_005144.csv\n",
      "Saved trimmed data to /run/media/viblab/Markov2/Haykal/AnakKrakatauEWS/data/processed/I06AU_NON_EVENT/IM_det_391_20181229_022944_to_20181229_022954.csv\n",
      "Saved trimmed data to /run/media/viblab/Markov2/Haykal/AnakKrakatauEWS/data/processed/I06AU_NON_EVENT/IM_det_392_20181229_040619_to_20181229_040634.csv\n",
      "Saved trimmed data to /run/media/viblab/Markov2/Haykal/AnakKrakatauEWS/data/processed/I06AU_NON_EVENT/IM_det_393_20181229_040759_to_20181229_040809.csv\n",
      "Saved trimmed data to /run/media/viblab/Markov2/Haykal/AnakKrakatauEWS/data/processed/I06AU_NON_EVENT/IM_det_394_20181229_040934_to_20181229_040949.csv\n",
      "Saved trimmed data to /run/media/viblab/Markov2/Haykal/AnakKrakatauEWS/data/processed/I06AU_NON_EVENT/IM_det_395_20181229_041104_to_20181229_041134.csv\n",
      "Saved trimmed data to /run/media/viblab/Markov2/Haykal/AnakKrakatauEWS/data/processed/I06AU_NON_EVENT/IM_det_396_20181229_041204_to_20181229_041214.csv\n",
      "Saved trimmed data to /run/media/viblab/Markov2/Haykal/AnakKrakatauEWS/data/processed/I06AU_NON_EVENT/IM_det_397_20181229_041249_to_20181229_041324.csv\n",
      "Saved trimmed data to /run/media/viblab/Markov2/Haykal/AnakKrakatauEWS/data/processed/I06AU_NON_EVENT/IM_det_398_20181229_041434_to_20181229_041514.csv\n",
      "Saved trimmed data to /run/media/viblab/Markov2/Haykal/AnakKrakatauEWS/data/processed/I06AU_NON_EVENT/IM_det_399_20181229_041704_to_20181229_041729.csv\n",
      "Saved trimmed data to /run/media/viblab/Markov2/Haykal/AnakKrakatauEWS/data/processed/I06AU_NON_EVENT/IM_det_400_20181229_053904_to_20181229_053909.csv\n"
     ]
    },
    {
     "name": "stderr",
     "output_type": "stream",
     "text": []
    },
    {
     "name": "stdout",
     "output_type": "stream",
     "text": [
      "Saved trimmed data to /run/media/viblab/Markov2/Haykal/AnakKrakatauEWS/data/processed/I06AU_NON_EVENT/IM_det_401_20181229_060429_to_20181229_060444.csv\n",
      "Saved trimmed data to /run/media/viblab/Markov2/Haykal/AnakKrakatauEWS/data/processed/I06AU_NON_EVENT/IM_det_402_20181229_060604_to_20181229_060619.csv\n",
      "Saved trimmed data to /run/media/viblab/Markov2/Haykal/AnakKrakatauEWS/data/processed/I06AU_NON_EVENT/IM_det_403_20181229_060924_to_20181229_060934.csv\n",
      "Saved trimmed data to /run/media/viblab/Markov2/Haykal/AnakKrakatauEWS/data/processed/I06AU_NON_EVENT/IM_det_404_20181229_061054_to_20181229_061119.csv\n",
      "Saved trimmed data to /run/media/viblab/Markov2/Haykal/AnakKrakatauEWS/data/processed/I06AU_NON_EVENT/IM_det_405_20181229_061244_to_20181229_061319.csv\n",
      "Saved trimmed data to /run/media/viblab/Markov2/Haykal/AnakKrakatauEWS/data/processed/I06AU_NON_EVENT/IM_det_406_20181229_061509_to_20181229_061529.csv\n",
      "Saved trimmed data to /run/media/viblab/Markov2/Haykal/AnakKrakatauEWS/data/processed/I06AU_NON_EVENT/IM_det_407_20181229_075159_to_20181229_075204.csv\n",
      "Saved trimmed data to /run/media/viblab/Markov2/Haykal/AnakKrakatauEWS/data/processed/I06AU_NON_EVENT/IM_det_408_20181229_075324_to_20181229_075334.csv\n",
      "Saved trimmed data to /run/media/viblab/Markov2/Haykal/AnakKrakatauEWS/data/processed/I06AU_NON_EVENT/IM_det_409_20181229_075459_to_20181229_075509.csv\n",
      "Saved trimmed data to /run/media/viblab/Markov2/Haykal/AnakKrakatauEWS/data/processed/I06AU_NON_EVENT/IM_det_410_20181229_075639_to_20181229_075644.csv\n",
      "Saved trimmed data to /run/media/viblab/Markov2/Haykal/AnakKrakatauEWS/data/processed/I06AU_NON_EVENT/IM_det_411_20181229_075814_to_20181229_075834.csv\n",
      "Saved trimmed data to /run/media/viblab/Markov2/Haykal/AnakKrakatauEWS/data/processed/I06AU_NON_EVENT/IM_det_412_20181229_075944_to_20181229_080029.csv\n",
      "Saved trimmed data to /run/media/viblab/Markov2/Haykal/AnakKrakatauEWS/data/processed/I06AU_NON_EVENT/IM_det_413_20181229_080224_to_20181229_080239.csv\n",
      "Saved trimmed data to /run/media/viblab/Markov2/Haykal/AnakKrakatauEWS/data/processed/I06AU_NON_EVENT/IM_det_414_20181229_094519_to_20181229_094534.csv\n",
      "Saved trimmed data to /run/media/viblab/Markov2/Haykal/AnakKrakatauEWS/data/processed/I06AU_NON_EVENT/IM_det_415_20181229_094824_to_20181229_094829.csv\n",
      "Saved trimmed data to /run/media/viblab/Markov2/Haykal/AnakKrakatauEWS/data/processed/I06AU_NON_EVENT/IM_det_416_20181229_094954_to_20181229_095019.csv\n",
      "Saved trimmed data to /run/media/viblab/Markov2/Haykal/AnakKrakatauEWS/data/processed/I06AU_NON_EVENT/IM_det_417_20181229_095149_to_20181229_095214.csv\n",
      "Saved trimmed data to /run/media/viblab/Markov2/Haykal/AnakKrakatauEWS/data/processed/I06AU_NON_EVENT/IM_det_418_20181229_095414_to_20181229_095419.csv\n",
      "Saved trimmed data to /run/media/viblab/Markov2/Haykal/AnakKrakatauEWS/data/processed/I06AU_NON_EVENT/IM_det_419_20181229_101254_to_20181229_101324.csv\n"
     ]
    },
    {
     "name": "stderr",
     "output_type": "stream",
     "text": []
    },
    {
     "name": "stdout",
     "output_type": "stream",
     "text": [
      "Saved trimmed data to /run/media/viblab/Markov2/Haykal/AnakKrakatauEWS/data/processed/I06AU_NON_EVENT/IM_det_420_20181229_123004_to_20181229_123029.csv\n",
      "Saved trimmed data to /run/media/viblab/Markov2/Haykal/AnakKrakatauEWS/data/processed/I06AU_NON_EVENT/IM_det_421_20181229_123204_to_20181229_123224.csv\n",
      "Saved trimmed data to /run/media/viblab/Markov2/Haykal/AnakKrakatauEWS/data/processed/I06AU_NON_EVENT/IM_det_422_20181229_144924_to_20181229_144944.csv\n",
      "Saved trimmed data to /run/media/viblab/Markov2/Haykal/AnakKrakatauEWS/data/processed/I06AU_NON_EVENT/IM_det_423_20181229_145059_to_20181229_145139.csv\n",
      "Saved trimmed data to /run/media/viblab/Markov2/Haykal/AnakKrakatauEWS/data/processed/I06AU_NON_EVENT/IM_det_424_20181229_145324_to_20181229_145329.csv\n",
      "Saved trimmed data to /run/media/viblab/Markov2/Haykal/AnakKrakatauEWS/data/processed/I06AU_NON_EVENT/IM_det_425_20181229_150534_to_20181229_150539.csv\n",
      "Saved trimmed data to /run/media/viblab/Markov2/Haykal/AnakKrakatauEWS/data/processed/I06AU_NON_EVENT/IM_det_426_20181229_155024_to_20181229_155124.csv\n",
      "Saved trimmed data to /run/media/viblab/Markov2/Haykal/AnakKrakatauEWS/data/processed/I06AU_NON_EVENT/IM_det_427_20181229_155254_to_20181229_155259.csv\n",
      "Saved trimmed data to /run/media/viblab/Markov2/Haykal/AnakKrakatauEWS/data/processed/I06AU_NON_EVENT/IM_det_428_20181229_173309_to_20181229_173334.csv\n",
      "Saved trimmed data to /run/media/viblab/Markov2/Haykal/AnakKrakatauEWS/data/processed/I06AU_NON_EVENT/IM_det_429_20181229_173524_to_20181229_173529.csv\n",
      "Saved trimmed data to /run/media/viblab/Markov2/Haykal/AnakKrakatauEWS/data/processed/I06AU_NON_EVENT/IM_det_430_20181229_173559_to_20181229_173604.csv\n",
      "Saved trimmed data to /run/media/viblab/Markov2/Haykal/AnakKrakatauEWS/data/processed/I06AU_NON_EVENT/IM_det_431_20181229_181829_to_20181229_181844.csv\n",
      "Saved trimmed data to /run/media/viblab/Markov2/Haykal/AnakKrakatauEWS/data/processed/I06AU_NON_EVENT/IM_det_432_20181229_182029_to_20181229_182049.csv\n",
      "Saved trimmed data to /run/media/viblab/Markov2/Haykal/AnakKrakatauEWS/data/processed/I06AU_NON_EVENT/IM_det_433_20181229_191054_to_20181229_191109.csv\n",
      "Saved trimmed data to /run/media/viblab/Markov2/Haykal/AnakKrakatauEWS/data/processed/I06AU_NON_EVENT/IM_det_434_20181229_191229_to_20181229_191319.csv\n",
      "Saved trimmed data to /run/media/viblab/Markov2/Haykal/AnakKrakatauEWS/data/processed/I06AU_NON_EVENT/IM_det_435_20181229_220819_to_20181229_220829.csv\n"
     ]
    },
    {
     "name": "stderr",
     "output_type": "stream",
     "text": [
      "Processing CSV files:  56%|█████▌    | 242/436 [29:36<21:02,  6.51s/it]"
     ]
    },
    {
     "name": "stdout",
     "output_type": "stream",
     "text": [
      "Saved trimmed data to /run/media/viblab/Markov2/Haykal/AnakKrakatauEWS/data/processed/I06AU_NON_EVENT/IM_det_0_20180701_030009_to_20180701_030014.csv\n",
      "Saved trimmed data to /run/media/viblab/Markov2/Haykal/AnakKrakatauEWS/data/processed/I06AU_NON_EVENT/IM_det_1_20180701_035644_to_20180701_035649.csv\n",
      "Saved trimmed data to /run/media/viblab/Markov2/Haykal/AnakKrakatauEWS/data/processed/I06AU_NON_EVENT/IM_det_2_20180701_041819_to_20180701_041824.csv\n",
      "Saved trimmed data to /run/media/viblab/Markov2/Haykal/AnakKrakatauEWS/data/processed/I06AU_NON_EVENT/IM_det_3_20180701_043514_to_20180701_043524.csv\n",
      "Saved trimmed data to /run/media/viblab/Markov2/Haykal/AnakKrakatauEWS/data/processed/I06AU_NON_EVENT/IM_det_4_20180701_043904_to_20180701_043909.csv\n",
      "Saved trimmed data to /run/media/viblab/Markov2/Haykal/AnakKrakatauEWS/data/processed/I06AU_NON_EVENT/IM_det_5_20180701_044909_to_20180701_044929.csv\n",
      "Saved trimmed data to /run/media/viblab/Markov2/Haykal/AnakKrakatauEWS/data/processed/I06AU_NON_EVENT/IM_det_6_20180701_051254_to_20180701_051259.csv\n",
      "Saved trimmed data to /run/media/viblab/Markov2/Haykal/AnakKrakatauEWS/data/processed/I06AU_NON_EVENT/IM_det_7_20180701_051644_to_20180701_051654.csv\n",
      "Saved trimmed data to /run/media/viblab/Markov2/Haykal/AnakKrakatauEWS/data/processed/I06AU_NON_EVENT/IM_det_8_20180701_053704_to_20180701_053709.csv\n",
      "Saved trimmed data to /run/media/viblab/Markov2/Haykal/AnakKrakatauEWS/data/processed/I06AU_NON_EVENT/IM_det_9_20180701_060204_to_20180701_060219.csv\n",
      "Saved trimmed data to /run/media/viblab/Markov2/Haykal/AnakKrakatauEWS/data/processed/I06AU_NON_EVENT/IM_det_10_20180701_064134_to_20180701_064139.csv\n",
      "Saved trimmed data to /run/media/viblab/Markov2/Haykal/AnakKrakatauEWS/data/processed/I06AU_NON_EVENT/IM_det_11_20180701_064219_to_20180701_064239.csv\n",
      "Saved trimmed data to /run/media/viblab/Markov2/Haykal/AnakKrakatauEWS/data/processed/I06AU_NON_EVENT/IM_det_12_20180701_064514_to_20180701_064524.csv\n",
      "Saved trimmed data to /run/media/viblab/Markov2/Haykal/AnakKrakatauEWS/data/processed/I06AU_NON_EVENT/IM_det_13_20180701_064609_to_20180701_064624.csv\n",
      "Saved trimmed data to /run/media/viblab/Markov2/Haykal/AnakKrakatauEWS/data/processed/I06AU_NON_EVENT/IM_det_14_20180701_065409_to_20180701_065414.csv\n",
      "Saved trimmed data to /run/media/viblab/Markov2/Haykal/AnakKrakatauEWS/data/processed/I06AU_NON_EVENT/IM_det_15_20180701_065454_to_20180701_065459.csv\n",
      "Saved trimmed data to /run/media/viblab/Markov2/Haykal/AnakKrakatauEWS/data/processed/I06AU_NON_EVENT/IM_det_16_20180701_065544_to_20180701_065549.csv\n",
      "Saved trimmed data to /run/media/viblab/Markov2/Haykal/AnakKrakatauEWS/data/processed/I06AU_NON_EVENT/IM_det_17_20180701_065844_to_20180701_065849.csv\n",
      "Saved trimmed data to /run/media/viblab/Markov2/Haykal/AnakKrakatauEWS/data/processed/I06AU_NON_EVENT/IM_det_18_20180701_070839_to_20180701_070849.csv\n",
      "Saved trimmed data to /run/media/viblab/Markov2/Haykal/AnakKrakatauEWS/data/processed/I06AU_NON_EVENT/IM_det_19_20180701_075134_to_20180701_075139.csv\n"
     ]
    },
    {
     "name": "stderr",
     "output_type": "stream",
     "text": []
    },
    {
     "name": "stdout",
     "output_type": "stream",
     "text": [
      "Saved trimmed data to /run/media/viblab/Markov2/Haykal/AnakKrakatauEWS/data/processed/I06AU_NON_EVENT/IM_det_20_20180701_075519_to_20180701_075524.csv\n",
      "Saved trimmed data to /run/media/viblab/Markov2/Haykal/AnakKrakatauEWS/data/processed/I06AU_NON_EVENT/IM_det_21_20180701_080034_to_20180701_080039.csv\n",
      "Saved trimmed data to /run/media/viblab/Markov2/Haykal/AnakKrakatauEWS/data/processed/I06AU_NON_EVENT/IM_det_22_20180701_082539_to_20180701_082544.csv\n",
      "Saved trimmed data to /run/media/viblab/Markov2/Haykal/AnakKrakatauEWS/data/processed/I06AU_NON_EVENT/IM_det_23_20180701_082929_to_20180701_082934.csv\n",
      "Saved trimmed data to /run/media/viblab/Markov2/Haykal/AnakKrakatauEWS/data/processed/I06AU_NON_EVENT/IM_det_24_20180701_084004_to_20180701_084024.csv\n",
      "Saved trimmed data to /run/media/viblab/Markov2/Haykal/AnakKrakatauEWS/data/processed/I06AU_NON_EVENT/IM_det_25_20180701_084329_to_20180701_084344.csv\n",
      "Saved trimmed data to /run/media/viblab/Markov2/Haykal/AnakKrakatauEWS/data/processed/I06AU_NON_EVENT/IM_det_26_20180701_084714_to_20180701_084724.csv\n",
      "Saved trimmed data to /run/media/viblab/Markov2/Haykal/AnakKrakatauEWS/data/processed/I06AU_NON_EVENT/IM_det_27_20180701_090024_to_20180701_090029.csv\n",
      "Saved trimmed data to /run/media/viblab/Markov2/Haykal/AnakKrakatauEWS/data/processed/I06AU_NON_EVENT/IM_det_28_20180701_091019_to_20180701_091024.csv\n",
      "Saved trimmed data to /run/media/viblab/Markov2/Haykal/AnakKrakatauEWS/data/processed/I06AU_NON_EVENT/IM_det_29_20180701_094224_to_20180701_094229.csv\n",
      "Saved trimmed data to /run/media/viblab/Markov2/Haykal/AnakKrakatauEWS/data/processed/I06AU_NON_EVENT/IM_det_30_20180701_102034_to_20180701_102039.csv\n",
      "Saved trimmed data to /run/media/viblab/Markov2/Haykal/AnakKrakatauEWS/data/processed/I06AU_NON_EVENT/IM_det_31_20180701_102914_to_20180701_102919.csv\n",
      "Saved trimmed data to /run/media/viblab/Markov2/Haykal/AnakKrakatauEWS/data/processed/I06AU_NON_EVENT/IM_det_32_20180701_103949_to_20180701_103959.csv\n",
      "Saved trimmed data to /run/media/viblab/Markov2/Haykal/AnakKrakatauEWS/data/processed/I06AU_NON_EVENT/IM_det_33_20180701_104019_to_20180701_104024.csv\n",
      "Saved trimmed data to /run/media/viblab/Markov2/Haykal/AnakKrakatauEWS/data/processed/I06AU_NON_EVENT/IM_det_34_20180701_105039_to_20180701_105044.csv\n",
      "Saved trimmed data to /run/media/viblab/Markov2/Haykal/AnakKrakatauEWS/data/processed/I06AU_NON_EVENT/IM_det_35_20180701_105339_to_20180701_105344.csv\n",
      "Saved trimmed data to /run/media/viblab/Markov2/Haykal/AnakKrakatauEWS/data/processed/I06AU_NON_EVENT/IM_det_36_20180701_124939_to_20180701_124949.csv\n"
     ]
    },
    {
     "name": "stderr",
     "output_type": "stream",
     "text": [
      "Processing CSV files:  58%|█████▊    | 252/436 [30:37<17:11,  5.60s/it]"
     ]
    },
    {
     "name": "stdout",
     "output_type": "stream",
     "text": [
      "Saved trimmed data to /run/media/viblab/Markov2/Haykal/AnakKrakatauEWS/data/processed/I06AU_NON_EVENT/IM_det_166_20181015_113739_to_20181015_113744.csv\n"
     ]
    },
    {
     "name": "stderr",
     "output_type": "stream",
     "text": [
      "Processing CSV files:  60%|██████    | 263/436 [31:46<18:20,  6.36s/it]"
     ]
    },
    {
     "name": "stdout",
     "output_type": "stream",
     "text": [
      "Saved trimmed data to /run/media/viblab/Markov2/Haykal/AnakKrakatauEWS/data/processed/I06AU_NON_EVENT/IM_det_143_20180819_073659_to_20180819_073704.csv\n",
      "Saved trimmed data to /run/media/viblab/Markov2/Haykal/AnakKrakatauEWS/data/processed/I06AU_NON_EVENT/IM_det_144_20180819_163714_to_20180819_163719.csv\n"
     ]
    },
    {
     "name": "stderr",
     "output_type": "stream",
     "text": [
      "Processing CSV files:  61%|██████    | 267/436 [32:11<17:12,  6.11s/it]"
     ]
    },
    {
     "name": "stdout",
     "output_type": "stream",
     "text": [
      "Saved trimmed data to /run/media/viblab/Markov2/Haykal/AnakKrakatauEWS/data/processed/I06AU_NON_EVENT/IM_det_558_20190509_034741_to_20190509_034746.csv\n"
     ]
    },
    {
     "name": "stderr",
     "output_type": "stream",
     "text": [
      "Processing CSV files:  62%|██████▏   | 269/436 [32:22<15:58,  5.74s/it]"
     ]
    },
    {
     "name": "stdout",
     "output_type": "stream",
     "text": [
      "Saved trimmed data to /run/media/viblab/Markov2/Haykal/AnakKrakatauEWS/data/processed/I06AU_NON_EVENT/IM_det_194_20181201_061852_to_20181201_061857.csv\n",
      "Saved trimmed data to /run/media/viblab/Markov2/Haykal/AnakKrakatauEWS/data/processed/I06AU_NON_EVENT/IM_det_195_20181201_062032_to_20181201_062102.csv\n"
     ]
    },
    {
     "name": "stderr",
     "output_type": "stream",
     "text": [
      "Processing CSV files:  69%|██████▊   | 299/436 [35:25<15:09,  6.64s/it]"
     ]
    },
    {
     "name": "stdout",
     "output_type": "stream",
     "text": [
      "Saved trimmed data to /run/media/viblab/Markov2/Haykal/AnakKrakatauEWS/data/processed/I06AU_NON_EVENT/IM_det_169_20181025_103735_to_20181025_103740.csv\n",
      "Saved trimmed data to /run/media/viblab/Markov2/Haykal/AnakKrakatauEWS/data/processed/I06AU_NON_EVENT/IM_det_170_20181025_103810_to_20181025_103815.csv\n",
      "Saved trimmed data to /run/media/viblab/Markov2/Haykal/AnakKrakatauEWS/data/processed/I06AU_NON_EVENT/IM_det_171_20181025_103940_to_20181025_103950.csv\n"
     ]
    },
    {
     "name": "stderr",
     "output_type": "stream",
     "text": [
      "Processing CSV files:  69%|██████▉   | 303/436 [35:46<12:28,  5.63s/it]"
     ]
    },
    {
     "name": "stdout",
     "output_type": "stream",
     "text": [
      "Saved trimmed data to /run/media/viblab/Markov2/Haykal/AnakKrakatauEWS/data/processed/I06AU_NON_EVENT/IM_det_196_20181219_015213_to_20181219_015223.csv\n"
     ]
    },
    {
     "name": "stderr",
     "output_type": "stream",
     "text": [
      "Processing CSV files:  70%|██████▉   | 304/436 [35:52<12:19,  5.60s/it]"
     ]
    },
    {
     "name": "stdout",
     "output_type": "stream",
     "text": [
      "Saved trimmed data to /run/media/viblab/Markov2/Haykal/AnakKrakatauEWS/data/processed/I06AU_NON_EVENT/IM_det_212_20181224_111136_to_20181224_111141.csv\n",
      "Saved trimmed data to /run/media/viblab/Markov2/Haykal/AnakKrakatauEWS/data/processed/I06AU_NON_EVENT/IM_det_213_20181224_111931_to_20181224_111936.csv\n",
      "Saved trimmed data to /run/media/viblab/Markov2/Haykal/AnakKrakatauEWS/data/processed/I06AU_NON_EVENT/IM_det_214_20181224_112206_to_20181224_112221.csv\n",
      "Saved trimmed data to /run/media/viblab/Markov2/Haykal/AnakKrakatauEWS/data/processed/I06AU_NON_EVENT/IM_det_215_20181224_112401_to_20181224_112406.csv\n",
      "Saved trimmed data to /run/media/viblab/Markov2/Haykal/AnakKrakatauEWS/data/processed/I06AU_NON_EVENT/IM_det_216_20181224_112906_to_20181224_112911.csv\n",
      "Saved trimmed data to /run/media/viblab/Markov2/Haykal/AnakKrakatauEWS/data/processed/I06AU_NON_EVENT/IM_det_217_20181224_113106_to_20181224_113126.csv\n",
      "Saved trimmed data to /run/media/viblab/Markov2/Haykal/AnakKrakatauEWS/data/processed/I06AU_NON_EVENT/IM_det_218_20181224_115941_to_20181224_115946.csv\n",
      "Saved trimmed data to /run/media/viblab/Markov2/Haykal/AnakKrakatauEWS/data/processed/I06AU_NON_EVENT/IM_det_219_20181224_120606_to_20181224_120616.csv\n",
      "Saved trimmed data to /run/media/viblab/Markov2/Haykal/AnakKrakatauEWS/data/processed/I06AU_NON_EVENT/IM_det_220_20181224_120816_to_20181224_120821.csv\n",
      "Saved trimmed data to /run/media/viblab/Markov2/Haykal/AnakKrakatauEWS/data/processed/I06AU_NON_EVENT/IM_det_221_20181224_121646_to_20181224_121651.csv\n",
      "Saved trimmed data to /run/media/viblab/Markov2/Haykal/AnakKrakatauEWS/data/processed/I06AU_NON_EVENT/IM_det_222_20181224_122731_to_20181224_122741.csv\n",
      "Saved trimmed data to /run/media/viblab/Markov2/Haykal/AnakKrakatauEWS/data/processed/I06AU_NON_EVENT/IM_det_223_20181224_123131_to_20181224_123136.csv\n",
      "Saved trimmed data to /run/media/viblab/Markov2/Haykal/AnakKrakatauEWS/data/processed/I06AU_NON_EVENT/IM_det_224_20181224_123306_to_20181224_123316.csv\n",
      "Saved trimmed data to /run/media/viblab/Markov2/Haykal/AnakKrakatauEWS/data/processed/I06AU_NON_EVENT/IM_det_225_20181224_123506_to_20181224_123516.csv\n",
      "Saved trimmed data to /run/media/viblab/Markov2/Haykal/AnakKrakatauEWS/data/processed/I06AU_NON_EVENT/IM_det_226_20181224_124016_to_20181224_124021.csv\n",
      "Saved trimmed data to /run/media/viblab/Markov2/Haykal/AnakKrakatauEWS/data/processed/I06AU_NON_EVENT/IM_det_227_20181224_125001_to_20181224_125011.csv\n",
      "Saved trimmed data to /run/media/viblab/Markov2/Haykal/AnakKrakatauEWS/data/processed/I06AU_NON_EVENT/IM_det_228_20181224_132041_to_20181224_132046.csv\n",
      "Saved trimmed data to /run/media/viblab/Markov2/Haykal/AnakKrakatauEWS/data/processed/I06AU_NON_EVENT/IM_det_229_20181224_134446_to_20181224_134451.csv\n",
      "Saved trimmed data to /run/media/viblab/Markov2/Haykal/AnakKrakatauEWS/data/processed/I06AU_NON_EVENT/IM_det_230_20181224_134921_to_20181224_134926.csv\n",
      "Saved trimmed data to /run/media/viblab/Markov2/Haykal/AnakKrakatauEWS/data/processed/I06AU_NON_EVENT/IM_det_231_20181224_135601_to_20181224_135606.csv\n",
      "Saved trimmed data to /run/media/viblab/Markov2/Haykal/AnakKrakatauEWS/data/processed/I06AU_NON_EVENT/IM_det_232_20181224_141046_to_20181224_141056.csv\n",
      "Saved trimmed data to /run/media/viblab/Markov2/Haykal/AnakKrakatauEWS/data/processed/I06AU_NON_EVENT/IM_det_233_20181224_142741_to_20181224_142746.csv\n",
      "Saved trimmed data to /run/media/viblab/Markov2/Haykal/AnakKrakatauEWS/data/processed/I06AU_NON_EVENT/IM_det_234_20181224_142941_to_20181224_142946.csv\n",
      "Saved trimmed data to /run/media/viblab/Markov2/Haykal/AnakKrakatauEWS/data/processed/I06AU_NON_EVENT/IM_det_235_20181224_143241_to_20181224_143246.csv\n",
      "Saved trimmed data to /run/media/viblab/Markov2/Haykal/AnakKrakatauEWS/data/processed/I06AU_NON_EVENT/IM_det_236_20181224_143441_to_20181224_143446.csv\n",
      "Saved trimmed data to /run/media/viblab/Markov2/Haykal/AnakKrakatauEWS/data/processed/I06AU_NON_EVENT/IM_det_237_20181224_143506_to_20181224_143516.csv\n",
      "Saved trimmed data to /run/media/viblab/Markov2/Haykal/AnakKrakatauEWS/data/processed/I06AU_NON_EVENT/IM_det_238_20181224_143656_to_20181224_143701.csv\n",
      "Saved trimmed data to /run/media/viblab/Markov2/Haykal/AnakKrakatauEWS/data/processed/I06AU_NON_EVENT/IM_det_239_20181224_143941_to_20181224_143956.csv\n",
      "Saved trimmed data to /run/media/viblab/Markov2/Haykal/AnakKrakatauEWS/data/processed/I06AU_NON_EVENT/IM_det_240_20181224_144421_to_20181224_144446.csv\n",
      "Saved trimmed data to /run/media/viblab/Markov2/Haykal/AnakKrakatauEWS/data/processed/I06AU_NON_EVENT/IM_det_241_20181224_144601_to_20181224_144646.csv\n",
      "Saved trimmed data to /run/media/viblab/Markov2/Haykal/AnakKrakatauEWS/data/processed/I06AU_NON_EVENT/IM_det_242_20181224_144826_to_20181224_144831.csv\n",
      "Saved trimmed data to /run/media/viblab/Markov2/Haykal/AnakKrakatauEWS/data/processed/I06AU_NON_EVENT/IM_det_243_20181224_145021_to_20181224_145026.csv\n",
      "Saved trimmed data to /run/media/viblab/Markov2/Haykal/AnakKrakatauEWS/data/processed/I06AU_NON_EVENT/IM_det_244_20181224_145221_to_20181224_145226.csv\n",
      "Saved trimmed data to /run/media/viblab/Markov2/Haykal/AnakKrakatauEWS/data/processed/I06AU_NON_EVENT/IM_det_245_20181224_145806_to_20181224_145816.csv\n",
      "Saved trimmed data to /run/media/viblab/Markov2/Haykal/AnakKrakatauEWS/data/processed/I06AU_NON_EVENT/IM_det_246_20181224_150501_to_20181224_150506.csv\n",
      "Saved trimmed data to /run/media/viblab/Markov2/Haykal/AnakKrakatauEWS/data/processed/I06AU_NON_EVENT/IM_det_247_20181224_150516_to_20181224_150521.csv\n",
      "Saved trimmed data to /run/media/viblab/Markov2/Haykal/AnakKrakatauEWS/data/processed/I06AU_NON_EVENT/IM_det_248_20181224_150711_to_20181224_150721.csv\n",
      "Saved trimmed data to /run/media/viblab/Markov2/Haykal/AnakKrakatauEWS/data/processed/I06AU_NON_EVENT/IM_det_249_20181224_150911_to_20181224_150921.csv\n",
      "Saved trimmed data to /run/media/viblab/Markov2/Haykal/AnakKrakatauEWS/data/processed/I06AU_NON_EVENT/IM_det_250_20181224_151101_to_20181224_151111.csv\n",
      "Saved trimmed data to /run/media/viblab/Markov2/Haykal/AnakKrakatauEWS/data/processed/I06AU_NON_EVENT/IM_det_251_20181224_151121_to_20181224_151126.csv\n",
      "Saved trimmed data to /run/media/viblab/Markov2/Haykal/AnakKrakatauEWS/data/processed/I06AU_NON_EVENT/IM_det_252_20181224_152311_to_20181224_152316.csv\n",
      "Saved trimmed data to /run/media/viblab/Markov2/Haykal/AnakKrakatauEWS/data/processed/I06AU_NON_EVENT/IM_det_253_20181224_152546_to_20181224_152551.csv\n",
      "Saved trimmed data to /run/media/viblab/Markov2/Haykal/AnakKrakatauEWS/data/processed/I06AU_NON_EVENT/IM_det_254_20181224_152711_to_20181224_152716.csv\n",
      "Saved trimmed data to /run/media/viblab/Markov2/Haykal/AnakKrakatauEWS/data/processed/I06AU_NON_EVENT/IM_det_255_20181224_152906_to_20181224_152911.csv\n",
      "Saved trimmed data to /run/media/viblab/Markov2/Haykal/AnakKrakatauEWS/data/processed/I06AU_NON_EVENT/IM_det_256_20181224_153131_to_20181224_153136.csv\n",
      "Saved trimmed data to /run/media/viblab/Markov2/Haykal/AnakKrakatauEWS/data/processed/I06AU_NON_EVENT/IM_det_257_20181224_153231_to_20181224_153251.csv\n",
      "Saved trimmed data to /run/media/viblab/Markov2/Haykal/AnakKrakatauEWS/data/processed/I06AU_NON_EVENT/IM_det_258_20181224_153451_to_20181224_153506.csv\n",
      "Saved trimmed data to /run/media/viblab/Markov2/Haykal/AnakKrakatauEWS/data/processed/I06AU_NON_EVENT/IM_det_259_20181224_153656_to_20181224_153701.csv\n",
      "Saved trimmed data to /run/media/viblab/Markov2/Haykal/AnakKrakatauEWS/data/processed/I06AU_NON_EVENT/IM_det_260_20181224_153711_to_20181224_153721.csv\n",
      "Saved trimmed data to /run/media/viblab/Markov2/Haykal/AnakKrakatauEWS/data/processed/I06AU_NON_EVENT/IM_det_261_20181224_154201_to_20181224_154206.csv\n",
      "Saved trimmed data to /run/media/viblab/Markov2/Haykal/AnakKrakatauEWS/data/processed/I06AU_NON_EVENT/IM_det_262_20181224_154516_to_20181224_154521.csv\n",
      "Saved trimmed data to /run/media/viblab/Markov2/Haykal/AnakKrakatauEWS/data/processed/I06AU_NON_EVENT/IM_det_263_20181224_154736_to_20181224_154746.csv\n",
      "Saved trimmed data to /run/media/viblab/Markov2/Haykal/AnakKrakatauEWS/data/processed/I06AU_NON_EVENT/IM_det_264_20181224_154756_to_20181224_154806.csv\n",
      "Saved trimmed data to /run/media/viblab/Markov2/Haykal/AnakKrakatauEWS/data/processed/I06AU_NON_EVENT/IM_det_265_20181224_155011_to_20181224_155026.csv\n",
      "Saved trimmed data to /run/media/viblab/Markov2/Haykal/AnakKrakatauEWS/data/processed/I06AU_NON_EVENT/IM_det_266_20181224_155136_to_20181224_155141.csv\n",
      "Saved trimmed data to /run/media/viblab/Markov2/Haykal/AnakKrakatauEWS/data/processed/I06AU_NON_EVENT/IM_det_267_20181224_155221_to_20181224_155226.csv\n",
      "Saved trimmed data to /run/media/viblab/Markov2/Haykal/AnakKrakatauEWS/data/processed/I06AU_NON_EVENT/IM_det_268_20181224_155406_to_20181224_155416.csv\n",
      "Saved trimmed data to /run/media/viblab/Markov2/Haykal/AnakKrakatauEWS/data/processed/I06AU_NON_EVENT/IM_det_269_20181224_160021_to_20181224_160026.csv\n",
      "Saved trimmed data to /run/media/viblab/Markov2/Haykal/AnakKrakatauEWS/data/processed/I06AU_NON_EVENT/IM_det_270_20181224_160131_to_20181224_160136.csv\n",
      "Saved trimmed data to /run/media/viblab/Markov2/Haykal/AnakKrakatauEWS/data/processed/I06AU_NON_EVENT/IM_det_271_20181224_160421_to_20181224_160426.csv\n",
      "Saved trimmed data to /run/media/viblab/Markov2/Haykal/AnakKrakatauEWS/data/processed/I06AU_NON_EVENT/IM_det_272_20181224_160741_to_20181224_160746.csv\n",
      "Saved trimmed data to /run/media/viblab/Markov2/Haykal/AnakKrakatauEWS/data/processed/I06AU_NON_EVENT/IM_det_273_20181224_160921_to_20181224_160931.csv\n",
      "Saved trimmed data to /run/media/viblab/Markov2/Haykal/AnakKrakatauEWS/data/processed/I06AU_NON_EVENT/IM_det_274_20181224_161101_to_20181224_161106.csv\n",
      "Saved trimmed data to /run/media/viblab/Markov2/Haykal/AnakKrakatauEWS/data/processed/I06AU_NON_EVENT/IM_det_275_20181224_161146_to_20181224_161151.csv\n",
      "Saved trimmed data to /run/media/viblab/Markov2/Haykal/AnakKrakatauEWS/data/processed/I06AU_NON_EVENT/IM_det_276_20181224_161241_to_20181224_161246.csv\n",
      "Saved trimmed data to /run/media/viblab/Markov2/Haykal/AnakKrakatauEWS/data/processed/I06AU_NON_EVENT/IM_det_277_20181224_161256_to_20181224_161301.csv\n"
     ]
    },
    {
     "name": "stderr",
     "output_type": "stream",
     "text": []
    },
    {
     "name": "stdout",
     "output_type": "stream",
     "text": [
      "Saved trimmed data to /run/media/viblab/Markov2/Haykal/AnakKrakatauEWS/data/processed/I06AU_NON_EVENT/IM_det_278_20181224_161346_to_20181224_161416.csv\n",
      "Saved trimmed data to /run/media/viblab/Markov2/Haykal/AnakKrakatauEWS/data/processed/I06AU_NON_EVENT/IM_det_279_20181224_161526_to_20181224_161536.csv\n",
      "Saved trimmed data to /run/media/viblab/Markov2/Haykal/AnakKrakatauEWS/data/processed/I06AU_NON_EVENT/IM_det_280_20181224_161901_to_20181224_161906.csv\n",
      "Saved trimmed data to /run/media/viblab/Markov2/Haykal/AnakKrakatauEWS/data/processed/I06AU_NON_EVENT/IM_det_281_20181224_162056_to_20181224_162101.csv\n",
      "Saved trimmed data to /run/media/viblab/Markov2/Haykal/AnakKrakatauEWS/data/processed/I06AU_NON_EVENT/IM_det_282_20181224_162311_to_20181224_162341.csv\n",
      "Saved trimmed data to /run/media/viblab/Markov2/Haykal/AnakKrakatauEWS/data/processed/I06AU_NON_EVENT/IM_det_283_20181224_162656_to_20181224_162701.csv\n",
      "Saved trimmed data to /run/media/viblab/Markov2/Haykal/AnakKrakatauEWS/data/processed/I06AU_NON_EVENT/IM_det_284_20181224_162711_to_20181224_162716.csv\n",
      "Saved trimmed data to /run/media/viblab/Markov2/Haykal/AnakKrakatauEWS/data/processed/I06AU_NON_EVENT/IM_det_285_20181224_162851_to_20181224_162911.csv\n",
      "Saved trimmed data to /run/media/viblab/Markov2/Haykal/AnakKrakatauEWS/data/processed/I06AU_NON_EVENT/IM_det_286_20181224_163336_to_20181224_163401.csv\n",
      "Saved trimmed data to /run/media/viblab/Markov2/Haykal/AnakKrakatauEWS/data/processed/I06AU_NON_EVENT/IM_det_287_20181224_163436_to_20181224_163451.csv\n",
      "Saved trimmed data to /run/media/viblab/Markov2/Haykal/AnakKrakatauEWS/data/processed/I06AU_NON_EVENT/IM_det_288_20181224_164511_to_20181224_164536.csv\n",
      "Saved trimmed data to /run/media/viblab/Markov2/Haykal/AnakKrakatauEWS/data/processed/I06AU_NON_EVENT/IM_det_289_20181224_165946_to_20181224_165951.csv\n",
      "Saved trimmed data to /run/media/viblab/Markov2/Haykal/AnakKrakatauEWS/data/processed/I06AU_NON_EVENT/IM_det_290_20181224_170131_to_20181224_170136.csv\n",
      "Saved trimmed data to /run/media/viblab/Markov2/Haykal/AnakKrakatauEWS/data/processed/I06AU_NON_EVENT/IM_det_291_20181224_171411_to_20181224_171416.csv\n",
      "Saved trimmed data to /run/media/viblab/Markov2/Haykal/AnakKrakatauEWS/data/processed/I06AU_NON_EVENT/IM_det_292_20181224_171636_to_20181224_171641.csv\n",
      "Saved trimmed data to /run/media/viblab/Markov2/Haykal/AnakKrakatauEWS/data/processed/I06AU_NON_EVENT/IM_det_293_20181224_171841_to_20181224_171846.csv\n",
      "Saved trimmed data to /run/media/viblab/Markov2/Haykal/AnakKrakatauEWS/data/processed/I06AU_NON_EVENT/IM_det_294_20181224_171951_to_20181224_171956.csv\n",
      "Saved trimmed data to /run/media/viblab/Markov2/Haykal/AnakKrakatauEWS/data/processed/I06AU_NON_EVENT/IM_det_295_20181224_172206_to_20181224_172211.csv\n",
      "Saved trimmed data to /run/media/viblab/Markov2/Haykal/AnakKrakatauEWS/data/processed/I06AU_NON_EVENT/IM_det_296_20181224_172336_to_20181224_172346.csv\n",
      "Saved trimmed data to /run/media/viblab/Markov2/Haykal/AnakKrakatauEWS/data/processed/I06AU_NON_EVENT/IM_det_297_20181224_172541_to_20181224_172551.csv\n",
      "Saved trimmed data to /run/media/viblab/Markov2/Haykal/AnakKrakatauEWS/data/processed/I06AU_NON_EVENT/IM_det_298_20181224_173106_to_20181224_173111.csv\n",
      "Saved trimmed data to /run/media/viblab/Markov2/Haykal/AnakKrakatauEWS/data/processed/I06AU_NON_EVENT/IM_det_299_20181224_173831_to_20181224_173836.csv\n",
      "Saved trimmed data to /run/media/viblab/Markov2/Haykal/AnakKrakatauEWS/data/processed/I06AU_NON_EVENT/IM_det_300_20181224_174446_to_20181224_174451.csv\n",
      "Saved trimmed data to /run/media/viblab/Markov2/Haykal/AnakKrakatauEWS/data/processed/I06AU_NON_EVENT/IM_det_301_20181224_175131_to_20181224_175136.csv\n",
      "Saved trimmed data to /run/media/viblab/Markov2/Haykal/AnakKrakatauEWS/data/processed/I06AU_NON_EVENT/IM_det_302_20181224_175401_to_20181224_175406.csv\n",
      "Saved trimmed data to /run/media/viblab/Markov2/Haykal/AnakKrakatauEWS/data/processed/I06AU_NON_EVENT/IM_det_303_20181224_175416_to_20181224_175426.csv\n",
      "Saved trimmed data to /run/media/viblab/Markov2/Haykal/AnakKrakatauEWS/data/processed/I06AU_NON_EVENT/IM_det_304_20181224_182046_to_20181224_182056.csv\n",
      "Saved trimmed data to /run/media/viblab/Markov2/Haykal/AnakKrakatauEWS/data/processed/I06AU_NON_EVENT/IM_det_305_20181224_183006_to_20181224_183011.csv\n",
      "Saved trimmed data to /run/media/viblab/Markov2/Haykal/AnakKrakatauEWS/data/processed/I06AU_NON_EVENT/IM_det_306_20181224_183406_to_20181224_183411.csv\n",
      "Saved trimmed data to /run/media/viblab/Markov2/Haykal/AnakKrakatauEWS/data/processed/I06AU_NON_EVENT/IM_det_307_20181224_183611_to_20181224_183616.csv\n",
      "Saved trimmed data to /run/media/viblab/Markov2/Haykal/AnakKrakatauEWS/data/processed/I06AU_NON_EVENT/IM_det_308_20181224_184216_to_20181224_184226.csv\n",
      "Saved trimmed data to /run/media/viblab/Markov2/Haykal/AnakKrakatauEWS/data/processed/I06AU_NON_EVENT/IM_det_309_20181224_185046_to_20181224_185051.csv\n",
      "Saved trimmed data to /run/media/viblab/Markov2/Haykal/AnakKrakatauEWS/data/processed/I06AU_NON_EVENT/IM_det_310_20181224_185101_to_20181224_185111.csv\n",
      "Saved trimmed data to /run/media/viblab/Markov2/Haykal/AnakKrakatauEWS/data/processed/I06AU_NON_EVENT/IM_det_311_20181224_185206_to_20181224_185211.csv\n",
      "Saved trimmed data to /run/media/viblab/Markov2/Haykal/AnakKrakatauEWS/data/processed/I06AU_NON_EVENT/IM_det_312_20181224_185221_to_20181224_185231.csv\n",
      "Saved trimmed data to /run/media/viblab/Markov2/Haykal/AnakKrakatauEWS/data/processed/I06AU_NON_EVENT/IM_det_313_20181224_185241_to_20181224_185246.csv\n",
      "Saved trimmed data to /run/media/viblab/Markov2/Haykal/AnakKrakatauEWS/data/processed/I06AU_NON_EVENT/IM_det_314_20181224_185316_to_20181224_185321.csv\n",
      "Saved trimmed data to /run/media/viblab/Markov2/Haykal/AnakKrakatauEWS/data/processed/I06AU_NON_EVENT/IM_det_315_20181224_190126_to_20181224_190151.csv\n",
      "Saved trimmed data to /run/media/viblab/Markov2/Haykal/AnakKrakatauEWS/data/processed/I06AU_NON_EVENT/IM_det_316_20181224_190256_to_20181224_190301.csv\n",
      "Saved trimmed data to /run/media/viblab/Markov2/Haykal/AnakKrakatauEWS/data/processed/I06AU_NON_EVENT/IM_det_317_20181224_190551_to_20181224_190606.csv\n",
      "Saved trimmed data to /run/media/viblab/Markov2/Haykal/AnakKrakatauEWS/data/processed/I06AU_NON_EVENT/IM_det_318_20181224_190801_to_20181224_190806.csv\n",
      "Saved trimmed data to /run/media/viblab/Markov2/Haykal/AnakKrakatauEWS/data/processed/I06AU_NON_EVENT/IM_det_319_20181224_190901_to_20181224_190911.csv\n",
      "Saved trimmed data to /run/media/viblab/Markov2/Haykal/AnakKrakatauEWS/data/processed/I06AU_NON_EVENT/IM_det_320_20181224_191936_to_20181224_191946.csv\n",
      "Saved trimmed data to /run/media/viblab/Markov2/Haykal/AnakKrakatauEWS/data/processed/I06AU_NON_EVENT/IM_det_321_20181224_192006_to_20181224_192016.csv\n",
      "Saved trimmed data to /run/media/viblab/Markov2/Haykal/AnakKrakatauEWS/data/processed/I06AU_NON_EVENT/IM_det_322_20181224_192206_to_20181224_192226.csv\n",
      "Saved trimmed data to /run/media/viblab/Markov2/Haykal/AnakKrakatauEWS/data/processed/I06AU_NON_EVENT/IM_det_323_20181224_192446_to_20181224_192501.csv\n",
      "Saved trimmed data to /run/media/viblab/Markov2/Haykal/AnakKrakatauEWS/data/processed/I06AU_NON_EVENT/IM_det_324_20181224_194611_to_20181224_194621.csv\n",
      "Saved trimmed data to /run/media/viblab/Markov2/Haykal/AnakKrakatauEWS/data/processed/I06AU_NON_EVENT/IM_det_325_20181224_195106_to_20181224_195111.csv\n",
      "Saved trimmed data to /run/media/viblab/Markov2/Haykal/AnakKrakatauEWS/data/processed/I06AU_NON_EVENT/IM_det_326_20181224_195216_to_20181224_195221.csv\n",
      "Saved trimmed data to /run/media/viblab/Markov2/Haykal/AnakKrakatauEWS/data/processed/I06AU_NON_EVENT/IM_det_327_20181224_195831_to_20181224_195911.csv\n",
      "Saved trimmed data to /run/media/viblab/Markov2/Haykal/AnakKrakatauEWS/data/processed/I06AU_NON_EVENT/IM_det_328_20181224_200051_to_20181224_200111.csv\n",
      "Saved trimmed data to /run/media/viblab/Markov2/Haykal/AnakKrakatauEWS/data/processed/I06AU_NON_EVENT/IM_det_329_20181224_200601_to_20181224_200611.csv\n",
      "Saved trimmed data to /run/media/viblab/Markov2/Haykal/AnakKrakatauEWS/data/processed/I06AU_NON_EVENT/IM_det_330_20181224_200826_to_20181224_200841.csv\n",
      "Saved trimmed data to /run/media/viblab/Markov2/Haykal/AnakKrakatauEWS/data/processed/I06AU_NON_EVENT/IM_det_331_20181224_201036_to_20181224_201101.csv\n",
      "Saved trimmed data to /run/media/viblab/Markov2/Haykal/AnakKrakatauEWS/data/processed/I06AU_NON_EVENT/IM_det_332_20181224_202046_to_20181224_202116.csv\n",
      "Saved trimmed data to /run/media/viblab/Markov2/Haykal/AnakKrakatauEWS/data/processed/I06AU_NON_EVENT/IM_det_333_20181224_202321_to_20181224_202331.csv\n",
      "Saved trimmed data to /run/media/viblab/Markov2/Haykal/AnakKrakatauEWS/data/processed/I06AU_NON_EVENT/IM_det_334_20181224_202611_to_20181224_202616.csv\n",
      "Saved trimmed data to /run/media/viblab/Markov2/Haykal/AnakKrakatauEWS/data/processed/I06AU_NON_EVENT/IM_det_335_20181224_202631_to_20181224_202636.csv\n",
      "Saved trimmed data to /run/media/viblab/Markov2/Haykal/AnakKrakatauEWS/data/processed/I06AU_NON_EVENT/IM_det_336_20181224_202811_to_20181224_202816.csv\n",
      "Saved trimmed data to /run/media/viblab/Markov2/Haykal/AnakKrakatauEWS/data/processed/I06AU_NON_EVENT/IM_det_337_20181224_203021_to_20181224_203031.csv\n",
      "Saved trimmed data to /run/media/viblab/Markov2/Haykal/AnakKrakatauEWS/data/processed/I06AU_NON_EVENT/IM_det_338_20181224_203301_to_20181224_203306.csv\n",
      "Saved trimmed data to /run/media/viblab/Markov2/Haykal/AnakKrakatauEWS/data/processed/I06AU_NON_EVENT/IM_det_339_20181224_203606_to_20181224_203611.csv\n",
      "Saved trimmed data to /run/media/viblab/Markov2/Haykal/AnakKrakatauEWS/data/processed/I06AU_NON_EVENT/IM_det_340_20181224_203841_to_20181224_203846.csv\n"
     ]
    },
    {
     "name": "stderr",
     "output_type": "stream",
     "text": []
    },
    {
     "name": "stdout",
     "output_type": "stream",
     "text": [
      "Saved trimmed data to /run/media/viblab/Markov2/Haykal/AnakKrakatauEWS/data/processed/I06AU_NON_EVENT/IM_det_341_20181224_204611_to_20181224_204621.csv\n",
      "Saved trimmed data to /run/media/viblab/Markov2/Haykal/AnakKrakatauEWS/data/processed/I06AU_NON_EVENT/IM_det_342_20181224_205016_to_20181224_205021.csv\n",
      "Saved trimmed data to /run/media/viblab/Markov2/Haykal/AnakKrakatauEWS/data/processed/I06AU_NON_EVENT/IM_det_343_20181224_205056_to_20181224_205111.csv\n",
      "Saved trimmed data to /run/media/viblab/Markov2/Haykal/AnakKrakatauEWS/data/processed/I06AU_NON_EVENT/IM_det_344_20181224_205341_to_20181224_205346.csv\n",
      "Saved trimmed data to /run/media/viblab/Markov2/Haykal/AnakKrakatauEWS/data/processed/I06AU_NON_EVENT/IM_det_345_20181224_205601_to_20181224_205616.csv\n",
      "Saved trimmed data to /run/media/viblab/Markov2/Haykal/AnakKrakatauEWS/data/processed/I06AU_NON_EVENT/IM_det_346_20181224_210006_to_20181224_210011.csv\n",
      "Saved trimmed data to /run/media/viblab/Markov2/Haykal/AnakKrakatauEWS/data/processed/I06AU_NON_EVENT/IM_det_347_20181224_210106_to_20181224_210116.csv\n",
      "Saved trimmed data to /run/media/viblab/Markov2/Haykal/AnakKrakatauEWS/data/processed/I06AU_NON_EVENT/IM_det_348_20181224_210841_to_20181224_210846.csv\n",
      "Saved trimmed data to /run/media/viblab/Markov2/Haykal/AnakKrakatauEWS/data/processed/I06AU_NON_EVENT/IM_det_349_20181224_211626_to_20181224_211631.csv\n",
      "Saved trimmed data to /run/media/viblab/Markov2/Haykal/AnakKrakatauEWS/data/processed/I06AU_NON_EVENT/IM_det_350_20181224_212116_to_20181224_212126.csv\n",
      "Saved trimmed data to /run/media/viblab/Markov2/Haykal/AnakKrakatauEWS/data/processed/I06AU_NON_EVENT/IM_det_351_20181224_212456_to_20181224_212511.csv\n",
      "Saved trimmed data to /run/media/viblab/Markov2/Haykal/AnakKrakatauEWS/data/processed/I06AU_NON_EVENT/IM_det_352_20181224_212756_to_20181224_212801.csv\n",
      "Saved trimmed data to /run/media/viblab/Markov2/Haykal/AnakKrakatauEWS/data/processed/I06AU_NON_EVENT/IM_det_353_20181224_212816_to_20181224_212826.csv\n",
      "Saved trimmed data to /run/media/viblab/Markov2/Haykal/AnakKrakatauEWS/data/processed/I06AU_NON_EVENT/IM_det_354_20181224_213016_to_20181224_213021.csv\n",
      "Saved trimmed data to /run/media/viblab/Markov2/Haykal/AnakKrakatauEWS/data/processed/I06AU_NON_EVENT/IM_det_355_20181224_213831_to_20181224_213841.csv\n",
      "Saved trimmed data to /run/media/viblab/Markov2/Haykal/AnakKrakatauEWS/data/processed/I06AU_NON_EVENT/IM_det_356_20181224_214131_to_20181224_214146.csv\n",
      "Saved trimmed data to /run/media/viblab/Markov2/Haykal/AnakKrakatauEWS/data/processed/I06AU_NON_EVENT/IM_det_357_20181224_214331_to_20181224_214346.csv\n",
      "Saved trimmed data to /run/media/viblab/Markov2/Haykal/AnakKrakatauEWS/data/processed/I06AU_NON_EVENT/IM_det_358_20181224_220131_to_20181224_220136.csv\n",
      "Saved trimmed data to /run/media/viblab/Markov2/Haykal/AnakKrakatauEWS/data/processed/I06AU_NON_EVENT/IM_det_359_20181224_223201_to_20181224_223216.csv\n",
      "Saved trimmed data to /run/media/viblab/Markov2/Haykal/AnakKrakatauEWS/data/processed/I06AU_NON_EVENT/IM_det_360_20181224_223231_to_20181224_223236.csv\n",
      "Saved trimmed data to /run/media/viblab/Markov2/Haykal/AnakKrakatauEWS/data/processed/I06AU_NON_EVENT/IM_det_361_20181224_224011_to_20181224_224026.csv\n"
     ]
    },
    {
     "name": "stderr",
     "output_type": "stream",
     "text": []
    },
    {
     "name": "stdout",
     "output_type": "stream",
     "text": [
      "Saved trimmed data to /run/media/viblab/Markov2/Haykal/AnakKrakatauEWS/data/processed/I06AU_NON_EVENT/IM_det_362_20181224_224051_to_20181224_224056.csv\n",
      "Saved trimmed data to /run/media/viblab/Markov2/Haykal/AnakKrakatauEWS/data/processed/I06AU_NON_EVENT/IM_det_363_20181224_224246_to_20181224_224311.csv\n",
      "Saved trimmed data to /run/media/viblab/Markov2/Haykal/AnakKrakatauEWS/data/processed/I06AU_NON_EVENT/IM_det_364_20181224_224931_to_20181224_224936.csv\n",
      "Saved trimmed data to /run/media/viblab/Markov2/Haykal/AnakKrakatauEWS/data/processed/I06AU_NON_EVENT/IM_det_365_20181224_225311_to_20181224_225326.csv\n",
      "Saved trimmed data to /run/media/viblab/Markov2/Haykal/AnakKrakatauEWS/data/processed/I06AU_NON_EVENT/IM_det_366_20181224_230531_to_20181224_230536.csv\n",
      "Saved trimmed data to /run/media/viblab/Markov2/Haykal/AnakKrakatauEWS/data/processed/I06AU_NON_EVENT/IM_det_367_20181224_231551_to_20181224_231621.csv\n",
      "Saved trimmed data to /run/media/viblab/Markov2/Haykal/AnakKrakatauEWS/data/processed/I06AU_NON_EVENT/IM_det_368_20181224_233051_to_20181224_233106.csv\n",
      "Saved trimmed data to /run/media/viblab/Markov2/Haykal/AnakKrakatauEWS/data/processed/I06AU_NON_EVENT/IM_det_369_20181224_233321_to_20181224_233331.csv\n",
      "Saved trimmed data to /run/media/viblab/Markov2/Haykal/AnakKrakatauEWS/data/processed/I06AU_NON_EVENT/IM_det_370_20181224_233451_to_20181224_233456.csv\n",
      "Saved trimmed data to /run/media/viblab/Markov2/Haykal/AnakKrakatauEWS/data/processed/I06AU_NON_EVENT/IM_det_371_20181224_233641_to_20181224_233701.csv\n",
      "Saved trimmed data to /run/media/viblab/Markov2/Haykal/AnakKrakatauEWS/data/processed/I06AU_NON_EVENT/IM_det_372_20181224_233841_to_20181224_233856.csv\n",
      "Saved trimmed data to /run/media/viblab/Markov2/Haykal/AnakKrakatauEWS/data/processed/I06AU_NON_EVENT/IM_det_373_20181224_234251_to_20181224_234331.csv\n",
      "Saved trimmed data to /run/media/viblab/Markov2/Haykal/AnakKrakatauEWS/data/processed/I06AU_NON_EVENT/IM_det_374_20181224_234436_to_20181224_234441.csv\n",
      "Saved trimmed data to /run/media/viblab/Markov2/Haykal/AnakKrakatauEWS/data/processed/I06AU_NON_EVENT/IM_det_375_20181224_234511_to_20181224_234526.csv\n",
      "Saved trimmed data to /run/media/viblab/Markov2/Haykal/AnakKrakatauEWS/data/processed/I06AU_NON_EVENT/IM_det_376_20181224_234651_to_20181224_234701.csv\n",
      "Saved trimmed data to /run/media/viblab/Markov2/Haykal/AnakKrakatauEWS/data/processed/I06AU_NON_EVENT/IM_det_377_20181224_235031_to_20181224_235041.csv\n",
      "Saved trimmed data to /run/media/viblab/Markov2/Haykal/AnakKrakatauEWS/data/processed/I06AU_NON_EVENT/IM_det_378_20181224_235921_to_20181224_235926.csv\n"
     ]
    },
    {
     "name": "stderr",
     "output_type": "stream",
     "text": [
      "Processing CSV files:  74%|███████▍  | 322/436 [37:11<07:47,  4.10s/it]"
     ]
    },
    {
     "name": "stdout",
     "output_type": "stream",
     "text": [
      "Saved trimmed data to /run/media/viblab/Markov2/Haykal/AnakKrakatauEWS/data/processed/I06AU_NON_EVENT/IM_det_526_20190202_151009_to_20190202_151014.csv\n",
      "Saved trimmed data to /run/media/viblab/Markov2/Haykal/AnakKrakatauEWS/data/processed/I06AU_NON_EVENT/IM_det_527_20190202_160059_to_20190202_160104.csv\n",
      "Saved trimmed data to /run/media/viblab/Markov2/Haykal/AnakKrakatauEWS/data/processed/I06AU_NON_EVENT/IM_det_528_20190202_162924_to_20190202_162934.csv\n",
      "Saved trimmed data to /run/media/viblab/Markov2/Haykal/AnakKrakatauEWS/data/processed/I06AU_NON_EVENT/IM_det_529_20190202_164424_to_20190202_164429.csv\n",
      "Saved trimmed data to /run/media/viblab/Markov2/Haykal/AnakKrakatauEWS/data/processed/I06AU_NON_EVENT/IM_det_530_20190202_181134_to_20190202_181139.csv\n",
      "Saved trimmed data to /run/media/viblab/Markov2/Haykal/AnakKrakatauEWS/data/processed/I06AU_NON_EVENT/IM_det_531_20190202_185154_to_20190202_185159.csv\n"
     ]
    },
    {
     "name": "stderr",
     "output_type": "stream",
     "text": [
      "Processing CSV files:  75%|███████▍  | 325/436 [37:28<09:26,  5.11s/it]"
     ]
    },
    {
     "name": "stdout",
     "output_type": "stream",
     "text": [
      "Saved trimmed data to /run/media/viblab/Markov2/Haykal/AnakKrakatauEWS/data/processed/I06AU_NON_EVENT/IM_det_538_20190308_105657_to_20190308_105702.csv\n",
      "Saved trimmed data to /run/media/viblab/Markov2/Haykal/AnakKrakatauEWS/data/processed/I06AU_NON_EVENT/IM_det_539_20190308_214827_to_20190308_214832.csv\n",
      "Saved trimmed data to /run/media/viblab/Markov2/Haykal/AnakKrakatauEWS/data/processed/I06AU_NON_EVENT/IM_det_540_20190308_215327_to_20190308_215332.csv\n"
     ]
    },
    {
     "name": "stderr",
     "output_type": "stream",
     "text": [
      "Processing CSV files:  77%|███████▋  | 335/436 [38:19<07:57,  4.72s/it]"
     ]
    },
    {
     "name": "stdout",
     "output_type": "stream",
     "text": [
      "Saved trimmed data to /run/media/viblab/Markov2/Haykal/AnakKrakatauEWS/data/processed/I06AU_NON_EVENT/IM_det_550_20190326_025638_to_20190326_025648.csv\n",
      "Saved trimmed data to /run/media/viblab/Markov2/Haykal/AnakKrakatauEWS/data/processed/I06AU_NON_EVENT/IM_det_551_20190326_032413_to_20190326_032418.csv\n",
      "Saved trimmed data to /run/media/viblab/Markov2/Haykal/AnakKrakatauEWS/data/processed/I06AU_NON_EVENT/IM_det_552_20190326_033033_to_20190326_033038.csv\n",
      "Saved trimmed data to /run/media/viblab/Markov2/Haykal/AnakKrakatauEWS/data/processed/I06AU_NON_EVENT/IM_det_553_20190326_034513_to_20190326_034518.csv\n",
      "Saved trimmed data to /run/media/viblab/Markov2/Haykal/AnakKrakatauEWS/data/processed/I06AU_NON_EVENT/IM_det_554_20190326_034918_to_20190326_034923.csv\n",
      "Saved trimmed data to /run/media/viblab/Markov2/Haykal/AnakKrakatauEWS/data/processed/I06AU_NON_EVENT/IM_det_555_20190326_134053_to_20190326_134058.csv\n",
      "Saved trimmed data to /run/media/viblab/Markov2/Haykal/AnakKrakatauEWS/data/processed/I06AU_NON_EVENT/IM_det_556_20190326_150313_to_20190326_150323.csv\n",
      "Saved trimmed data to /run/media/viblab/Markov2/Haykal/AnakKrakatauEWS/data/processed/I06AU_NON_EVENT/IM_det_557_20190326_150643_to_20190326_150648.csv\n"
     ]
    },
    {
     "name": "stderr",
     "output_type": "stream",
     "text": [
      "Processing CSV files:  79%|███████▉  | 345/436 [39:01<06:17,  4.15s/it]"
     ]
    },
    {
     "name": "stdout",
     "output_type": "stream",
     "text": [
      "Saved trimmed data to /run/media/viblab/Markov2/Haykal/AnakKrakatauEWS/data/processed/I06AU_NON_EVENT/IM_det_145_20181007_111950_to_20181007_112000.csv\n",
      "Saved trimmed data to /run/media/viblab/Markov2/Haykal/AnakKrakatauEWS/data/processed/I06AU_NON_EVENT/IM_det_146_20181007_112025_to_20181007_112035.csv\n",
      "Saved trimmed data to /run/media/viblab/Markov2/Haykal/AnakKrakatauEWS/data/processed/I06AU_NON_EVENT/IM_det_147_20181007_112220_to_20181007_112225.csv\n"
     ]
    },
    {
     "name": "stderr",
     "output_type": "stream",
     "text": [
      "Processing CSV files:  82%|████████▏ | 357/436 [39:54<05:50,  4.43s/it]"
     ]
    },
    {
     "name": "stdout",
     "output_type": "stream",
     "text": [
      "Saved trimmed data to /run/media/viblab/Markov2/Haykal/AnakKrakatauEWS/data/processed/I06AU_NON_EVENT/IM_det_188_20181130_213300_to_20181130_213305.csv\n",
      "Saved trimmed data to /run/media/viblab/Markov2/Haykal/AnakKrakatauEWS/data/processed/I06AU_NON_EVENT/IM_det_189_20181130_213315_to_20181130_213325.csv\n",
      "Saved trimmed data to /run/media/viblab/Markov2/Haykal/AnakKrakatauEWS/data/processed/I06AU_NON_EVENT/IM_det_190_20181130_213430_to_20181130_213445.csv\n",
      "Saved trimmed data to /run/media/viblab/Markov2/Haykal/AnakKrakatauEWS/data/processed/I06AU_NON_EVENT/IM_det_191_20181130_213605_to_20181130_213640.csv\n",
      "Saved trimmed data to /run/media/viblab/Markov2/Haykal/AnakKrakatauEWS/data/processed/I06AU_NON_EVENT/IM_det_192_20181130_213725_to_20181130_213745.csv\n",
      "Saved trimmed data to /run/media/viblab/Markov2/Haykal/AnakKrakatauEWS/data/processed/I06AU_NON_EVENT/IM_det_193_20181130_224045_to_20181130_224050.csv\n"
     ]
    },
    {
     "name": "stderr",
     "output_type": "stream",
     "text": [
      "Processing CSV files:  84%|████████▎ | 365/436 [40:41<08:46,  7.41s/it]"
     ]
    },
    {
     "name": "stdout",
     "output_type": "stream",
     "text": [
      "Saved trimmed data to /run/media/viblab/Markov2/Haykal/AnakKrakatauEWS/data/processed/I06AU_NON_EVENT/IM_det_148_20181008_073024_to_20181008_202544.csv\n"
     ]
    },
    {
     "name": "stderr",
     "output_type": "stream",
     "text": [
      "Processing CSV files:  88%|████████▊ | 383/436 [41:57<03:03,  3.47s/it]"
     ]
    },
    {
     "name": "stdout",
     "output_type": "stream",
     "text": [
      "Saved trimmed data to /run/media/viblab/Markov2/Haykal/AnakKrakatauEWS/data/processed/I06AU_NON_EVENT/IM_det_140_20180812_184112_to_20180812_184127.csv\n",
      "Saved trimmed data to /run/media/viblab/Markov2/Haykal/AnakKrakatauEWS/data/processed/I06AU_NON_EVENT/IM_det_141_20180812_184317_to_20180812_184327.csv\n"
     ]
    },
    {
     "name": "stderr",
     "output_type": "stream",
     "text": [
      "Processing CSV files:  90%|█████████ | 393/436 [42:46<03:32,  4.95s/it]"
     ]
    },
    {
     "name": "stdout",
     "output_type": "stream",
     "text": [
      "Saved trimmed data to /run/media/viblab/Markov2/Haykal/AnakKrakatauEWS/data/processed/I06AU_NON_EVENT/IM_det_172_20181030_065554_to_20181030_065559.csv\n"
     ]
    },
    {
     "name": "stderr",
     "output_type": "stream",
     "text": [
      "Processing CSV files:  92%|█████████▏| 400/436 [43:25<03:28,  5.79s/it]"
     ]
    },
    {
     "name": "stdout",
     "output_type": "stream",
     "text": [
      "Saved trimmed data to /run/media/viblab/Markov2/Haykal/AnakKrakatauEWS/data/processed/I06AU_NON_EVENT/IM_det_181_20181120_101855_to_20181120_101905.csv\n",
      "Saved trimmed data to /run/media/viblab/Markov2/Haykal/AnakKrakatauEWS/data/processed/I06AU_NON_EVENT/IM_det_182_20181120_101950_to_20181120_101955.csv\n"
     ]
    },
    {
     "name": "stderr",
     "output_type": "stream",
     "text": [
      "Processing CSV files:  92%|█████████▏| 402/436 [43:34<02:52,  5.07s/it]"
     ]
    },
    {
     "name": "stdout",
     "output_type": "stream",
     "text": [
      "Saved trimmed data to /run/media/viblab/Markov2/Haykal/AnakKrakatauEWS/data/processed/I06AU_NON_EVENT/IM_det_476_20190110_203650_to_20190110_203700.csv\n",
      "Saved trimmed data to /run/media/viblab/Markov2/Haykal/AnakKrakatauEWS/data/processed/I06AU_NON_EVENT/IM_det_477_20190110_205010_to_20190110_205015.csv\n",
      "Saved trimmed data to /run/media/viblab/Markov2/Haykal/AnakKrakatauEWS/data/processed/I06AU_NON_EVENT/IM_det_478_20190110_210115_to_20190110_210120.csv\n",
      "Saved trimmed data to /run/media/viblab/Markov2/Haykal/AnakKrakatauEWS/data/processed/I06AU_NON_EVENT/IM_det_479_20190110_210415_to_20190110_210420.csv\n",
      "Saved trimmed data to /run/media/viblab/Markov2/Haykal/AnakKrakatauEWS/data/processed/I06AU_NON_EVENT/IM_det_480_20190110_210650_to_20190110_210655.csv\n",
      "Saved trimmed data to /run/media/viblab/Markov2/Haykal/AnakKrakatauEWS/data/processed/I06AU_NON_EVENT/IM_det_481_20190110_210825_to_20190110_210830.csv\n",
      "Saved trimmed data to /run/media/viblab/Markov2/Haykal/AnakKrakatauEWS/data/processed/I06AU_NON_EVENT/IM_det_482_20190110_211005_to_20190110_211015.csv\n",
      "Saved trimmed data to /run/media/viblab/Markov2/Haykal/AnakKrakatauEWS/data/processed/I06AU_NON_EVENT/IM_det_483_20190110_211335_to_20190110_211340.csv\n",
      "Saved trimmed data to /run/media/viblab/Markov2/Haykal/AnakKrakatauEWS/data/processed/I06AU_NON_EVENT/IM_det_484_20190110_211520_to_20190110_211545.csv\n",
      "Saved trimmed data to /run/media/viblab/Markov2/Haykal/AnakKrakatauEWS/data/processed/I06AU_NON_EVENT/IM_det_485_20190110_212340_to_20190110_212345.csv\n",
      "Saved trimmed data to /run/media/viblab/Markov2/Haykal/AnakKrakatauEWS/data/processed/I06AU_NON_EVENT/IM_det_486_20190110_212710_to_20190110_212715.csv\n",
      "Saved trimmed data to /run/media/viblab/Markov2/Haykal/AnakKrakatauEWS/data/processed/I06AU_NON_EVENT/IM_det_487_20190110_213255_to_20190110_213305.csv\n"
     ]
    },
    {
     "name": "stderr",
     "output_type": "stream",
     "text": [
      "Processing CSV files:  94%|█████████▍| 410/436 [44:05<02:03,  4.75s/it]"
     ]
    },
    {
     "name": "stdout",
     "output_type": "stream",
     "text": [
      "Saved trimmed data to /run/media/viblab/Markov2/Haykal/AnakKrakatauEWS/data/processed/I06AU_NON_EVENT/IM_det_535_20190215_175931_to_20190215_175936.csv\n"
     ]
    },
    {
     "name": "stderr",
     "output_type": "stream",
     "text": [
      "Processing CSV files: 100%|██████████| 436/436 [45:44<00:00,  6.29s/it]\n"
     ]
    }
   ],
   "source": [
    "csv_folder = '/run/media/viblab/Markov2/Haykal/AnakKrakatauEWS/data/raw/I06AU/I06AU_CSV'\n",
    "detection_json = '/run/media/viblab/Markov2/Haykal/AnakKrakatauEWS/data/Uncofirmed_events.json'\n",
    "output_folder = '/run/media/viblab/Markov2/Haykal/AnakKrakatauEWS/data/processed/I06AU_NON_EVENT'\n",
    "\n",
    "extract_det_from_csv(csv_folder, detection_json, output_folder)"
   ]
  }
 ],
 "metadata": {
  "kernelspec": {
   "display_name": "infrapy_env",
   "language": "python",
   "name": "python3"
  },
  "language_info": {
   "codemirror_mode": {
    "name": "ipython",
    "version": 3
   },
   "file_extension": ".py",
   "mimetype": "text/x-python",
   "name": "python",
   "nbconvert_exporter": "python",
   "pygments_lexer": "ipython3",
   "version": "3.9.17"
  }
 },
 "nbformat": 4,
 "nbformat_minor": 2
}
